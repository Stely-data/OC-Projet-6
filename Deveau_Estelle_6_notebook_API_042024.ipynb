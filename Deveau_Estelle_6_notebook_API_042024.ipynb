{
 "cells": [
  {
   "cell_type": "markdown",
   "id": "86ff299c-d034-4fc0-bd3a-291cf5095561",
   "metadata": {},
   "source": [
    "<b><font color=\"SteelBlue\" size=\"+3\">Classifiez automatiquement des biens de consommation</font></b>"
   ]
  },
  {
   "cell_type": "markdown",
   "id": "651b67f0-fcd5-44d4-b557-ebd616f5b757",
   "metadata": {},
   "source": [
    "# Introduction"
   ]
  },
  {
   "cell_type": "markdown",
   "id": "03d3d1e9-ee0c-4d2b-a52c-3a741cf144f1",
   "metadata": {},
   "source": [
    "Dans le cadre de son initiative d'expansion dans le secteur de l'épicerie fine, \"Place du marché\" cherche à enrichir sa gamme de produits en intégrant des articles, tels que des produits à base de champagne. Ce notebook Python a été conçu pour faciliter la collecte de données précises sur ces produits via l'API d'Edamam. L'objectif est de filtrer, collecter, et organiser des informations détaillées sur les dix premiers produits pertinents, y compris leur identifiant, description, catégorie, composition, et image. Ces informations permettront à \"Place du marché\" de mieux comprendre les options disponibles et de sélectionner les produits les plus prometteurs pour les introduire à sa clientèle. Les résultats de ce processus de collecte de données seront sauvegardés dans un fichier CSV pour une analyse ultérieure."
   ]
  },
  {
   "cell_type": "code",
   "execution_count": 2,
   "id": "7a7f676d-e6e2-4715-be41-bbbb9f87ec31",
   "metadata": {},
   "outputs": [],
   "source": [
    "import requests\n",
    "import pandas as pd"
   ]
  },
  {
   "cell_type": "code",
   "execution_count": 9,
   "id": "2876ffa6-ce03-41b7-a121-651a685cd24d",
   "metadata": {},
   "outputs": [],
   "source": [
    "def fetch_champagne_products(api_key):\n",
    "    url = \"https://edamam-food-and-grocery-database.p.rapidapi.com/api/food-database/v2/parser\"\n",
    "    query = {\n",
    "        \"ingr\": \"champagne\"\n",
    "    }\n",
    "    headers = {\n",
    "        'x-rapidapi-host': \"edamam-food-and-grocery-database.p.rapidapi.com\",\n",
    "        'x-rapidapi-key': api_key\n",
    "    }\n",
    "    \n",
    "    response = requests.get(url, headers=headers, params=query)\n",
    "    if response.status_code == 200:\n",
    "        return response.json()\n",
    "    else:\n",
    "        return None"
   ]
  },
  {
   "cell_type": "markdown",
   "id": "bc66360f-e028-4ae4-9ad7-5749236725d5",
   "metadata": {},
   "source": [
    "![Exemple](exemple.jpg)"
   ]
  },
  {
   "cell_type": "code",
   "execution_count": 10,
   "id": "08c202e1-f6ca-44be-a489-9c28f7bbb0b4",
   "metadata": {},
   "outputs": [],
   "source": [
    "def extract_product_info(products_data):\n",
    "    products_list = products_data['hints']\n",
    "    product_details = []\n",
    "    for product in products_list:\n",
    "        food = product['food']\n",
    "        product_info = {\n",
    "            'foodId': food['foodId'],\n",
    "            'label': food.get('label', ''),\n",
    "            'category': food.get('category', ''),\n",
    "            'foodContentsLabel': food.get('foodContentsLabel', ''),\n",
    "            'image': food.get('image', '')\n",
    "        }\n",
    "        product_details.append(product_info)\n",
    "    return product_details"
   ]
  },
  {
   "cell_type": "code",
   "execution_count": 11,
   "id": "d91beb5d-30ac-4b93-a560-9ce328c3e6c4",
   "metadata": {},
   "outputs": [
    {
     "name": "stdout",
     "output_type": "stream",
     "text": [
      "Fichier CSV créé avec succès.\n"
     ]
    }
   ],
   "source": [
    "api_key = '3455486a69msh08d1db6cd93b0aep1c45fajsn450422a9b5b7'\n",
    "products_data = fetch_champagne_products(api_key)\n",
    "if products_data:\n",
    "    product_details = extract_product_info(products_data)\n",
    "    df = pd.DataFrame(product_details[:10])  # Limite à 10 produits\n",
    "    df.to_csv('champagne_products.csv', index=False)\n",
    "    print(\"Fichier CSV créé avec succès.\")\n",
    "else:\n",
    "    print(\"Échec de la récupération des données.\")"
   ]
  },
  {
   "cell_type": "code",
   "execution_count": 13,
   "id": "25957c22-9c0b-43b0-8e01-f92901ce01da",
   "metadata": {},
   "outputs": [
    {
     "data": {
      "text/html": [
       "<div>\n",
       "<style scoped>\n",
       "    .dataframe tbody tr th:only-of-type {\n",
       "        vertical-align: middle;\n",
       "    }\n",
       "\n",
       "    .dataframe tbody tr th {\n",
       "        vertical-align: top;\n",
       "    }\n",
       "\n",
       "    .dataframe thead th {\n",
       "        text-align: right;\n",
       "    }\n",
       "</style>\n",
       "<table border=\"1\" class=\"dataframe\">\n",
       "  <thead>\n",
       "    <tr style=\"text-align: right;\">\n",
       "      <th></th>\n",
       "      <th>foodId</th>\n",
       "      <th>label</th>\n",
       "      <th>category</th>\n",
       "      <th>foodContentsLabel</th>\n",
       "      <th>image</th>\n",
       "    </tr>\n",
       "  </thead>\n",
       "  <tbody>\n",
       "    <tr>\n",
       "      <th>0</th>\n",
       "      <td>food_a656mk2a5dmqb2adiamu6beihduu</td>\n",
       "      <td>Champagne</td>\n",
       "      <td>Generic foods</td>\n",
       "      <td></td>\n",
       "      <td>https://www.edamam.com/food-img/a71/a718cf3c52...</td>\n",
       "    </tr>\n",
       "    <tr>\n",
       "      <th>1</th>\n",
       "      <td>food_b753ithamdb8psbt0w2k9aquo06c</td>\n",
       "      <td>Champagne Vinaigrette, Champagne</td>\n",
       "      <td>Packaged foods</td>\n",
       "      <td>OLIVE OIL; BALSAMIC VINEGAR; CHAMPAGNE VINEGAR...</td>\n",
       "      <td></td>\n",
       "    </tr>\n",
       "    <tr>\n",
       "      <th>2</th>\n",
       "      <td>food_b3dyababjo54xobm6r8jzbghjgqe</td>\n",
       "      <td>Champagne Vinaigrette, Champagne</td>\n",
       "      <td>Packaged foods</td>\n",
       "      <td>INGREDIENTS: WATER; CANOLA OIL; CHAMPAGNE VINE...</td>\n",
       "      <td>https://www.edamam.com/food-img/d88/d88b64d973...</td>\n",
       "    </tr>\n",
       "    <tr>\n",
       "      <th>3</th>\n",
       "      <td>food_a9e0ghsamvoc45bwa2ybsa3gken9</td>\n",
       "      <td>Champagne Vinaigrette, Champagne</td>\n",
       "      <td>Packaged foods</td>\n",
       "      <td>CANOLA AND SOYBEAN OIL; WHITE WINE (CONTAINS S...</td>\n",
       "      <td></td>\n",
       "    </tr>\n",
       "    <tr>\n",
       "      <th>4</th>\n",
       "      <td>food_an4jjueaucpus2a3u1ni8auhe7q9</td>\n",
       "      <td>Champagne Vinaigrette, Champagne</td>\n",
       "      <td>Packaged foods</td>\n",
       "      <td>WATER; CANOLA AND SOYBEAN OIL; WHITE WINE (CON...</td>\n",
       "      <td></td>\n",
       "    </tr>\n",
       "    <tr>\n",
       "      <th>5</th>\n",
       "      <td>food_bmu5dmkazwuvpaa5prh1daa8jxs0</td>\n",
       "      <td>Champagne Dressing, Champagne</td>\n",
       "      <td>Packaged foods</td>\n",
       "      <td>SOYBEAN OIL; WHITE WINE (PRESERVED WITH SULFIT...</td>\n",
       "      <td>https://www.edamam.com/food-img/ab2/ab2459fc2a...</td>\n",
       "    </tr>\n",
       "    <tr>\n",
       "      <th>6</th>\n",
       "      <td>food_alpl44taoyv11ra0lic1qa8xculi</td>\n",
       "      <td>Champagne Buttercream</td>\n",
       "      <td>Generic meals</td>\n",
       "      <td>sugar; butter; shortening; vanilla; champagne;...</td>\n",
       "      <td></td>\n",
       "    </tr>\n",
       "    <tr>\n",
       "      <th>7</th>\n",
       "      <td>food_byap67hab6evc3a0f9w1oag3s0qf</td>\n",
       "      <td>Champagne Sorbet</td>\n",
       "      <td>Generic meals</td>\n",
       "      <td>Sugar; Lemon juice; brandy; Champagne; Peach</td>\n",
       "      <td></td>\n",
       "    </tr>\n",
       "    <tr>\n",
       "      <th>8</th>\n",
       "      <td>food_am5egz6aq3fpjlaf8xpkdbc2asis</td>\n",
       "      <td>Champagne Truffles</td>\n",
       "      <td>Generic meals</td>\n",
       "      <td>butter; cocoa; sweetened condensed milk; vanil...</td>\n",
       "      <td></td>\n",
       "    </tr>\n",
       "    <tr>\n",
       "      <th>9</th>\n",
       "      <td>food_bcz8rhiajk1fuva0vkfmeakbouc0</td>\n",
       "      <td>Champagne Vinaigrette</td>\n",
       "      <td>Generic meals</td>\n",
       "      <td>champagne vinegar; olive oil; Dijon mustard; s...</td>\n",
       "      <td></td>\n",
       "    </tr>\n",
       "  </tbody>\n",
       "</table>\n",
       "</div>"
      ],
      "text/plain": [
       "                              foodId                             label  \\\n",
       "0  food_a656mk2a5dmqb2adiamu6beihduu                         Champagne   \n",
       "1  food_b753ithamdb8psbt0w2k9aquo06c  Champagne Vinaigrette, Champagne   \n",
       "2  food_b3dyababjo54xobm6r8jzbghjgqe  Champagne Vinaigrette, Champagne   \n",
       "3  food_a9e0ghsamvoc45bwa2ybsa3gken9  Champagne Vinaigrette, Champagne   \n",
       "4  food_an4jjueaucpus2a3u1ni8auhe7q9  Champagne Vinaigrette, Champagne   \n",
       "5  food_bmu5dmkazwuvpaa5prh1daa8jxs0     Champagne Dressing, Champagne   \n",
       "6  food_alpl44taoyv11ra0lic1qa8xculi             Champagne Buttercream   \n",
       "7  food_byap67hab6evc3a0f9w1oag3s0qf                  Champagne Sorbet   \n",
       "8  food_am5egz6aq3fpjlaf8xpkdbc2asis                Champagne Truffles   \n",
       "9  food_bcz8rhiajk1fuva0vkfmeakbouc0             Champagne Vinaigrette   \n",
       "\n",
       "         category                                  foodContentsLabel  \\\n",
       "0   Generic foods                                                      \n",
       "1  Packaged foods  OLIVE OIL; BALSAMIC VINEGAR; CHAMPAGNE VINEGAR...   \n",
       "2  Packaged foods  INGREDIENTS: WATER; CANOLA OIL; CHAMPAGNE VINE...   \n",
       "3  Packaged foods  CANOLA AND SOYBEAN OIL; WHITE WINE (CONTAINS S...   \n",
       "4  Packaged foods  WATER; CANOLA AND SOYBEAN OIL; WHITE WINE (CON...   \n",
       "5  Packaged foods  SOYBEAN OIL; WHITE WINE (PRESERVED WITH SULFIT...   \n",
       "6   Generic meals  sugar; butter; shortening; vanilla; champagne;...   \n",
       "7   Generic meals       Sugar; Lemon juice; brandy; Champagne; Peach   \n",
       "8   Generic meals  butter; cocoa; sweetened condensed milk; vanil...   \n",
       "9   Generic meals  champagne vinegar; olive oil; Dijon mustard; s...   \n",
       "\n",
       "                                               image  \n",
       "0  https://www.edamam.com/food-img/a71/a718cf3c52...  \n",
       "1                                                     \n",
       "2  https://www.edamam.com/food-img/d88/d88b64d973...  \n",
       "3                                                     \n",
       "4                                                     \n",
       "5  https://www.edamam.com/food-img/ab2/ab2459fc2a...  \n",
       "6                                                     \n",
       "7                                                     \n",
       "8                                                     \n",
       "9                                                     "
      ]
     },
     "execution_count": 13,
     "metadata": {},
     "output_type": "execute_result"
    }
   ],
   "source": [
    "df.head(11)"
   ]
  },
  {
   "cell_type": "code",
   "execution_count": null,
   "id": "a1eda685-b56e-47ba-aee4-02ccf1764c59",
   "metadata": {},
   "outputs": [],
   "source": []
  }
 ],
 "metadata": {
  "kernelspec": {
   "display_name": "Python 3 (ipykernel)",
   "language": "python",
   "name": "python3"
  },
  "language_info": {
   "codemirror_mode": {
    "name": "ipython",
    "version": 3
   },
   "file_extension": ".py",
   "mimetype": "text/x-python",
   "name": "python",
   "nbconvert_exporter": "python",
   "pygments_lexer": "ipython3",
   "version": "3.12.0"
  }
 },
 "nbformat": 4,
 "nbformat_minor": 5
}
