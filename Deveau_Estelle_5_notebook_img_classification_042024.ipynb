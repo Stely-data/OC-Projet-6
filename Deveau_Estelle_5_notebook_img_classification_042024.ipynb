{
 "cells": [
  {
   "cell_type": "markdown",
   "id": "f105fbed-3cf1-42fb-aa2c-bf1dfaee6f5a",
   "metadata": {},
   "source": [
    "<b><font color=\"SteelBlue\" size=\"+3\">Classifiez automatiquement des biens de consommation</font></b>"
   ]
  },
  {
   "cell_type": "markdown",
   "id": "5c3ecccb-d303-4f80-83fe-4dacb82dc07b",
   "metadata": {},
   "source": [
    "# Introduction"
   ]
  },
  {
   "cell_type": "markdown",
   "id": "30a3d070-048b-4807-8977-30dbe4e240c7",
   "metadata": {},
   "source": [
    "Ce notebook est la suite de celui sur le traitement des descriptions. On récupère les données nettoyées pour les catégories des produits."
   ]
  },
  {
   "cell_type": "markdown",
   "id": "4921c1bd-b2f0-4f93-aeee-0715f899f711",
   "metadata": {},
   "source": [
    "## Imports"
   ]
  },
  {
   "cell_type": "code",
   "execution_count": 1,
   "id": "bb4f0271-1e10-4c6f-9551-57ea20d9c8d3",
   "metadata": {},
   "outputs": [],
   "source": [
    "# Chargement des librairies\n",
    "# Standard\n",
    "import os\n",
    "\n",
    "# Data Manipulation and Analysis\n",
    "import pandas as pd\n",
    "import numpy as np\n",
    "from sklearn.preprocessing import LabelEncoder\n",
    "from sklearn.model_selection import train_test_split\n",
    "\n",
    "# Visualization\n",
    "import matplotlib.pyplot as plt\n",
    "import seaborn as sns\n",
    "\n",
    "# Image Processing\n",
    "from matplotlib.image import imread\n",
    "from PIL import Image as PilImage\n",
    "\n",
    "# Deep Learning - TensorFlow/Keras\n",
    "os.environ[\"KERAS_BACKEND\"] = \"torch\"\n",
    "import tensorflow as tf\n",
    "from tensorflow.keras.applications.vgg16 import preprocess_input as preprocess_vgg16\n",
    "from tensorflow.keras.applications.inception_resnet_v2 import preprocess_input as preprocess_inceptionresnetv2\n",
    "from tensorflow.keras.applications.densenet import preprocess_input as preprocess_densenet201\n",
    "from tensorflow.keras.utils import to_categorical\n",
    "\n",
    "# Custom Modules\n",
    "from Deveau_Estelle_4_IMG_func_042024 import *"
   ]
  },
  {
   "cell_type": "markdown",
   "id": "a89f1bb6-53d0-4efc-82c1-b035269391ef",
   "metadata": {},
   "source": [
    "## Data"
   ]
  },
  {
   "cell_type": "code",
   "execution_count": 2,
   "id": "86df606e-6b8a-47f3-bbe7-f34d5f0a5b11",
   "metadata": {},
   "outputs": [
    {
     "data": {
      "text/plain": [
       "['.ipynb_checkpoints',\n",
       " 'data',\n",
       " 'Deveau_Estelle_1_notebook_txt_faisabilite_042024.ipynb',\n",
       " 'Deveau_Estelle_2_NLP_func_042024.py',\n",
       " 'Deveau_Estelle_3_notebook_img_faisabilite_042024.ipynb',\n",
       " 'Deveau_Estelle_4_IMG_func_042024.py',\n",
       " 'Deveau_Estelle_5_notebook_img_classification_042024.ipynb',\n",
       " 'model_best.weights.h5',\n",
       " 'model_densenet201_best.weights.h5',\n",
       " 'model_inceptionresnetv2_best.weights.h5',\n",
       " 'model_vgg16_best.weights.h5',\n",
       " 'OC_projet6.pptx',\n",
       " 'pythonProject',\n",
       " 'svg',\n",
       " 'Weather_Images_CNN_Transfer_Learning_Stage_1_feasibility_V1.0.ipynb',\n",
       " 'Weather_Images_CNN_Transfer_Learning_Stage_2_supervised_classification_V1.0.ipynb',\n",
       " '__pycache__']"
      ]
     },
     "execution_count": 2,
     "metadata": {},
     "output_type": "execute_result"
    }
   ],
   "source": [
    "os.listdir()"
   ]
  },
  {
   "cell_type": "code",
   "execution_count": 3,
   "id": "0a3db40d-660c-49fe-a8b5-58307c30d33f",
   "metadata": {},
   "outputs": [
    {
     "data": {
      "text/plain": [
       "['data.csv']"
      ]
     },
     "execution_count": 3,
     "metadata": {},
     "output_type": "execute_result"
    }
   ],
   "source": [
    "os.listdir(\"data/Cleaned/\")"
   ]
  },
  {
   "cell_type": "code",
   "execution_count": 4,
   "id": "ebbe1e8a-1f51-4a87-99ee-2c712fe1fdb8",
   "metadata": {},
   "outputs": [],
   "source": [
    "path     = \"./data/Cleaned/\"\n",
    "filename = \"data.csv\""
   ]
  },
  {
   "cell_type": "code",
   "execution_count": 5,
   "id": "41c1a96b-b4ea-48a3-b878-c5482f7c690f",
   "metadata": {},
   "outputs": [],
   "source": [
    "data = pd.read_csv(path + filename)"
   ]
  },
  {
   "cell_type": "code",
   "execution_count": 6,
   "id": "8d37600a-66aa-4b58-98c0-17ba57ad2c4b",
   "metadata": {},
   "outputs": [
    {
     "name": "stdout",
     "output_type": "stream",
     "text": [
      "1050\n"
     ]
    }
   ],
   "source": [
    "path     = \"./data/Sources/Images/\"\n",
    "list_photos = [file for file in os.listdir(path)]\n",
    "print(len(list_photos))"
   ]
  },
  {
   "cell_type": "markdown",
   "id": "dea98bc1-c7cf-4f3d-bce2-c7b35748888c",
   "metadata": {},
   "source": [
    "# Classification supervisée"
   ]
  },
  {
   "cell_type": "code",
   "execution_count": 7,
   "id": "50216666-fc7a-4f76-970d-23fbdb04d6f9",
   "metadata": {},
   "outputs": [
    {
     "data": {
      "text/html": [
       "<div>\n",
       "<style scoped>\n",
       "    .dataframe tbody tr th:only-of-type {\n",
       "        vertical-align: middle;\n",
       "    }\n",
       "\n",
       "    .dataframe tbody tr th {\n",
       "        vertical-align: top;\n",
       "    }\n",
       "\n",
       "    .dataframe thead th {\n",
       "        text-align: right;\n",
       "    }\n",
       "</style>\n",
       "<table border=\"1\" class=\"dataframe\">\n",
       "  <thead>\n",
       "    <tr style=\"text-align: right;\">\n",
       "      <th></th>\n",
       "      <th>uniq_id</th>\n",
       "      <th>product_category</th>\n",
       "    </tr>\n",
       "  </thead>\n",
       "  <tbody>\n",
       "    <tr>\n",
       "      <th>0</th>\n",
       "      <td>55b85ea15a1536d46b7190ad6fff8ce7</td>\n",
       "      <td>Home Furnishing</td>\n",
       "    </tr>\n",
       "    <tr>\n",
       "      <th>1</th>\n",
       "      <td>7b72c92c2f6c40268628ec5f14c6d590</td>\n",
       "      <td>Baby Care</td>\n",
       "    </tr>\n",
       "    <tr>\n",
       "      <th>2</th>\n",
       "      <td>64d5d4a258243731dc7bbb1eef49ad74</td>\n",
       "      <td>Baby Care</td>\n",
       "    </tr>\n",
       "    <tr>\n",
       "      <th>3</th>\n",
       "      <td>d4684dcdc759dd9cdf41504698d737d8</td>\n",
       "      <td>Home Furnishing</td>\n",
       "    </tr>\n",
       "    <tr>\n",
       "      <th>4</th>\n",
       "      <td>6325b6870c54cd47be6ebfbffa620ec7</td>\n",
       "      <td>Home Furnishing</td>\n",
       "    </tr>\n",
       "  </tbody>\n",
       "</table>\n",
       "</div>"
      ],
      "text/plain": [
       "                            uniq_id product_category\n",
       "0  55b85ea15a1536d46b7190ad6fff8ce7  Home Furnishing\n",
       "1  7b72c92c2f6c40268628ec5f14c6d590        Baby Care\n",
       "2  64d5d4a258243731dc7bbb1eef49ad74        Baby Care\n",
       "3  d4684dcdc759dd9cdf41504698d737d8  Home Furnishing\n",
       "4  6325b6870c54cd47be6ebfbffa620ec7  Home Furnishing"
      ]
     },
     "execution_count": 7,
     "metadata": {},
     "output_type": "execute_result"
    }
   ],
   "source": [
    "cols_to_keep = ['uniq_id', 'product_category']\n",
    "df = data[cols_to_keep]\n",
    "df.head(5)"
   ]
  },
  {
   "cell_type": "code",
   "execution_count": 8,
   "id": "c595dd67-13b7-4e77-bc48-f69daced73b4",
   "metadata": {},
   "outputs": [],
   "source": [
    "image_paths = [f\"{path}{uid}.jpg\" for uid in df['uniq_id']]\n",
    "\n",
    "# Encodage des catégories\n",
    "label_encoder = LabelEncoder()\n",
    "categories_encoded = label_encoder.fit_transform(df['product_category'])\n",
    "category_names = label_encoder.classes_"
   ]
  },
  {
   "cell_type": "markdown",
   "id": "3a1d77d8-9f25-49c3-b688-144744f95450",
   "metadata": {},
   "source": [
    "## Séparation des jeux de données (train, val, test)"
   ]
  },
  {
   "cell_type": "code",
   "execution_count": 9,
   "id": "bb6d996a-e292-4443-9330-b8a3cedf2668",
   "metadata": {},
   "outputs": [],
   "source": [
    "y = to_categorical(categories_encoded, 7)"
   ]
  },
  {
   "cell_type": "code",
   "execution_count": 10,
   "id": "5b38d11a-2658-4c6e-8f77-42e5c0168c4b",
   "metadata": {},
   "outputs": [
    {
     "data": {
      "text/plain": [
       "array([[0., 0., 0., 0., 1., 0., 0.],\n",
       "       [1., 0., 0., 0., 0., 0., 0.],\n",
       "       [1., 0., 0., 0., 0., 0., 0.],\n",
       "       [0., 0., 0., 0., 1., 0., 0.],\n",
       "       [0., 0., 0., 0., 1., 0., 0.]])"
      ]
     },
     "execution_count": 10,
     "metadata": {},
     "output_type": "execute_result"
    }
   ],
   "source": [
    "y[:5]"
   ]
  },
  {
   "cell_type": "code",
   "execution_count": 11,
   "id": "d124dd0d-078e-4f1f-ad40-ae4f190af400",
   "metadata": {},
   "outputs": [],
   "source": [
    "# Diviser les chemins d'image et les étiquettes\n",
    "paths_train, paths_test, y_train, y_test = train_test_split(image_paths, y, test_size=0.2, random_state=42)\n",
    "paths_train, paths_val, y_train, y_val = train_test_split(paths_train, y_train, test_size=0.25, random_state=42)"
   ]
  },
  {
   "cell_type": "code",
   "execution_count": 12,
   "id": "561563c0-7d61-4b13-9a59-dadac0839736",
   "metadata": {},
   "outputs": [
    {
     "data": {
      "text/plain": [
       "array([[0., 0., 1., 0., 0., 0., 0.],\n",
       "       [0., 0., 0., 0., 0., 1., 0.],\n",
       "       [0., 0., 1., 0., 0., 0., 0.],\n",
       "       [0., 1., 0., 0., 0., 0., 0.],\n",
       "       [0., 0., 0., 0., 0., 0., 1.]])"
      ]
     },
     "execution_count": 12,
     "metadata": {},
     "output_type": "execute_result"
    }
   ],
   "source": [
    "y_test[:5]"
   ]
  },
  {
   "cell_type": "code",
   "execution_count": 13,
   "id": "4a0379ad-a27f-4d55-b7b4-022784eddded",
   "metadata": {},
   "outputs": [],
   "source": [
    "# Dictionnaire pour stocker les résultats\n",
    "results = {}"
   ]
  },
  {
   "cell_type": "markdown",
   "id": "78657f7c-c53a-4d6d-9343-163da34a541b",
   "metadata": {},
   "source": [
    "## Evaluation des modèles sélectionnés"
   ]
  },
  {
   "cell_type": "code",
   "execution_count": 14,
   "id": "e07845a3-b35d-4ca0-87e6-7b69a10e1acb",
   "metadata": {},
   "outputs": [],
   "source": [
    "# Définir le seuil à un niveau supérieur spécifique\n",
    "PilImage.MAX_IMAGE_PIXELS = 100000000"
   ]
  },
  {
   "cell_type": "markdown",
   "id": "be926cf2-7849-4691-9a8e-e34a1370db16",
   "metadata": {},
   "source": [
    "### VGG16"
   ]
  },
  {
   "cell_type": "code",
   "execution_count": 15,
   "id": "024d4f2a-cbb8-4fcb-bec4-cb89810a3614",
   "metadata": {},
   "outputs": [],
   "source": [
    "# Préparation des données\n",
    "X_train_vgg16, X_val_vgg16, X_test_vgg16 = prepare_data(paths_train, paths_val, paths_test, preprocess_vgg16,\n",
    "                                                        target_size=(224, 224, 3))"
   ]
  },
  {
   "cell_type": "code",
   "execution_count": 16,
   "id": "5e9f37f9-21bb-41a2-ab4e-b6224ef61387",
   "metadata": {},
   "outputs": [],
   "source": [
    "# Création du modèle\n",
    "model_vgg16 = create_model_fct(base_model_name='VGG16')"
   ]
  },
  {
   "cell_type": "code",
   "execution_count": 17,
   "id": "3981c122-d4a3-4067-b3cb-326d0ca3d47e",
   "metadata": {
    "scrolled": true
   },
   "outputs": [
    {
     "name": "stdout",
     "output_type": "stream",
     "text": [
      "Epoch 1/50\n",
      "\u001b[1m10/10\u001b[0m \u001b[32m━━━━━━━━━━━━━━━━━━━━\u001b[0m\u001b[37m\u001b[0m \u001b[1m0s\u001b[0m 244ms/step - accuracy: 0.3030 - loss: 7.3882\n",
      "Epoch 1: val_loss improved from inf to 1.72942, saving model to ./model_vgg16_best.weights.h5\n",
      "\u001b[1m10/10\u001b[0m \u001b[32m━━━━━━━━━━━━━━━━━━━━\u001b[0m\u001b[37m\u001b[0m \u001b[1m4s\u001b[0m 343ms/step - accuracy: 0.3124 - loss: 7.2331 - val_accuracy: 0.6667 - val_loss: 1.7294\n",
      "Epoch 2/50\n",
      "\u001b[1m10/10\u001b[0m \u001b[32m━━━━━━━━━━━━━━━━━━━━\u001b[0m\u001b[37m\u001b[0m \u001b[1m0s\u001b[0m 242ms/step - accuracy: 0.6883 - loss: 2.1748\n",
      "Epoch 2: val_loss improved from 1.72942 to 1.21963, saving model to ./model_vgg16_best.weights.h5\n",
      "\u001b[1m10/10\u001b[0m \u001b[32m━━━━━━━━━━━━━━━━━━━━\u001b[0m\u001b[37m\u001b[0m \u001b[1m3s\u001b[0m 339ms/step - accuracy: 0.6878 - loss: 2.1779 - val_accuracy: 0.7524 - val_loss: 1.2196\n",
      "Epoch 3/50\n",
      "\u001b[1m10/10\u001b[0m \u001b[32m━━━━━━━━━━━━━━━━━━━━\u001b[0m\u001b[37m\u001b[0m \u001b[1m0s\u001b[0m 242ms/step - accuracy: 0.7500 - loss: 1.7212\n",
      "Epoch 3: val_loss improved from 1.21963 to 1.03841, saving model to ./model_vgg16_best.weights.h5\n",
      "\u001b[1m10/10\u001b[0m \u001b[32m━━━━━━━━━━━━━━━━━━━━\u001b[0m\u001b[37m\u001b[0m \u001b[1m3s\u001b[0m 339ms/step - accuracy: 0.7490 - loss: 1.7149 - val_accuracy: 0.7857 - val_loss: 1.0384\n",
      "Epoch 4/50\n",
      "\u001b[1m10/10\u001b[0m \u001b[32m━━━━━━━━━━━━━━━━━━━━\u001b[0m\u001b[37m\u001b[0m \u001b[1m0s\u001b[0m 243ms/step - accuracy: 0.8108 - loss: 1.1967\n",
      "Epoch 4: val_loss did not improve from 1.03841\n",
      "\u001b[1m10/10\u001b[0m \u001b[32m━━━━━━━━━━━━━━━━━━━━\u001b[0m\u001b[37m\u001b[0m \u001b[1m3s\u001b[0m 333ms/step - accuracy: 0.8110 - loss: 1.1983 - val_accuracy: 0.7952 - val_loss: 1.0641\n",
      "Epoch 5/50\n",
      "\u001b[1m10/10\u001b[0m \u001b[32m━━━━━━━━━━━━━━━━━━━━\u001b[0m\u001b[37m\u001b[0m \u001b[1m0s\u001b[0m 244ms/step - accuracy: 0.7955 - loss: 1.1667\n",
      "Epoch 5: val_loss improved from 1.03841 to 1.00695, saving model to ./model_vgg16_best.weights.h5\n",
      "\u001b[1m10/10\u001b[0m \u001b[32m━━━━━━━━━━━━━━━━━━━━\u001b[0m\u001b[37m\u001b[0m \u001b[1m3s\u001b[0m 341ms/step - accuracy: 0.7975 - loss: 1.1517 - val_accuracy: 0.8000 - val_loss: 1.0069\n",
      "Epoch 6/50\n",
      "\u001b[1m10/10\u001b[0m \u001b[32m━━━━━━━━━━━━━━━━━━━━\u001b[0m\u001b[37m\u001b[0m \u001b[1m0s\u001b[0m 243ms/step - accuracy: 0.8806 - loss: 0.6393\n",
      "Epoch 6: val_loss improved from 1.00695 to 0.95553, saving model to ./model_vgg16_best.weights.h5\n",
      "\u001b[1m10/10\u001b[0m \u001b[32m━━━━━━━━━━━━━━━━━━━━\u001b[0m\u001b[37m\u001b[0m \u001b[1m3s\u001b[0m 341ms/step - accuracy: 0.8790 - loss: 0.6493 - val_accuracy: 0.8048 - val_loss: 0.9555\n",
      "Epoch 7/50\n",
      "\u001b[1m10/10\u001b[0m \u001b[32m━━━━━━━━━━━━━━━━━━━━\u001b[0m\u001b[37m\u001b[0m \u001b[1m0s\u001b[0m 243ms/step - accuracy: 0.8584 - loss: 0.6892\n",
      "Epoch 7: val_loss did not improve from 0.95553\n",
      "\u001b[1m10/10\u001b[0m \u001b[32m━━━━━━━━━━━━━━━━━━━━\u001b[0m\u001b[37m\u001b[0m \u001b[1m3s\u001b[0m 333ms/step - accuracy: 0.8589 - loss: 0.6874 - val_accuracy: 0.8048 - val_loss: 1.0304\n",
      "Epoch 8/50\n",
      "\u001b[1m10/10\u001b[0m \u001b[32m━━━━━━━━━━━━━━━━━━━━\u001b[0m\u001b[37m\u001b[0m \u001b[1m0s\u001b[0m 243ms/step - accuracy: 0.8825 - loss: 0.4623\n",
      "Epoch 8: val_loss did not improve from 0.95553\n",
      "\u001b[1m10/10\u001b[0m \u001b[32m━━━━━━━━━━━━━━━━━━━━\u001b[0m\u001b[37m\u001b[0m \u001b[1m3s\u001b[0m 332ms/step - accuracy: 0.8824 - loss: 0.4666 - val_accuracy: 0.7810 - val_loss: 0.9863\n",
      "Epoch 9/50\n",
      "\u001b[1m10/10\u001b[0m \u001b[32m━━━━━━━━━━━━━━━━━━━━\u001b[0m\u001b[37m\u001b[0m \u001b[1m0s\u001b[0m 243ms/step - accuracy: 0.9023 - loss: 0.3552\n",
      "Epoch 9: val_loss did not improve from 0.95553\n",
      "\u001b[1m10/10\u001b[0m \u001b[32m━━━━━━━━━━━━━━━━━━━━\u001b[0m\u001b[37m\u001b[0m \u001b[1m3s\u001b[0m 333ms/step - accuracy: 0.9015 - loss: 0.3587 - val_accuracy: 0.7810 - val_loss: 0.9814\n",
      "Epoch 10/50\n",
      "\u001b[1m10/10\u001b[0m \u001b[32m━━━━━━━━━━━━━━━━━━━━\u001b[0m\u001b[37m\u001b[0m \u001b[1m0s\u001b[0m 244ms/step - accuracy: 0.9109 - loss: 0.2855\n",
      "Epoch 10: val_loss improved from 0.95553 to 0.90534, saving model to ./model_vgg16_best.weights.h5\n",
      "\u001b[1m10/10\u001b[0m \u001b[32m━━━━━━━━━━━━━━━━━━━━\u001b[0m\u001b[37m\u001b[0m \u001b[1m3s\u001b[0m 341ms/step - accuracy: 0.9108 - loss: 0.2883 - val_accuracy: 0.7810 - val_loss: 0.9053\n",
      "Epoch 11/50\n",
      "\u001b[1m10/10\u001b[0m \u001b[32m━━━━━━━━━━━━━━━━━━━━\u001b[0m\u001b[37m\u001b[0m \u001b[1m0s\u001b[0m 243ms/step - accuracy: 0.9485 - loss: 0.1837\n",
      "Epoch 11: val_loss did not improve from 0.90534\n",
      "\u001b[1m10/10\u001b[0m \u001b[32m━━━━━━━━━━━━━━━━━━━━\u001b[0m\u001b[37m\u001b[0m \u001b[1m3s\u001b[0m 333ms/step - accuracy: 0.9480 - loss: 0.1886 - val_accuracy: 0.7952 - val_loss: 1.0507\n",
      "Epoch 12/50\n",
      "\u001b[1m10/10\u001b[0m \u001b[32m━━━━━━━━━━━━━━━━━━━━\u001b[0m\u001b[37m\u001b[0m \u001b[1m0s\u001b[0m 244ms/step - accuracy: 0.9446 - loss: 0.1966\n",
      "Epoch 12: val_loss did not improve from 0.90534\n",
      "\u001b[1m10/10\u001b[0m \u001b[32m━━━━━━━━━━━━━━━━━━━━\u001b[0m\u001b[37m\u001b[0m \u001b[1m3s\u001b[0m 334ms/step - accuracy: 0.9442 - loss: 0.1967 - val_accuracy: 0.7857 - val_loss: 0.9456\n",
      "Epoch 13/50\n",
      "\u001b[1m10/10\u001b[0m \u001b[32m━━━━━━━━━━━━━━━━━━━━\u001b[0m\u001b[37m\u001b[0m \u001b[1m0s\u001b[0m 244ms/step - accuracy: 0.9474 - loss: 0.1733\n",
      "Epoch 13: val_loss did not improve from 0.90534\n",
      "\u001b[1m10/10\u001b[0m \u001b[32m━━━━━━━━━━━━━━━━━━━━\u001b[0m\u001b[37m\u001b[0m \u001b[1m3s\u001b[0m 334ms/step - accuracy: 0.9469 - loss: 0.1747 - val_accuracy: 0.8000 - val_loss: 1.0391\n",
      "Epoch 14/50\n",
      "\u001b[1m10/10\u001b[0m \u001b[32m━━━━━━━━━━━━━━━━━━━━\u001b[0m\u001b[37m\u001b[0m \u001b[1m0s\u001b[0m 244ms/step - accuracy: 0.9663 - loss: 0.1187\n",
      "Epoch 14: val_loss did not improve from 0.90534\n",
      "\u001b[1m10/10\u001b[0m \u001b[32m━━━━━━━━━━━━━━━━━━━━\u001b[0m\u001b[37m\u001b[0m \u001b[1m3s\u001b[0m 333ms/step - accuracy: 0.9656 - loss: 0.1237 - val_accuracy: 0.8143 - val_loss: 0.9894\n",
      "Epoch 15/50\n",
      "\u001b[1m10/10\u001b[0m \u001b[32m━━━━━━━━━━━━━━━━━━━━\u001b[0m\u001b[37m\u001b[0m \u001b[1m0s\u001b[0m 245ms/step - accuracy: 0.9564 - loss: 0.1396\n",
      "Epoch 15: val_loss did not improve from 0.90534\n",
      "\u001b[1m10/10\u001b[0m \u001b[32m━━━━━━━━━━━━━━━━━━━━\u001b[0m\u001b[37m\u001b[0m \u001b[1m3s\u001b[0m 335ms/step - accuracy: 0.9565 - loss: 0.1384 - val_accuracy: 0.7952 - val_loss: 1.0244\n",
      "Epoch 15: early stopping\n"
     ]
    }
   ],
   "source": [
    "# Entraînement du modèle\n",
    "model_vgg16, history_vgg16, duration_vgg16 = train_model(model_vgg16, X_train_vgg16, y_train, X_val_vgg16, y_val,\n",
    "                                                         model_save_path=\"./model_vgg16_best.weights.h5\")"
   ]
  },
  {
   "cell_type": "code",
   "execution_count": 18,
   "id": "a93d62e5-dd68-44a0-b5d1-dc0bd612dfb2",
   "metadata": {},
   "outputs": [
    {
     "name": "stdout",
     "output_type": "stream",
     "text": [
      "\u001b[1m20/20\u001b[0m \u001b[32m━━━━━━━━━━━━━━━━━━━━\u001b[0m\u001b[37m\u001b[0m \u001b[1m2s\u001b[0m 124ms/step - accuracy: 0.9991 - loss: 0.0208\n",
      "Training Accuracy after last epoch: 0.9984\n",
      "\n",
      "\u001b[1m7/7\u001b[0m \u001b[32m━━━━━━━━━━━━━━━━━━━━\u001b[0m\u001b[37m\u001b[0m \u001b[1m1s\u001b[0m 116ms/step - accuracy: 0.8352 - loss: 0.6420\n",
      "Test Accuracy after last epoch: 0.8333\n",
      "\n",
      "\u001b[1m7/7\u001b[0m \u001b[32m━━━━━━━━━━━━━━━━━━━━\u001b[0m\u001b[37m\u001b[0m \u001b[1m1s\u001b[0m 117ms/step - accuracy: 0.8068 - loss: 0.8235\n",
      "Validation Accuracy (best): 0.7810\n",
      "\u001b[1m7/7\u001b[0m \u001b[32m━━━━━━━━━━━━━━━━━━━━\u001b[0m\u001b[37m\u001b[0m \u001b[1m1s\u001b[0m 117ms/step - accuracy: 0.8392 - loss: 0.7066\n",
      "Test Accuracy (best): 0.8286\n",
      "\u001b[1m7/7\u001b[0m \u001b[32m━━━━━━━━━━━━━━━━━━━━\u001b[0m\u001b[37m\u001b[0m \u001b[1m1s\u001b[0m 118ms/step\n",
      "Adjusted Rand Index (ARI): 0.6706\n"
     ]
    }
   ],
   "source": [
    "# Évaluation du modèle\n",
    "loss_vgg16, accuracy_vgg16, ari_score_vgg16 = evaluate_model(model_vgg16, X_train_vgg16, y_train, X_val_vgg16,\n",
    "                                                             y_val, X_test_vgg16, y_test, best_weights_path=\"./model_vgg16_best.weights.h5\")"
   ]
  },
  {
   "cell_type": "markdown",
   "id": "51705f37-d878-45ec-ba4d-65813c87927b",
   "metadata": {},
   "source": [
    "### InceptionResNetV2"
   ]
  },
  {
   "cell_type": "code",
   "execution_count": 19,
   "id": "74779ef2-ba20-4899-a4d8-cf893153a82b",
   "metadata": {},
   "outputs": [],
   "source": [
    "# Préparation des données\n",
    "X_train_inceptionresnetv2, X_val_inceptionresnetv2, X_test_inceptionresnetv2 = prepare_data(paths_train, paths_val,\n",
    "                                                                                            paths_test, preprocess_inceptionresnetv2,\n",
    "                                                                                            target_size=(299, 299, 3))"
   ]
  },
  {
   "cell_type": "code",
   "execution_count": 20,
   "id": "0834c6c6-76d9-4f8a-b7a2-1eeb9e7149a1",
   "metadata": {
    "scrolled": true
   },
   "outputs": [],
   "source": [
    "# Création du modèle\n",
    "model_inceptionresnetv2 = create_model_fct(base_model_name='InceptionResNetV2')"
   ]
  },
  {
   "cell_type": "code",
   "execution_count": 21,
   "id": "f12f0a2f-5529-4029-b6f5-a99e0260f303",
   "metadata": {},
   "outputs": [
    {
     "name": "stdout",
     "output_type": "stream",
     "text": [
      "Epoch 1/50\n",
      "\u001b[1m10/10\u001b[0m \u001b[32m━━━━━━━━━━━━━━━━━━━━\u001b[0m\u001b[37m\u001b[0m \u001b[1m0s\u001b[0m 7s/step - accuracy: 0.3552 - loss: 2.0370\n",
      "Epoch 1: val_loss improved from inf to 0.80850, saving model to ./model_inceptionresnetv2_best.weights.h5\n",
      "\u001b[1m10/10\u001b[0m \u001b[32m━━━━━━━━━━━━━━━━━━━━\u001b[0m\u001b[37m\u001b[0m \u001b[1m102s\u001b[0m 10s/step - accuracy: 0.3688 - loss: 1.9979 - val_accuracy: 0.7619 - val_loss: 0.8085\n",
      "Epoch 2/50\n",
      "\u001b[1m10/10\u001b[0m \u001b[32m━━━━━━━━━━━━━━━━━━━━\u001b[0m\u001b[37m\u001b[0m \u001b[1m0s\u001b[0m 8s/step - accuracy: 0.7891 - loss: 0.7449\n",
      "Epoch 2: val_loss improved from 0.80850 to 0.57831, saving model to ./model_inceptionresnetv2_best.weights.h5\n",
      "\u001b[1m10/10\u001b[0m \u001b[32m━━━━━━━━━━━━━━━━━━━━\u001b[0m\u001b[37m\u001b[0m \u001b[1m103s\u001b[0m 11s/step - accuracy: 0.7884 - loss: 0.7443 - val_accuracy: 0.7905 - val_loss: 0.5783\n",
      "Epoch 3/50\n",
      "\u001b[1m10/10\u001b[0m \u001b[32m━━━━━━━━━━━━━━━━━━━━\u001b[0m\u001b[37m\u001b[0m \u001b[1m0s\u001b[0m 8s/step - accuracy: 0.8412 - loss: 0.5055\n",
      "Epoch 3: val_loss improved from 0.57831 to 0.48666, saving model to ./model_inceptionresnetv2_best.weights.h5\n",
      "\u001b[1m10/10\u001b[0m \u001b[32m━━━━━━━━━━━━━━━━━━━━\u001b[0m\u001b[37m\u001b[0m \u001b[1m114s\u001b[0m 12s/step - accuracy: 0.8412 - loss: 0.5078 - val_accuracy: 0.8429 - val_loss: 0.4867\n",
      "Epoch 4/50\n",
      "\u001b[1m10/10\u001b[0m \u001b[32m━━━━━━━━━━━━━━━━━━━━\u001b[0m\u001b[37m\u001b[0m \u001b[1m0s\u001b[0m 9s/step - accuracy: 0.8645 - loss: 0.4288 \n",
      "Epoch 4: val_loss improved from 0.48666 to 0.42630, saving model to ./model_inceptionresnetv2_best.weights.h5\n",
      "\u001b[1m10/10\u001b[0m \u001b[32m━━━━━━━━━━━━━━━━━━━━\u001b[0m\u001b[37m\u001b[0m \u001b[1m126s\u001b[0m 13s/step - accuracy: 0.8636 - loss: 0.4333 - val_accuracy: 0.8571 - val_loss: 0.4263\n",
      "Epoch 5/50\n",
      "\u001b[1m10/10\u001b[0m \u001b[32m━━━━━━━━━━━━━━━━━━━━\u001b[0m\u001b[37m\u001b[0m \u001b[1m0s\u001b[0m 9s/step - accuracy: 0.8950 - loss: 0.3679 \n",
      "Epoch 5: val_loss improved from 0.42630 to 0.42003, saving model to ./model_inceptionresnetv2_best.weights.h5\n",
      "\u001b[1m10/10\u001b[0m \u001b[32m━━━━━━━━━━━━━━━━━━━━\u001b[0m\u001b[37m\u001b[0m \u001b[1m127s\u001b[0m 13s/step - accuracy: 0.8937 - loss: 0.3705 - val_accuracy: 0.8667 - val_loss: 0.4200\n",
      "Epoch 6/50\n",
      "\u001b[1m10/10\u001b[0m \u001b[32m━━━━━━━━━━━━━━━━━━━━\u001b[0m\u001b[37m\u001b[0m \u001b[1m0s\u001b[0m 9s/step - accuracy: 0.8808 - loss: 0.3400 \n",
      "Epoch 6: val_loss did not improve from 0.42003\n",
      "\u001b[1m10/10\u001b[0m \u001b[32m━━━━━━━━━━━━━━━━━━━━\u001b[0m\u001b[37m\u001b[0m \u001b[1m126s\u001b[0m 13s/step - accuracy: 0.8808 - loss: 0.3407 - val_accuracy: 0.8286 - val_loss: 0.4709\n",
      "Epoch 7/50\n",
      "\u001b[1m10/10\u001b[0m \u001b[32m━━━━━━━━━━━━━━━━━━━━\u001b[0m\u001b[37m\u001b[0m \u001b[1m0s\u001b[0m 9s/step - accuracy: 0.9149 - loss: 0.3078 \n",
      "Epoch 7: val_loss did not improve from 0.42003\n",
      "\u001b[1m10/10\u001b[0m \u001b[32m━━━━━━━━━━━━━━━━━━━━\u001b[0m\u001b[37m\u001b[0m \u001b[1m126s\u001b[0m 13s/step - accuracy: 0.9143 - loss: 0.3085 - val_accuracy: 0.8000 - val_loss: 0.6437\n",
      "Epoch 8/50\n",
      "\u001b[1m10/10\u001b[0m \u001b[32m━━━━━━━━━━━━━━━━━━━━\u001b[0m\u001b[37m\u001b[0m \u001b[1m0s\u001b[0m 9s/step - accuracy: 0.8473 - loss: 0.4257 \n",
      "Epoch 8: val_loss improved from 0.42003 to 0.37832, saving model to ./model_inceptionresnetv2_best.weights.h5\n",
      "\u001b[1m10/10\u001b[0m \u001b[32m━━━━━━━━━━━━━━━━━━━━\u001b[0m\u001b[37m\u001b[0m \u001b[1m126s\u001b[0m 13s/step - accuracy: 0.8506 - loss: 0.4156 - val_accuracy: 0.8667 - val_loss: 0.3783\n",
      "Epoch 9/50\n",
      "\u001b[1m10/10\u001b[0m \u001b[32m━━━━━━━━━━━━━━━━━━━━\u001b[0m\u001b[37m\u001b[0m \u001b[1m0s\u001b[0m 9s/step - accuracy: 0.9220 - loss: 0.2381 \n",
      "Epoch 9: val_loss did not improve from 0.37832\n",
      "\u001b[1m10/10\u001b[0m \u001b[32m━━━━━━━━━━━━━━━━━━━━\u001b[0m\u001b[37m\u001b[0m \u001b[1m126s\u001b[0m 13s/step - accuracy: 0.9220 - loss: 0.2373 - val_accuracy: 0.8524 - val_loss: 0.3811\n",
      "Epoch 10/50\n",
      "\u001b[1m10/10\u001b[0m \u001b[32m━━━━━━━━━━━━━━━━━━━━\u001b[0m\u001b[37m\u001b[0m \u001b[1m0s\u001b[0m 9s/step - accuracy: 0.9285 - loss: 0.2165 \n",
      "Epoch 10: val_loss improved from 0.37832 to 0.35256, saving model to ./model_inceptionresnetv2_best.weights.h5\n",
      "\u001b[1m10/10\u001b[0m \u001b[32m━━━━━━━━━━━━━━━━━━━━\u001b[0m\u001b[37m\u001b[0m \u001b[1m126s\u001b[0m 13s/step - accuracy: 0.9289 - loss: 0.2148 - val_accuracy: 0.8667 - val_loss: 0.3526\n",
      "Epoch 11/50\n",
      "\u001b[1m10/10\u001b[0m \u001b[32m━━━━━━━━━━━━━━━━━━━━\u001b[0m\u001b[37m\u001b[0m \u001b[1m0s\u001b[0m 10s/step - accuracy: 0.9169 - loss: 0.2562\n",
      "Epoch 11: val_loss did not improve from 0.35256\n",
      "\u001b[1m10/10\u001b[0m \u001b[32m━━━━━━━━━━━━━━━━━━━━\u001b[0m\u001b[37m\u001b[0m \u001b[1m130s\u001b[0m 13s/step - accuracy: 0.9166 - loss: 0.2562 - val_accuracy: 0.8667 - val_loss: 0.3890\n",
      "Epoch 12/50\n",
      "\u001b[1m10/10\u001b[0m \u001b[32m━━━━━━━━━━━━━━━━━━━━\u001b[0m\u001b[37m\u001b[0m \u001b[1m0s\u001b[0m 9s/step - accuracy: 0.9180 - loss: 0.2565 \n",
      "Epoch 12: val_loss did not improve from 0.35256\n",
      "\u001b[1m10/10\u001b[0m \u001b[32m━━━━━━━━━━━━━━━━━━━━\u001b[0m\u001b[37m\u001b[0m \u001b[1m126s\u001b[0m 13s/step - accuracy: 0.9187 - loss: 0.2552 - val_accuracy: 0.8619 - val_loss: 0.3531\n",
      "Epoch 13/50\n",
      "\u001b[1m10/10\u001b[0m \u001b[32m━━━━━━━━━━━━━━━━━━━━\u001b[0m\u001b[37m\u001b[0m \u001b[1m0s\u001b[0m 9s/step - accuracy: 0.9434 - loss: 0.1468 \n",
      "Epoch 13: val_loss did not improve from 0.35256\n",
      "\u001b[1m10/10\u001b[0m \u001b[32m━━━━━━━━━━━━━━━━━━━━\u001b[0m\u001b[37m\u001b[0m \u001b[1m127s\u001b[0m 13s/step - accuracy: 0.9439 - loss: 0.1462 - val_accuracy: 0.8429 - val_loss: 0.4924\n",
      "Epoch 14/50\n",
      "\u001b[1m10/10\u001b[0m \u001b[32m━━━━━━━━━━━━━━━━━━━━\u001b[0m\u001b[37m\u001b[0m \u001b[1m0s\u001b[0m 9s/step - accuracy: 0.9483 - loss: 0.1590 \n",
      "Epoch 14: val_loss did not improve from 0.35256\n",
      "\u001b[1m10/10\u001b[0m \u001b[32m━━━━━━━━━━━━━━━━━━━━\u001b[0m\u001b[37m\u001b[0m \u001b[1m126s\u001b[0m 13s/step - accuracy: 0.9492 - loss: 0.1582 - val_accuracy: 0.8619 - val_loss: 0.3648\n",
      "Epoch 15/50\n",
      "\u001b[1m10/10\u001b[0m \u001b[32m━━━━━━━━━━━━━━━━━━━━\u001b[0m\u001b[37m\u001b[0m \u001b[1m0s\u001b[0m 9s/step - accuracy: 0.9590 - loss: 0.1269 \n",
      "Epoch 15: val_loss did not improve from 0.35256\n",
      "\u001b[1m10/10\u001b[0m \u001b[32m━━━━━━━━━━━━━━━━━━━━\u001b[0m\u001b[37m\u001b[0m \u001b[1m126s\u001b[0m 13s/step - accuracy: 0.9592 - loss: 0.1288 - val_accuracy: 0.8714 - val_loss: 0.3780\n",
      "Epoch 15: early stopping\n"
     ]
    }
   ],
   "source": [
    "# Entraînement du modèle\n",
    "model_iresnetv2, history_iressnetv2, duration_iresnetv2 = train_model(model_inceptionresnetv2, X_train_inceptionresnetv2,\n",
    "                                                                      y_train, X_val_inceptionresnetv2, y_val,\n",
    "                                                                      model_save_path=\"./model_inceptionresnetv2_best.weights.h5\")"
   ]
  },
  {
   "cell_type": "code",
   "execution_count": 22,
   "id": "03c57b95-2844-40bd-89b6-5b4fb91c796e",
   "metadata": {},
   "outputs": [
    {
     "name": "stdout",
     "output_type": "stream",
     "text": [
      "\u001b[1m20/20\u001b[0m \u001b[32m━━━━━━━━━━━━━━━━━━━━\u001b[0m\u001b[37m\u001b[0m \u001b[1m100s\u001b[0m 5s/step - accuracy: 0.9788 - loss: 0.0810\n",
      "Training Accuracy after last epoch: 0.9794\n",
      "\n",
      "\u001b[1m7/7\u001b[0m \u001b[32m━━━━━━━━━━━━━━━━━━━━\u001b[0m\u001b[37m\u001b[0m \u001b[1m34s\u001b[0m 5s/step - accuracy: 0.8656 - loss: 0.4448\n",
      "Test Accuracy after last epoch: 0.8810\n",
      "\n",
      "\u001b[1m7/7\u001b[0m \u001b[32m━━━━━━━━━━━━━━━━━━━━\u001b[0m\u001b[37m\u001b[0m \u001b[1m34s\u001b[0m 5s/step - accuracy: 0.8597 - loss: 0.3548\n",
      "Validation Accuracy (best): 0.8667\n",
      "\u001b[1m7/7\u001b[0m \u001b[32m━━━━━━━━━━━━━━━━━━━━\u001b[0m\u001b[37m\u001b[0m \u001b[1m34s\u001b[0m 5s/step - accuracy: 0.9046 - loss: 0.3397\n",
      "Test Accuracy (best): 0.8810\n",
      "\u001b[1m7/7\u001b[0m \u001b[32m━━━━━━━━━━━━━━━━━━━━\u001b[0m\u001b[37m\u001b[0m \u001b[1m33s\u001b[0m 5s/step\n",
      "Adjusted Rand Index (ARI): 0.7695\n"
     ]
    }
   ],
   "source": [
    "# Évaluation du modèle\n",
    "loss_inceptionresnetv2, accuracy_inceptionresnetv2, ari_score_inceptionresnetv2 = evaluate_model(model_inceptionresnetv2,\n",
    "                                                                                                 X_train_inceptionresnetv2,\n",
    "                                                                                                 y_train, X_val_inceptionresnetv2,\n",
    "                                                                                                 y_val, X_test_inceptionresnetv2,\n",
    "                                                                                                 y_test,\n",
    "                                                                                                 best_weights_path=\"./model_inceptionresnetv2_best.weights.h5\")"
   ]
  },
  {
   "cell_type": "markdown",
   "id": "de738ea6-874e-439e-bf2e-74ed405ba278",
   "metadata": {},
   "source": [
    "### DenseNet201"
   ]
  },
  {
   "cell_type": "code",
   "execution_count": 23,
   "id": "28b0ecdc-e29a-4c04-905f-82319f9c3d27",
   "metadata": {},
   "outputs": [],
   "source": [
    "# Préparation des données\n",
    "X_train_densenet201, X_val_densenet201, X_test_densenet201 = prepare_data(paths_train, paths_val, paths_test,\n",
    "                                                                          preprocess_densenet201, target_size=(224, 224, 3))\n"
   ]
  },
  {
   "cell_type": "code",
   "execution_count": 24,
   "id": "238a913f-66ac-4adc-8757-f60368ec2e8d",
   "metadata": {
    "scrolled": true
   },
   "outputs": [],
   "source": [
    "# Création du modèle\n",
    "model_densenet201 = create_model_fct(base_model_name='DenseNet201')\n"
   ]
  },
  {
   "cell_type": "code",
   "execution_count": null,
   "id": "732d2a50-eb0c-4c12-8b9f-d5fb1d81fadc",
   "metadata": {},
   "outputs": [
    {
     "name": "stdout",
     "output_type": "stream",
     "text": [
      "Epoch 1/50\n",
      "\u001b[1m10/10\u001b[0m \u001b[32m━━━━━━━━━━━━━━━━━━━━\u001b[0m\u001b[37m\u001b[0m \u001b[1m0s\u001b[0m 26s/step - accuracy: 0.3310 - loss: 2.3257 \n",
      "Epoch 1: val_loss improved from inf to 0.81878, saving model to ./model_densenet201_best.weights.h5\n",
      "\u001b[1m10/10\u001b[0m \u001b[32m━━━━━━━━━━━━━━━━━━━━\u001b[0m\u001b[37m\u001b[0m \u001b[1m349s\u001b[0m 36s/step - accuracy: 0.3456 - loss: 2.2731 - val_accuracy: 0.7667 - val_loss: 0.8188\n",
      "Epoch 2/50\n",
      "\u001b[1m10/10\u001b[0m \u001b[32m━━━━━━━━━━━━━━━━━━━━\u001b[0m\u001b[37m\u001b[0m \u001b[1m0s\u001b[0m 26s/step - accuracy: 0.7903 - loss: 0.7069 \n",
      "Epoch 2: val_loss improved from 0.81878 to 0.66513, saving model to ./model_densenet201_best.weights.h5\n",
      "\u001b[1m10/10\u001b[0m \u001b[32m━━━━━━━━━━━━━━━━━━━━\u001b[0m\u001b[37m\u001b[0m \u001b[1m349s\u001b[0m 36s/step - accuracy: 0.7909 - loss: 0.7032 - val_accuracy: 0.7857 - val_loss: 0.6651\n",
      "Epoch 3/50\n",
      "\u001b[1m 7/10\u001b[0m \u001b[32m━━━━━━━━━━━━━━\u001b[0m\u001b[37m━━━━━━\u001b[0m \u001b[1m1:13\u001b[0m 25s/step - accuracy: 0.8427 - loss: 0.4921"
     ]
    }
   ],
   "source": [
    "# Entraînement du modèle\n",
    "model_densenet201, history_densenet201, duration_densenet201 = train_model(model_densenet201, X_train_densenet201, y_train,\n",
    "                                                                           X_val_densenet201, y_val,\n",
    "                                                                           model_save_path=\"./model_densenet201_best.weights.h5\")\n"
   ]
  },
  {
   "cell_type": "code",
   "execution_count": null,
   "id": "41f25fb0-8191-474b-88a5-2ad4bf309a37",
   "metadata": {},
   "outputs": [],
   "source": [
    "# Évaluation du modèle\n",
    "loss_densenet201, accuracy_densenet201, ari_score_densenet201 = evaluate_model(model_densenet201, X_train_densenet201,\n",
    "                                                                               y_train, X_val_densenet201,\n",
    "                                                                                y_val, X_test_densenet201, y_test,\n",
    "                                                                               best_weights_path=\"./model_densenet201_best.weights.h5\")"
   ]
  },
  {
   "cell_type": "markdown",
   "id": "50e99361-c715-4afa-853e-222ed27935b2",
   "metadata": {},
   "source": [
    "### Comparaison des résultats"
   ]
  },
  {
   "cell_type": "code",
   "execution_count": null,
   "id": "9882c8c9-2fcf-4a83-be74-0a6012d0d1df",
   "metadata": {},
   "outputs": [],
   "source": [
    "# Initialisation de la liste pour stocker les résultats\n",
    "data_results = []\n",
    "\n",
    "# Fonction pour ajouter les résultats d'un modèle au DataFrame\n",
    "def add_results(model_name, loss, accuracy, ari_score, duration):\n",
    "    metrics = ['Loss', 'Accuracy', 'Adjusted Rand Score', 'Duration (en heures)']\n",
    "    scores = [loss, accuracy, ari_score, (duration/3600)]\n",
    "    for metric, score in zip(metrics, scores):\n",
    "        data_results.append({\n",
    "            'Model': model_name,\n",
    "            'Metric': metric,\n",
    "            'Score': score\n",
    "        })"
   ]
  },
  {
   "cell_type": "code",
   "execution_count": null,
   "id": "ec292a92-295a-4ff5-b03b-b2d3af07a9ec",
   "metadata": {},
   "outputs": [],
   "source": [
    "add_results('VGG16', loss_vgg16, accuracy_vgg16, ari_score_vgg16, duration_vgg16)\n",
    "add_results('InceptionResNetV2', loss_inceptionresnetv2, accuracy_inceptionresnetv2, ari_score_inceptionresnetv2, duration_iresnetv2)\n",
    "add_results('DenseNet201', loss_densenet201, accuracy_densenet201, ari_score_densenet201, duration_densenet201)\n",
    "\n",
    "data_metrics = pd.DataFrame(data_results)"
   ]
  },
  {
   "cell_type": "code",
   "execution_count": null,
   "id": "a03348a5-74cb-4938-b88f-1ec17eb869d1",
   "metadata": {},
   "outputs": [],
   "source": [
    "plot_model_performance(data_results)"
   ]
  },
  {
   "cell_type": "markdown",
   "id": "7feb95ce-bd7a-47f6-8b03-99be68d198cc",
   "metadata": {},
   "source": [
    "# Optimisation"
   ]
  },
  {
   "cell_type": "markdown",
   "id": "cbccf6d0-9182-49b2-992c-7bc576e52011",
   "metadata": {},
   "source": [
    "## Hyper paramètres"
   ]
  },
  {
   "cell_type": "code",
   "execution_count": null,
   "id": "02b4a482-d159-4fc0-81ae-26fe35326e94",
   "metadata": {},
   "outputs": [],
   "source": [
    "# Entraînement du modèle\n",
    "best_model, duration_best = test_hyperparameters(model_inceptionresnetv2, X_train_inceptionresnetv2, y_train, X_val_inceptionresnetv2,\n",
    "                                                 y_val, model_save_path=\"./model_best.weights.h5\")"
   ]
  },
  {
   "cell_type": "code",
   "execution_count": null,
   "id": "9a10ade4-380a-423e-b2e7-1e60293c9f59",
   "metadata": {},
   "outputs": [],
   "source": [
    "# Évaluation du modèle\n",
    "loss_best, accuracy_best, ari_score_best = evaluate_model(best_model,\n",
    "                                                          X_train_inceptionresnetv2,\n",
    "                                                          y_train, X_val_inceptionresnetv2,\n",
    "                                                          y_val, X_test_inceptionresnetv2,\n",
    "                                                          y_test, best_weights_path=\"none\")"
   ]
  },
  {
   "cell_type": "code",
   "execution_count": null,
   "id": "5252398d-eed7-4bea-b8aa-228b7e5472ec",
   "metadata": {},
   "outputs": [],
   "source": [
    "add_results('InceptionResNetV2(HP)', loss_best, accuracy_best, ari_score_best, duration_best)\n",
    "data_metrics = pd.DataFrame(data_results)"
   ]
  },
  {
   "cell_type": "code",
   "execution_count": null,
   "id": "f5368552-dae5-4bd7-895d-3d10ff759edc",
   "metadata": {},
   "outputs": [],
   "source": [
    "data_metrics.head(15)"
   ]
  },
  {
   "cell_type": "code",
   "execution_count": null,
   "id": "6889bfdb-3e17-408b-8f17-ca6f5cc9ee3b",
   "metadata": {},
   "outputs": [],
   "source": [
    "plot_model_performance(data_metrics)"
   ]
  },
  {
   "cell_type": "markdown",
   "id": "c315c260-a1ae-4a45-9a18-d32dde463c6b",
   "metadata": {},
   "source": [
    "## Data Augmentation"
   ]
  },
  {
   "cell_type": "code",
   "execution_count": null,
   "id": "d9c0fc41-bcf5-48a6-ba9a-3342ef6c4331",
   "metadata": {},
   "outputs": [],
   "source": []
  },
  {
   "cell_type": "code",
   "execution_count": null,
   "id": "868338c9-ed13-4f80-b30c-3d1976ea4cef",
   "metadata": {},
   "outputs": [],
   "source": []
  },
  {
   "cell_type": "code",
   "execution_count": null,
   "id": "94baec4a-cd19-4525-b90d-093cdd96420c",
   "metadata": {},
   "outputs": [],
   "source": []
  },
  {
   "cell_type": "code",
   "execution_count": null,
   "id": "074fdb6e-fb5b-44a8-9fff-d225a153a1ea",
   "metadata": {},
   "outputs": [],
   "source": []
  },
  {
   "cell_type": "code",
   "execution_count": null,
   "id": "7e4f40f7-a6a4-4c75-b00b-d7ba914854a1",
   "metadata": {},
   "outputs": [],
   "source": []
  },
  {
   "cell_type": "code",
   "execution_count": null,
   "id": "66e4f4a0-a86d-4996-97f2-d7fe420e7263",
   "metadata": {},
   "outputs": [],
   "source": []
  },
  {
   "cell_type": "code",
   "execution_count": null,
   "id": "4a7de8ef-dd9d-4ae9-a8dd-ab86621421c2",
   "metadata": {},
   "outputs": [],
   "source": [
    " "
   ]
  }
 ],
 "metadata": {
  "kernelspec": {
   "display_name": "Python 3 (ipykernel)",
   "language": "python",
   "name": "python3"
  },
  "language_info": {
   "codemirror_mode": {
    "name": "ipython",
    "version": 3
   },
   "file_extension": ".py",
   "mimetype": "text/x-python",
   "name": "python",
   "nbconvert_exporter": "python",
   "pygments_lexer": "ipython3",
   "version": "3.12.0"
  }
 },
 "nbformat": 4,
 "nbformat_minor": 5
}
