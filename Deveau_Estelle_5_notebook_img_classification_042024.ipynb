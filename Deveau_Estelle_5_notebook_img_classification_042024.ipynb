{
 "cells": [
  {
   "cell_type": "markdown",
   "id": "f105fbed-3cf1-42fb-aa2c-bf1dfaee6f5a",
   "metadata": {},
   "source": [
    "<b><font color=\"SteelBlue\" size=\"+3\">Classifiez automatiquement des biens de consommation</font></b>"
   ]
  },
  {
   "cell_type": "markdown",
   "id": "5c3ecccb-d303-4f80-83fe-4dacb82dc07b",
   "metadata": {},
   "source": [
    "# Introduction"
   ]
  },
  {
   "cell_type": "markdown",
   "id": "30a3d070-048b-4807-8977-30dbe4e240c7",
   "metadata": {},
   "source": [
    "Ce notebook est la suite de celui sur le traitement des descriptions. On récupère les données nettoyées pour les catégories des produits."
   ]
  },
  {
   "cell_type": "markdown",
   "id": "4921c1bd-b2f0-4f93-aeee-0715f899f711",
   "metadata": {},
   "source": [
    "## Imports"
   ]
  },
  {
   "cell_type": "code",
   "execution_count": 1,
   "id": "bb4f0271-1e10-4c6f-9551-57ea20d9c8d3",
   "metadata": {},
   "outputs": [],
   "source": [
    "# Chargement des librairies\n",
    "# Standard\n",
    "import os\n",
    "\n",
    "# Data Manipulation and Analysis\n",
    "import pandas as pd\n",
    "import numpy as np\n",
    "from sklearn.preprocessing import LabelEncoder\n",
    "from sklearn.model_selection import train_test_split\n",
    "\n",
    "# Visualization\n",
    "import matplotlib.pyplot as plt\n",
    "import seaborn as sns\n",
    "\n",
    "# Image Processing\n",
    "from matplotlib.image import imread\n",
    "from PIL import Image as PilImage\n",
    "\n",
    "# Deep Learning - TensorFlow/Keras\n",
    "os.environ[\"KERAS_BACKEND\"] = \"torch\"\n",
    "import tensorflow as tf\n",
    "from tensorflow.keras.applications.vgg16 import preprocess_input as preprocess_vgg16\n",
    "from tensorflow.keras.applications.inception_resnet_v2 import preprocess_input as preprocess_inceptionresnetv2\n",
    "from tensorflow.keras.applications.densenet import preprocess_input as preprocess_densenet201\n",
    "from tensorflow.keras.utils import to_categorical\n",
    "\n",
    "# Custom Modules\n",
    "from Deveau_Estelle_4_IMG_func_042024 import *"
   ]
  },
  {
   "cell_type": "raw",
   "id": "cff5bc46-5c9f-421c-9e38-ea23d93b6807",
   "metadata": {},
   "source": [
    "# Répertoire contenant les fichiers à renommer\n",
    "repertoire = r\"C:\\Users\\estel\\OpenClassrooms\\Projets\\Projet 6\\data\\Sources\\generatedimages\\watches\"\n",
    "\n",
    "\n",
    "# Liste tous les fichiers dans le répertoire\n",
    "fichiers = os.listdir(repertoire)\n",
    "\n",
    "# Initialisation du compteur\n",
    "compteur = 109\n",
    "\n",
    "# Parcourir tous les fichiers dans le répertoire\n",
    "for fichier in fichiers:\n",
    "    # Vérifie si le fichier est un fichier image\n",
    "    if fichier.endswith(\".jpg\") or fichier.endswith(\".jpeg\") or fichier.endswith(\".png\"):\n",
    "        # Crée le nouveau nom de fichier\n",
    "        nouveau_nom = \"{:04d}.jpg\".format(compteur)\n",
    "        \n",
    "        # Chemin complet vers le fichier original\n",
    "        chemin_original = os.path.join(repertoire, fichier)\n",
    "        \n",
    "        # Chemin complet vers le nouveau fichier\n",
    "        chemin_nouveau = os.path.join(repertoire, nouveau_nom)\n",
    "        \n",
    "        # Renomme le fichier\n",
    "        os.rename(chemin_original, chemin_nouveau)\n",
    "        \n",
    "        # Incrémente le compteur\n",
    "        compteur += 1\n",
    "\n",
    "print(\"Renommage terminé.\")\n"
   ]
  },
  {
   "cell_type": "markdown",
   "id": "a89f1bb6-53d0-4efc-82c1-b035269391ef",
   "metadata": {},
   "source": [
    "## Data"
   ]
  },
  {
   "cell_type": "code",
   "execution_count": 2,
   "id": "86df606e-6b8a-47f3-bbe7-f34d5f0a5b11",
   "metadata": {},
   "outputs": [
    {
     "data": {
      "text/plain": [
       "['.ipynb_checkpoints',\n",
       " 'data',\n",
       " 'Deveau_Estelle_1_notebook_txt_faisabilite_042024.ipynb',\n",
       " 'Deveau_Estelle_2_NLP_func_042024.py',\n",
       " 'Deveau_Estelle_3_notebook_img_faisabilite_042024.ipynb',\n",
       " 'Deveau_Estelle_4_IMG_func_042024.py',\n",
       " 'Deveau_Estelle_5_notebook_img_classification_042024.ipynb',\n",
       " 'model_augmented_best.weights.h5',\n",
       " 'model_augmented_data_best.weights.h5',\n",
       " 'model_best.keras',\n",
       " 'model_best.weights.h5',\n",
       " 'model_densenet201_best.weights.h5',\n",
       " 'model_inceptionresnetv2_best.weights.h5',\n",
       " 'model_vgg16_best.weights.h5',\n",
       " 'OC_projet6.pptx',\n",
       " 'pythonProject',\n",
       " 'svg',\n",
       " 'Weather_Images_CNN_Transfer_Learning_Stage_1_feasibility_V1.0.ipynb',\n",
       " 'Weather_Images_CNN_Transfer_Learning_Stage_2_supervised_classification_V1.0.ipynb',\n",
       " '__pycache__']"
      ]
     },
     "execution_count": 2,
     "metadata": {},
     "output_type": "execute_result"
    }
   ],
   "source": [
    "os.listdir()"
   ]
  },
  {
   "cell_type": "code",
   "execution_count": 3,
   "id": "0a3db40d-660c-49fe-a8b5-58307c30d33f",
   "metadata": {},
   "outputs": [
    {
     "data": {
      "text/plain": [
       "['data.csv']"
      ]
     },
     "execution_count": 3,
     "metadata": {},
     "output_type": "execute_result"
    }
   ],
   "source": [
    "os.listdir(\"data/Cleaned/\")"
   ]
  },
  {
   "cell_type": "code",
   "execution_count": 4,
   "id": "ebbe1e8a-1f51-4a87-99ee-2c712fe1fdb8",
   "metadata": {},
   "outputs": [],
   "source": [
    "path     = \"./data/Cleaned/\"\n",
    "filename = \"data.csv\""
   ]
  },
  {
   "cell_type": "code",
   "execution_count": 5,
   "id": "41c1a96b-b4ea-48a3-b878-c5482f7c690f",
   "metadata": {},
   "outputs": [],
   "source": [
    "data = pd.read_csv(path + filename)"
   ]
  },
  {
   "cell_type": "code",
   "execution_count": 6,
   "id": "8d37600a-66aa-4b58-98c0-17ba57ad2c4b",
   "metadata": {},
   "outputs": [
    {
     "name": "stdout",
     "output_type": "stream",
     "text": [
      "1050\n"
     ]
    }
   ],
   "source": [
    "path     = \"./data/Sources/Images/\"\n",
    "list_photos = [file for file in os.listdir(path)]\n",
    "print(len(list_photos))"
   ]
  },
  {
   "cell_type": "markdown",
   "id": "dea98bc1-c7cf-4f3d-bce2-c7b35748888c",
   "metadata": {},
   "source": [
    "# Classification supervisée"
   ]
  },
  {
   "cell_type": "code",
   "execution_count": 7,
   "id": "50216666-fc7a-4f76-970d-23fbdb04d6f9",
   "metadata": {},
   "outputs": [
    {
     "data": {
      "text/html": [
       "<div>\n",
       "<style scoped>\n",
       "    .dataframe tbody tr th:only-of-type {\n",
       "        vertical-align: middle;\n",
       "    }\n",
       "\n",
       "    .dataframe tbody tr th {\n",
       "        vertical-align: top;\n",
       "    }\n",
       "\n",
       "    .dataframe thead th {\n",
       "        text-align: right;\n",
       "    }\n",
       "</style>\n",
       "<table border=\"1\" class=\"dataframe\">\n",
       "  <thead>\n",
       "    <tr style=\"text-align: right;\">\n",
       "      <th></th>\n",
       "      <th>uniq_id</th>\n",
       "      <th>product_category</th>\n",
       "    </tr>\n",
       "  </thead>\n",
       "  <tbody>\n",
       "    <tr>\n",
       "      <th>0</th>\n",
       "      <td>55b85ea15a1536d46b7190ad6fff8ce7</td>\n",
       "      <td>Home Furnishing</td>\n",
       "    </tr>\n",
       "    <tr>\n",
       "      <th>1</th>\n",
       "      <td>7b72c92c2f6c40268628ec5f14c6d590</td>\n",
       "      <td>Baby Care</td>\n",
       "    </tr>\n",
       "    <tr>\n",
       "      <th>2</th>\n",
       "      <td>64d5d4a258243731dc7bbb1eef49ad74</td>\n",
       "      <td>Baby Care</td>\n",
       "    </tr>\n",
       "    <tr>\n",
       "      <th>3</th>\n",
       "      <td>d4684dcdc759dd9cdf41504698d737d8</td>\n",
       "      <td>Home Furnishing</td>\n",
       "    </tr>\n",
       "    <tr>\n",
       "      <th>4</th>\n",
       "      <td>6325b6870c54cd47be6ebfbffa620ec7</td>\n",
       "      <td>Home Furnishing</td>\n",
       "    </tr>\n",
       "  </tbody>\n",
       "</table>\n",
       "</div>"
      ],
      "text/plain": [
       "                            uniq_id product_category\n",
       "0  55b85ea15a1536d46b7190ad6fff8ce7  Home Furnishing\n",
       "1  7b72c92c2f6c40268628ec5f14c6d590        Baby Care\n",
       "2  64d5d4a258243731dc7bbb1eef49ad74        Baby Care\n",
       "3  d4684dcdc759dd9cdf41504698d737d8  Home Furnishing\n",
       "4  6325b6870c54cd47be6ebfbffa620ec7  Home Furnishing"
      ]
     },
     "execution_count": 7,
     "metadata": {},
     "output_type": "execute_result"
    }
   ],
   "source": [
    "cols_to_keep = ['uniq_id', 'product_category']\n",
    "df = data[cols_to_keep]\n",
    "df.head(5)"
   ]
  },
  {
   "cell_type": "code",
   "execution_count": 8,
   "id": "c595dd67-13b7-4e77-bc48-f69daced73b4",
   "metadata": {},
   "outputs": [],
   "source": [
    "image_paths = [f\"{path}{uid}.jpg\" for uid in df['uniq_id']]\n",
    "\n",
    "# Encodage des catégories\n",
    "label_encoder = LabelEncoder()\n",
    "categories_encoded = label_encoder.fit_transform(df['product_category'])\n",
    "category_names = label_encoder.classes_"
   ]
  },
  {
   "cell_type": "markdown",
   "id": "3a1d77d8-9f25-49c3-b688-144744f95450",
   "metadata": {},
   "source": [
    "## Séparation des jeux de données (train, val, test)"
   ]
  },
  {
   "cell_type": "code",
   "execution_count": 9,
   "id": "bb6d996a-e292-4443-9330-b8a3cedf2668",
   "metadata": {},
   "outputs": [],
   "source": [
    "y = to_categorical(categories_encoded, 7)"
   ]
  },
  {
   "cell_type": "code",
   "execution_count": 10,
   "id": "5b38d11a-2658-4c6e-8f77-42e5c0168c4b",
   "metadata": {},
   "outputs": [
    {
     "data": {
      "text/plain": [
       "array([[0., 0., 0., 0., 1., 0., 0.],\n",
       "       [1., 0., 0., 0., 0., 0., 0.],\n",
       "       [1., 0., 0., 0., 0., 0., 0.],\n",
       "       [0., 0., 0., 0., 1., 0., 0.],\n",
       "       [0., 0., 0., 0., 1., 0., 0.]])"
      ]
     },
     "execution_count": 10,
     "metadata": {},
     "output_type": "execute_result"
    }
   ],
   "source": [
    "y[:5]"
   ]
  },
  {
   "cell_type": "code",
   "execution_count": 11,
   "id": "d124dd0d-078e-4f1f-ad40-ae4f190af400",
   "metadata": {},
   "outputs": [],
   "source": [
    "# Diviser les chemins d'image et les étiquettes\n",
    "paths_train, paths_test, y_train, y_test = train_test_split(image_paths, y, test_size=0.2, random_state=42)\n",
    "paths_train, paths_val, y_train, y_val = train_test_split(paths_train, y_train, test_size=0.25, random_state=42)"
   ]
  },
  {
   "cell_type": "code",
   "execution_count": 12,
   "id": "561563c0-7d61-4b13-9a59-dadac0839736",
   "metadata": {},
   "outputs": [
    {
     "data": {
      "text/plain": [
       "array([[0., 0., 1., 0., 0., 0., 0.],\n",
       "       [0., 0., 0., 0., 0., 1., 0.],\n",
       "       [0., 0., 1., 0., 0., 0., 0.],\n",
       "       [0., 1., 0., 0., 0., 0., 0.],\n",
       "       [0., 0., 0., 0., 0., 0., 1.]])"
      ]
     },
     "execution_count": 12,
     "metadata": {},
     "output_type": "execute_result"
    }
   ],
   "source": [
    "y_test[:5]"
   ]
  },
  {
   "cell_type": "code",
   "execution_count": 13,
   "id": "4a0379ad-a27f-4d55-b7b4-022784eddded",
   "metadata": {},
   "outputs": [],
   "source": [
    "# Dictionnaire pour stocker les résultats\n",
    "results = {}"
   ]
  },
  {
   "cell_type": "markdown",
   "id": "78657f7c-c53a-4d6d-9343-163da34a541b",
   "metadata": {},
   "source": [
    "## Evaluation des modèles sélectionnés"
   ]
  },
  {
   "cell_type": "code",
   "execution_count": 14,
   "id": "e07845a3-b35d-4ca0-87e6-7b69a10e1acb",
   "metadata": {},
   "outputs": [],
   "source": [
    "# Définir le seuil à un niveau supérieur spécifique\n",
    "PilImage.MAX_IMAGE_PIXELS = 100000000"
   ]
  },
  {
   "cell_type": "markdown",
   "id": "be926cf2-7849-4691-9a8e-e34a1370db16",
   "metadata": {},
   "source": [
    "### VGG16"
   ]
  },
  {
   "cell_type": "code",
   "execution_count": 15,
   "id": "024d4f2a-cbb8-4fcb-bec4-cb89810a3614",
   "metadata": {},
   "outputs": [],
   "source": [
    "# Préparation des données\n",
    "X_train_vgg16, X_val_vgg16, X_test_vgg16 = prepare_data(paths_train, paths_val, paths_test, preprocess_vgg16,\n",
    "                                                        target_size=(224, 224, 3))"
   ]
  },
  {
   "cell_type": "code",
   "execution_count": 16,
   "id": "5e9f37f9-21bb-41a2-ab4e-b6224ef61387",
   "metadata": {},
   "outputs": [],
   "source": [
    "# Création du modèle\n",
    "model_vgg16 = create_model_fct(base_model_name='VGG16')"
   ]
  },
  {
   "cell_type": "code",
   "execution_count": 17,
   "id": "3981c122-d4a3-4067-b3cb-326d0ca3d47e",
   "metadata": {
    "scrolled": true
   },
   "outputs": [
    {
     "name": "stdout",
     "output_type": "stream",
     "text": [
      "Epoch 1/50\n",
      "\u001b[1m20/20\u001b[0m \u001b[32m━━━━━━━━━━━━━━━━━━━━\u001b[0m\u001b[37m\u001b[0m \u001b[1m0s\u001b[0m 122ms/step - accuracy: 0.3233 - loss: 7.1790\n",
      "Epoch 1: val_loss improved from inf to 1.48538, saving model to ./model_vgg16_best.weights.h5\n",
      "\u001b[1m20/20\u001b[0m \u001b[32m━━━━━━━━━━━━━━━━━━━━\u001b[0m\u001b[37m\u001b[0m \u001b[1m4s\u001b[0m 171ms/step - accuracy: 0.3296 - loss: 7.0844 - val_accuracy: 0.7762 - val_loss: 1.4854\n",
      "Epoch 2/50\n",
      "\u001b[1m20/20\u001b[0m \u001b[32m━━━━━━━━━━━━━━━━━━━━\u001b[0m\u001b[37m\u001b[0m \u001b[1m0s\u001b[0m 123ms/step - accuracy: 0.6791 - loss: 2.4524\n",
      "Epoch 2: val_loss improved from 1.48538 to 1.29120, saving model to ./model_vgg16_best.weights.h5\n",
      "\u001b[1m20/20\u001b[0m \u001b[32m━━━━━━━━━━━━━━━━━━━━\u001b[0m\u001b[37m\u001b[0m \u001b[1m3s\u001b[0m 171ms/step - accuracy: 0.6792 - loss: 2.4485 - val_accuracy: 0.8000 - val_loss: 1.2912\n",
      "Epoch 3/50\n",
      "\u001b[1m20/20\u001b[0m \u001b[32m━━━━━━━━━━━━━━━━━━━━\u001b[0m\u001b[37m\u001b[0m \u001b[1m0s\u001b[0m 123ms/step - accuracy: 0.7447 - loss: 1.5811\n",
      "Epoch 3: val_loss improved from 1.29120 to 1.12036, saving model to ./model_vgg16_best.weights.h5\n",
      "\u001b[1m20/20\u001b[0m \u001b[32m━━━━━━━━━━━━━━━━━━━━\u001b[0m\u001b[37m\u001b[0m \u001b[1m3s\u001b[0m 170ms/step - accuracy: 0.7456 - loss: 1.5743 - val_accuracy: 0.8000 - val_loss: 1.1204\n",
      "Epoch 4/50\n",
      "\u001b[1m20/20\u001b[0m \u001b[32m━━━━━━━━━━━━━━━━━━━━\u001b[0m\u001b[37m\u001b[0m \u001b[1m0s\u001b[0m 123ms/step - accuracy: 0.8081 - loss: 0.9852\n",
      "Epoch 4: val_loss improved from 1.12036 to 1.00543, saving model to ./model_vgg16_best.weights.h5\n",
      "\u001b[1m20/20\u001b[0m \u001b[32m━━━━━━━━━━━━━━━━━━━━\u001b[0m\u001b[37m\u001b[0m \u001b[1m3s\u001b[0m 171ms/step - accuracy: 0.8083 - loss: 0.9852 - val_accuracy: 0.8143 - val_loss: 1.0054\n",
      "Epoch 5/50\n",
      "\u001b[1m20/20\u001b[0m \u001b[32m━━━━━━━━━━━━━━━━━━━━\u001b[0m\u001b[37m\u001b[0m \u001b[1m0s\u001b[0m 123ms/step - accuracy: 0.8387 - loss: 0.7574\n",
      "Epoch 5: val_loss improved from 1.00543 to 0.90590, saving model to ./model_vgg16_best.weights.h5\n",
      "\u001b[1m20/20\u001b[0m \u001b[32m━━━━━━━━━━━━━━━━━━━━\u001b[0m\u001b[37m\u001b[0m \u001b[1m3s\u001b[0m 170ms/step - accuracy: 0.8388 - loss: 0.7582 - val_accuracy: 0.8143 - val_loss: 0.9059\n",
      "Epoch 6/50\n",
      "\u001b[1m20/20\u001b[0m \u001b[32m━━━━━━━━━━━━━━━━━━━━\u001b[0m\u001b[37m\u001b[0m \u001b[1m0s\u001b[0m 122ms/step - accuracy: 0.8484 - loss: 0.6596\n",
      "Epoch 6: val_loss did not improve from 0.90590\n",
      "\u001b[1m20/20\u001b[0m \u001b[32m━━━━━━━━━━━━━━━━━━━━\u001b[0m\u001b[37m\u001b[0m \u001b[1m3s\u001b[0m 164ms/step - accuracy: 0.8487 - loss: 0.6566 - val_accuracy: 0.7762 - val_loss: 0.9777\n",
      "Epoch 7/50\n",
      "\u001b[1m20/20\u001b[0m \u001b[32m━━━━━━━━━━━━━━━━━━━━\u001b[0m\u001b[37m\u001b[0m \u001b[1m0s\u001b[0m 123ms/step - accuracy: 0.8994 - loss: 0.5407\n",
      "Epoch 7: val_loss did not improve from 0.90590\n",
      "\u001b[1m20/20\u001b[0m \u001b[32m━━━━━━━━━━━━━━━━━━━━\u001b[0m\u001b[37m\u001b[0m \u001b[1m3s\u001b[0m 165ms/step - accuracy: 0.8987 - loss: 0.5404 - val_accuracy: 0.8286 - val_loss: 0.9819\n",
      "Epoch 8/50\n",
      "\u001b[1m20/20\u001b[0m \u001b[32m━━━━━━━━━━━━━━━━━━━━\u001b[0m\u001b[37m\u001b[0m \u001b[1m0s\u001b[0m 122ms/step - accuracy: 0.9189 - loss: 0.3785\n",
      "Epoch 8: val_loss did not improve from 0.90590\n",
      "\u001b[1m20/20\u001b[0m \u001b[32m━━━━━━━━━━━━━━━━━━━━\u001b[0m\u001b[37m\u001b[0m \u001b[1m3s\u001b[0m 164ms/step - accuracy: 0.9183 - loss: 0.3811 - val_accuracy: 0.7810 - val_loss: 1.0114\n",
      "Epoch 9/50\n",
      "\u001b[1m20/20\u001b[0m \u001b[32m━━━━━━━━━━━━━━━━━━━━\u001b[0m\u001b[37m\u001b[0m \u001b[1m0s\u001b[0m 123ms/step - accuracy: 0.9135 - loss: 0.3041\n",
      "Epoch 9: val_loss did not improve from 0.90590\n",
      "\u001b[1m20/20\u001b[0m \u001b[32m━━━━━━━━━━━━━━━━━━━━\u001b[0m\u001b[37m\u001b[0m \u001b[1m3s\u001b[0m 165ms/step - accuracy: 0.9135 - loss: 0.3050 - val_accuracy: 0.7952 - val_loss: 1.0634\n",
      "Epoch 10/50\n",
      "\u001b[1m20/20\u001b[0m \u001b[32m━━━━━━━━━━━━━━━━━━━━\u001b[0m\u001b[37m\u001b[0m \u001b[1m0s\u001b[0m 123ms/step - accuracy: 0.9511 - loss: 0.1615\n",
      "Epoch 10: val_loss did not improve from 0.90590\n",
      "\u001b[1m20/20\u001b[0m \u001b[32m━━━━━━━━━━━━━━━━━━━━\u001b[0m\u001b[37m\u001b[0m \u001b[1m3s\u001b[0m 166ms/step - accuracy: 0.9504 - loss: 0.1633 - val_accuracy: 0.8238 - val_loss: 1.0598\n",
      "Epoch 10: early stopping\n"
     ]
    }
   ],
   "source": [
    "# Entraînement du modèle\n",
    "model_vgg16, history_vgg16, duration_vgg16 = train_model(model_vgg16, X_train_vgg16, y_train, X_val_vgg16, y_val,\n",
    "                                                         model_save_path=\"./model_vgg16_best.weights.h5\")"
   ]
  },
  {
   "cell_type": "code",
   "execution_count": 18,
   "id": "a93d62e5-dd68-44a0-b5d1-dc0bd612dfb2",
   "metadata": {
    "scrolled": true
   },
   "outputs": [
    {
     "name": "stdout",
     "output_type": "stream",
     "text": [
      "\u001b[1m20/20\u001b[0m \u001b[32m━━━━━━━━━━━━━━━━━━━━\u001b[0m\u001b[37m\u001b[0m \u001b[1m2s\u001b[0m 123ms/step - accuracy: 0.9903 - loss: 0.0447\n",
      "Training Accuracy after last epoch: 0.9921\n",
      "\n",
      "\u001b[1m7/7\u001b[0m \u001b[32m━━━━━━━━━━━━━━━━━━━━\u001b[0m\u001b[37m\u001b[0m \u001b[1m1s\u001b[0m 114ms/step - accuracy: 0.7943 - loss: 0.8878\n",
      "Test Accuracy after last epoch: 0.8000\n",
      "\n",
      "\u001b[1m7/7\u001b[0m \u001b[32m━━━━━━━━━━━━━━━━━━━━\u001b[0m\u001b[37m\u001b[0m \u001b[1m1s\u001b[0m 115ms/step - accuracy: 0.8198 - loss: 0.9141\n",
      "Validation Accuracy (best): 0.8143\n",
      "\u001b[1m7/7\u001b[0m \u001b[32m━━━━━━━━━━━━━━━━━━━━\u001b[0m\u001b[37m\u001b[0m \u001b[1m1s\u001b[0m 115ms/step - accuracy: 0.8003 - loss: 0.8228\n",
      "Test Accuracy (best): 0.8048\n",
      "\u001b[1m7/7\u001b[0m \u001b[32m━━━━━━━━━━━━━━━━━━━━\u001b[0m\u001b[37m\u001b[0m \u001b[1m1s\u001b[0m 115ms/step\n",
      "Adjusted Rand Index (ARI): 0.6131\n"
     ]
    }
   ],
   "source": [
    "# Évaluation du modèle\n",
    "loss_vgg16, accuracy_vgg16, ari_score_vgg16 = evaluate_model(model_vgg16, X_train_vgg16, y_train, X_val_vgg16,\n",
    "                                                             y_val, X_test_vgg16, y_test, best_weights_path=\"./model_vgg16_best.weights.h5\")"
   ]
  },
  {
   "cell_type": "markdown",
   "id": "51705f37-d878-45ec-ba4d-65813c87927b",
   "metadata": {},
   "source": [
    "### InceptionResNetV2"
   ]
  },
  {
   "cell_type": "code",
   "execution_count": 19,
   "id": "74779ef2-ba20-4899-a4d8-cf893153a82b",
   "metadata": {},
   "outputs": [],
   "source": [
    "# Préparation des données\n",
    "X_train_inceptionresnetv2, X_val_inceptionresnetv2, X_test_inceptionresnetv2 = prepare_data(paths_train, paths_val,\n",
    "                                                                                            paths_test, preprocess_inceptionresnetv2,\n",
    "                                                                                            target_size=(299, 299, 3))"
   ]
  },
  {
   "cell_type": "code",
   "execution_count": 20,
   "id": "0834c6c6-76d9-4f8a-b7a2-1eeb9e7149a1",
   "metadata": {
    "scrolled": true
   },
   "outputs": [],
   "source": [
    "# Création du modèle\n",
    "model_inceptionresnetv2 = create_model_fct(base_model_name='InceptionResNetV2')"
   ]
  },
  {
   "cell_type": "code",
   "execution_count": 21,
   "id": "f12f0a2f-5529-4029-b6f5-a99e0260f303",
   "metadata": {
    "scrolled": true
   },
   "outputs": [
    {
     "name": "stdout",
     "output_type": "stream",
     "text": [
      "Epoch 1/50\n",
      "\u001b[1m20/20\u001b[0m \u001b[32m━━━━━━━━━━━━━━━━━━━━\u001b[0m\u001b[37m\u001b[0m \u001b[1m0s\u001b[0m 220ms/step - accuracy: 0.4161 - loss: 1.7388\n",
      "Epoch 1: val_loss improved from inf to 0.63346, saving model to ./model_inceptionresnetv2_best.weights.h5\n",
      "\u001b[1m20/20\u001b[0m \u001b[32m━━━━━━━━━━━━━━━━━━━━\u001b[0m\u001b[37m\u001b[0m \u001b[1m7s\u001b[0m 342ms/step - accuracy: 0.4233 - loss: 1.7193 - val_accuracy: 0.7762 - val_loss: 0.6335\n",
      "Epoch 2/50\n",
      "\u001b[1m20/20\u001b[0m \u001b[32m━━━━━━━━━━━━━━━━━━━━\u001b[0m\u001b[37m\u001b[0m \u001b[1m0s\u001b[0m 216ms/step - accuracy: 0.8230 - loss: 0.6194\n",
      "Epoch 2: val_loss improved from 0.63346 to 0.50787, saving model to ./model_inceptionresnetv2_best.weights.h5\n",
      "\u001b[1m20/20\u001b[0m \u001b[32m━━━━━━━━━━━━━━━━━━━━\u001b[0m\u001b[37m\u001b[0m \u001b[1m7s\u001b[0m 331ms/step - accuracy: 0.8229 - loss: 0.6192 - val_accuracy: 0.8238 - val_loss: 0.5079\n",
      "Epoch 3/50\n",
      "\u001b[1m20/20\u001b[0m \u001b[32m━━━━━━━━━━━━━━━━━━━━\u001b[0m\u001b[37m\u001b[0m \u001b[1m0s\u001b[0m 215ms/step - accuracy: 0.8659 - loss: 0.4298\n",
      "Epoch 3: val_loss improved from 0.50787 to 0.43720, saving model to ./model_inceptionresnetv2_best.weights.h5\n",
      "\u001b[1m20/20\u001b[0m \u001b[32m━━━━━━━━━━━━━━━━━━━━\u001b[0m\u001b[37m\u001b[0m \u001b[1m7s\u001b[0m 332ms/step - accuracy: 0.8649 - loss: 0.4335 - val_accuracy: 0.8619 - val_loss: 0.4372\n",
      "Epoch 4/50\n",
      "\u001b[1m20/20\u001b[0m \u001b[32m━━━━━━━━━━━━━━━━━━━━\u001b[0m\u001b[37m\u001b[0m \u001b[1m0s\u001b[0m 215ms/step - accuracy: 0.8171 - loss: 0.4911\n",
      "Epoch 4: val_loss improved from 0.43720 to 0.37578, saving model to ./model_inceptionresnetv2_best.weights.h5\n",
      "\u001b[1m20/20\u001b[0m \u001b[32m━━━━━━━━━━━━━━━━━━━━\u001b[0m\u001b[37m\u001b[0m \u001b[1m7s\u001b[0m 331ms/step - accuracy: 0.8192 - loss: 0.4878 - val_accuracy: 0.8619 - val_loss: 0.3758\n",
      "Epoch 5/50\n",
      "\u001b[1m20/20\u001b[0m \u001b[32m━━━━━━━━━━━━━━━━━━━━\u001b[0m\u001b[37m\u001b[0m \u001b[1m0s\u001b[0m 215ms/step - accuracy: 0.8668 - loss: 0.4252\n",
      "Epoch 5: val_loss did not improve from 0.37578\n",
      "\u001b[1m20/20\u001b[0m \u001b[32m━━━━━━━━━━━━━━━━━━━━\u001b[0m\u001b[37m\u001b[0m \u001b[1m6s\u001b[0m 291ms/step - accuracy: 0.8675 - loss: 0.4221 - val_accuracy: 0.8714 - val_loss: 0.3981\n",
      "Epoch 6/50\n",
      "\u001b[1m20/20\u001b[0m \u001b[32m━━━━━━━━━━━━━━━━━━━━\u001b[0m\u001b[37m\u001b[0m \u001b[1m0s\u001b[0m 213ms/step - accuracy: 0.9121 - loss: 0.3284\n",
      "Epoch 6: val_loss did not improve from 0.37578\n",
      "\u001b[1m20/20\u001b[0m \u001b[32m━━━━━━━━━━━━━━━━━━━━\u001b[0m\u001b[37m\u001b[0m \u001b[1m6s\u001b[0m 289ms/step - accuracy: 0.9123 - loss: 0.3275 - val_accuracy: 0.8381 - val_loss: 0.5065\n",
      "Epoch 7/50\n",
      "\u001b[1m20/20\u001b[0m \u001b[32m━━━━━━━━━━━━━━━━━━━━\u001b[0m\u001b[37m\u001b[0m \u001b[1m0s\u001b[0m 215ms/step - accuracy: 0.8899 - loss: 0.3313\n",
      "Epoch 7: val_loss did not improve from 0.37578\n",
      "\u001b[1m20/20\u001b[0m \u001b[32m━━━━━━━━━━━━━━━━━━━━\u001b[0m\u001b[37m\u001b[0m \u001b[1m6s\u001b[0m 293ms/step - accuracy: 0.8901 - loss: 0.3297 - val_accuracy: 0.8333 - val_loss: 0.4954\n",
      "Epoch 8/50\n",
      "\u001b[1m20/20\u001b[0m \u001b[32m━━━━━━━━━━━━━━━━━━━━\u001b[0m\u001b[37m\u001b[0m \u001b[1m0s\u001b[0m 214ms/step - accuracy: 0.9170 - loss: 0.2507\n",
      "Epoch 8: val_loss did not improve from 0.37578\n",
      "\u001b[1m20/20\u001b[0m \u001b[32m━━━━━━━━━━━━━━━━━━━━\u001b[0m\u001b[37m\u001b[0m \u001b[1m6s\u001b[0m 289ms/step - accuracy: 0.9171 - loss: 0.2508 - val_accuracy: 0.8429 - val_loss: 0.4557\n",
      "Epoch 9/50\n",
      "\u001b[1m20/20\u001b[0m \u001b[32m━━━━━━━━━━━━━━━━━━━━\u001b[0m\u001b[37m\u001b[0m \u001b[1m0s\u001b[0m 214ms/step - accuracy: 0.9222 - loss: 0.2250\n",
      "Epoch 9: val_loss did not improve from 0.37578\n",
      "\u001b[1m20/20\u001b[0m \u001b[32m━━━━━━━━━━━━━━━━━━━━\u001b[0m\u001b[37m\u001b[0m \u001b[1m6s\u001b[0m 290ms/step - accuracy: 0.9221 - loss: 0.2247 - val_accuracy: 0.8571 - val_loss: 0.3984\n",
      "Epoch 9: early stopping\n"
     ]
    }
   ],
   "source": [
    "# Entraînement du modèle\n",
    "model_iresnetv2, history_iressnetv2, duration_iresnetv2 = train_model(model_inceptionresnetv2, X_train_inceptionresnetv2,\n",
    "                                                                      y_train, X_val_inceptionresnetv2, y_val,\n",
    "                                                                      model_save_path=\"./model_inceptionresnetv2_best.weights.h5\")"
   ]
  },
  {
   "cell_type": "code",
   "execution_count": 22,
   "id": "03c57b95-2844-40bd-89b6-5b4fb91c796e",
   "metadata": {},
   "outputs": [
    {
     "name": "stdout",
     "output_type": "stream",
     "text": [
      "\u001b[1m20/20\u001b[0m \u001b[32m━━━━━━━━━━━━━━━━━━━━\u001b[0m\u001b[37m\u001b[0m \u001b[1m4s\u001b[0m 216ms/step - accuracy: 0.9721 - loss: 0.1040\n",
      "Training Accuracy after last epoch: 0.9651\n",
      "\n",
      "\u001b[1m7/7\u001b[0m \u001b[32m━━━━━━━━━━━━━━━━━━━━\u001b[0m\u001b[37m\u001b[0m \u001b[1m1s\u001b[0m 211ms/step - accuracy: 0.9057 - loss: 0.3731\n",
      "Test Accuracy after last epoch: 0.8905\n",
      "\n",
      "\u001b[1m7/7\u001b[0m \u001b[32m━━━━━━━━━━━━━━━━━━━━\u001b[0m\u001b[37m\u001b[0m \u001b[1m1s\u001b[0m 206ms/step - accuracy: 0.8612 - loss: 0.3820\n",
      "Validation Accuracy (best): 0.8619\n",
      "\u001b[1m7/7\u001b[0m \u001b[32m━━━━━━━━━━━━━━━━━━━━\u001b[0m\u001b[37m\u001b[0m \u001b[1m1s\u001b[0m 205ms/step - accuracy: 0.8846 - loss: 0.3573\n",
      "Test Accuracy (best): 0.8762\n",
      "\u001b[1m7/7\u001b[0m \u001b[32m━━━━━━━━━━━━━━━━━━━━\u001b[0m\u001b[37m\u001b[0m \u001b[1m1s\u001b[0m 199ms/step\n",
      "Adjusted Rand Index (ARI): 0.7548\n"
     ]
    }
   ],
   "source": [
    "# Évaluation du modèle\n",
    "loss_inceptionresnetv2, accuracy_inceptionresnetv2, ari_score_inceptionresnetv2 = evaluate_model(model_iresnetv2,\n",
    "                                                                                                 X_train_inceptionresnetv2,\n",
    "                                                                                                 y_train, X_val_inceptionresnetv2,\n",
    "                                                                                                 y_val, X_test_inceptionresnetv2,\n",
    "                                                                                                 y_test,\n",
    "                                                                                                 best_weights_path=\"./model_inceptionresnetv2_best.weights.h5\")"
   ]
  },
  {
   "cell_type": "markdown",
   "id": "de738ea6-874e-439e-bf2e-74ed405ba278",
   "metadata": {},
   "source": [
    "### DenseNet201"
   ]
  },
  {
   "cell_type": "code",
   "execution_count": 23,
   "id": "28b0ecdc-e29a-4c04-905f-82319f9c3d27",
   "metadata": {},
   "outputs": [],
   "source": [
    "# Préparation des données\n",
    "X_train_densenet201, X_val_densenet201, X_test_densenet201 = prepare_data(paths_train, paths_val, paths_test,\n",
    "                                                                          preprocess_densenet201, target_size=(224, 224, 3))\n"
   ]
  },
  {
   "cell_type": "code",
   "execution_count": 24,
   "id": "238a913f-66ac-4adc-8757-f60368ec2e8d",
   "metadata": {
    "scrolled": true
   },
   "outputs": [],
   "source": [
    "# Création du modèle\n",
    "model_densenet201 = create_model_fct(base_model_name='DenseNet201')\n"
   ]
  },
  {
   "cell_type": "code",
   "execution_count": 25,
   "id": "732d2a50-eb0c-4c12-8b9f-d5fb1d81fadc",
   "metadata": {},
   "outputs": [
    {
     "name": "stdout",
     "output_type": "stream",
     "text": [
      "Epoch 1/50\n",
      "\u001b[1m20/20\u001b[0m \u001b[32m━━━━━━━━━━━━━━━━━━━━\u001b[0m\u001b[37m\u001b[0m \u001b[1m0s\u001b[0m 980ms/step - accuracy: 0.3754 - loss: 2.0572\n",
      "Epoch 1: val_loss improved from inf to 0.64170, saving model to ./model_densenet201_best.weights.h5\n",
      "\u001b[1m20/20\u001b[0m \u001b[32m━━━━━━━━━━━━━━━━━━━━\u001b[0m\u001b[37m\u001b[0m \u001b[1m27s\u001b[0m 1s/step - accuracy: 0.3835 - loss: 2.0283 - val_accuracy: 0.7857 - val_loss: 0.6417\n",
      "Epoch 2/50\n",
      "\u001b[1m20/20\u001b[0m \u001b[32m━━━━━━━━━━━━━━━━━━━━\u001b[0m\u001b[37m\u001b[0m \u001b[1m0s\u001b[0m 969ms/step - accuracy: 0.8201 - loss: 0.5878\n",
      "Epoch 2: val_loss improved from 0.64170 to 0.53694, saving model to ./model_densenet201_best.weights.h5\n",
      "\u001b[1m20/20\u001b[0m \u001b[32m━━━━━━━━━━━━━━━━━━━━\u001b[0m\u001b[37m\u001b[0m \u001b[1m26s\u001b[0m 1s/step - accuracy: 0.8195 - loss: 0.5901 - val_accuracy: 0.8333 - val_loss: 0.5369\n",
      "Epoch 3/50\n",
      "\u001b[1m20/20\u001b[0m \u001b[32m━━━━━━━━━━━━━━━━━━━━\u001b[0m\u001b[37m\u001b[0m \u001b[1m0s\u001b[0m 971ms/step - accuracy: 0.8532 - loss: 0.4571\n",
      "Epoch 3: val_loss improved from 0.53694 to 0.52267, saving model to ./model_densenet201_best.weights.h5\n",
      "\u001b[1m20/20\u001b[0m \u001b[32m━━━━━━━━━━━━━━━━━━━━\u001b[0m\u001b[37m\u001b[0m \u001b[1m27s\u001b[0m 1s/step - accuracy: 0.8534 - loss: 0.4560 - val_accuracy: 0.8286 - val_loss: 0.5227\n",
      "Epoch 4/50\n",
      "\u001b[1m20/20\u001b[0m \u001b[32m━━━━━━━━━━━━━━━━━━━━\u001b[0m\u001b[37m\u001b[0m \u001b[1m0s\u001b[0m 991ms/step - accuracy: 0.8990 - loss: 0.3022\n",
      "Epoch 4: val_loss improved from 0.52267 to 0.50521, saving model to ./model_densenet201_best.weights.h5\n",
      "\u001b[1m20/20\u001b[0m \u001b[32m━━━━━━━━━━━━━━━━━━━━\u001b[0m\u001b[37m\u001b[0m \u001b[1m26s\u001b[0m 1s/step - accuracy: 0.8989 - loss: 0.3028 - val_accuracy: 0.8667 - val_loss: 0.5052\n",
      "Epoch 5/50\n",
      "\u001b[1m20/20\u001b[0m \u001b[32m━━━━━━━━━━━━━━━━━━━━\u001b[0m\u001b[37m\u001b[0m \u001b[1m0s\u001b[0m 969ms/step - accuracy: 0.8993 - loss: 0.2820\n",
      "Epoch 5: val_loss improved from 0.50521 to 0.47022, saving model to ./model_densenet201_best.weights.h5\n",
      "\u001b[1m20/20\u001b[0m \u001b[32m━━━━━━━━━━━━━━━━━━━━\u001b[0m\u001b[37m\u001b[0m \u001b[1m26s\u001b[0m 1s/step - accuracy: 0.8996 - loss: 0.2816 - val_accuracy: 0.8476 - val_loss: 0.4702\n",
      "Epoch 6/50\n",
      "\u001b[1m20/20\u001b[0m \u001b[32m━━━━━━━━━━━━━━━━━━━━\u001b[0m\u001b[37m\u001b[0m \u001b[1m0s\u001b[0m 1s/step - accuracy: 0.9463 - loss: 0.1891\n",
      "Epoch 6: val_loss did not improve from 0.47022\n",
      "\u001b[1m20/20\u001b[0m \u001b[32m━━━━━━━━━━━━━━━━━━━━\u001b[0m\u001b[37m\u001b[0m \u001b[1m26s\u001b[0m 1s/step - accuracy: 0.9456 - loss: 0.1907 - val_accuracy: 0.8333 - val_loss: 0.5841\n",
      "Epoch 7/50\n",
      "\u001b[1m20/20\u001b[0m \u001b[32m━━━━━━━━━━━━━━━━━━━━\u001b[0m\u001b[37m\u001b[0m \u001b[1m0s\u001b[0m 968ms/step - accuracy: 0.9438 - loss: 0.1794\n",
      "Epoch 7: val_loss did not improve from 0.47022\n",
      "\u001b[1m20/20\u001b[0m \u001b[32m━━━━━━━━━━━━━━━━━━━━\u001b[0m\u001b[37m\u001b[0m \u001b[1m25s\u001b[0m 1s/step - accuracy: 0.9442 - loss: 0.1781 - val_accuracy: 0.8238 - val_loss: 0.5634\n",
      "Epoch 8/50\n",
      "\u001b[1m20/20\u001b[0m \u001b[32m━━━━━━━━━━━━━━━━━━━━\u001b[0m\u001b[37m\u001b[0m \u001b[1m0s\u001b[0m 965ms/step - accuracy: 0.9658 - loss: 0.1347\n",
      "Epoch 8: val_loss did not improve from 0.47022\n",
      "\u001b[1m20/20\u001b[0m \u001b[32m━━━━━━━━━━━━━━━━━━━━\u001b[0m\u001b[37m\u001b[0m \u001b[1m25s\u001b[0m 1s/step - accuracy: 0.9659 - loss: 0.1344 - val_accuracy: 0.8429 - val_loss: 0.5771\n",
      "Epoch 9/50\n",
      "\u001b[1m20/20\u001b[0m \u001b[32m━━━━━━━━━━━━━━━━━━━━\u001b[0m\u001b[37m\u001b[0m \u001b[1m0s\u001b[0m 966ms/step - accuracy: 0.9626 - loss: 0.1050\n",
      "Epoch 9: val_loss did not improve from 0.47022\n",
      "\u001b[1m20/20\u001b[0m \u001b[32m━━━━━━━━━━━━━━━━━━━━\u001b[0m\u001b[37m\u001b[0m \u001b[1m25s\u001b[0m 1s/step - accuracy: 0.9626 - loss: 0.1055 - val_accuracy: 0.8095 - val_loss: 0.6097\n",
      "Epoch 10/50\n",
      "\u001b[1m20/20\u001b[0m \u001b[32m━━━━━━━━━━━━━━━━━━━━\u001b[0m\u001b[37m\u001b[0m \u001b[1m0s\u001b[0m 964ms/step - accuracy: 0.9678 - loss: 0.0999\n",
      "Epoch 10: val_loss did not improve from 0.47022\n",
      "\u001b[1m20/20\u001b[0m \u001b[32m━━━━━━━━━━━━━━━━━━━━\u001b[0m\u001b[37m\u001b[0m \u001b[1m25s\u001b[0m 1s/step - accuracy: 0.9675 - loss: 0.0999 - val_accuracy: 0.8333 - val_loss: 0.5580\n",
      "Epoch 10: early stopping\n"
     ]
    }
   ],
   "source": [
    "# Entraînement du modèle\n",
    "model_densenet201, history_densenet201, duration_densenet201 = train_model(model_densenet201, X_train_densenet201, y_train,\n",
    "                                                                           X_val_densenet201, y_val,\n",
    "                                                                           model_save_path=\"./model_densenet201_best.weights.h5\")\n"
   ]
  },
  {
   "cell_type": "code",
   "execution_count": 26,
   "id": "41f25fb0-8191-474b-88a5-2ad4bf309a37",
   "metadata": {},
   "outputs": [
    {
     "name": "stdout",
     "output_type": "stream",
     "text": [
      "\u001b[1m20/20\u001b[0m \u001b[32m━━━━━━━━━━━━━━━━━━━━\u001b[0m\u001b[37m\u001b[0m \u001b[1m19s\u001b[0m 961ms/step - accuracy: 0.9998 - loss: 0.0157\n",
      "Training Accuracy after last epoch: 0.9984\n",
      "\n",
      "\u001b[1m7/7\u001b[0m \u001b[32m━━━━━━━━━━━━━━━━━━━━\u001b[0m\u001b[37m\u001b[0m \u001b[1m6s\u001b[0m 837ms/step - accuracy: 0.8560 - loss: 0.5049\n",
      "Test Accuracy after last epoch: 0.8571\n",
      "\n",
      "\u001b[1m7/7\u001b[0m \u001b[32m━━━━━━━━━━━━━━━━━━━━\u001b[0m\u001b[37m\u001b[0m \u001b[1m6s\u001b[0m 845ms/step - accuracy: 0.8325 - loss: 0.4961\n",
      "Validation Accuracy (best): 0.8476\n",
      "\u001b[1m7/7\u001b[0m \u001b[32m━━━━━━━━━━━━━━━━━━━━\u001b[0m\u001b[37m\u001b[0m \u001b[1m6s\u001b[0m 838ms/step - accuracy: 0.8783 - loss: 0.3751\n",
      "Test Accuracy (best): 0.8619\n",
      "\u001b[1m7/7\u001b[0m \u001b[32m━━━━━━━━━━━━━━━━━━━━\u001b[0m\u001b[37m\u001b[0m \u001b[1m6s\u001b[0m 893ms/step\n",
      "Adjusted Rand Index (ARI): 0.7306\n"
     ]
    }
   ],
   "source": [
    "# Évaluation du modèle\n",
    "loss_densenet201, accuracy_densenet201, ari_score_densenet201 = evaluate_model(model_densenet201, X_train_densenet201,\n",
    "                                                                               y_train, X_val_densenet201,\n",
    "                                                                                y_val, X_test_densenet201, y_test,\n",
    "                                                                               best_weights_path=\"./model_densenet201_best.weights.h5\")"
   ]
  },
  {
   "cell_type": "markdown",
   "id": "50e99361-c715-4afa-853e-222ed27935b2",
   "metadata": {},
   "source": [
    "### Comparaison des résultats"
   ]
  },
  {
   "cell_type": "code",
   "execution_count": 197,
   "id": "9882c8c9-2fcf-4a83-be74-0a6012d0d1df",
   "metadata": {},
   "outputs": [],
   "source": [
    "# Initialisation de la liste pour stocker les résultats\n",
    "data_results = []\n",
    "\n",
    "# Fonction pour ajouter les résultats d'un modèle au DataFrame\n",
    "def add_results(model_name, loss, accuracy, ari_score, duration):\n",
    "    metrics = ['Loss', 'Accuracy', 'Adjusted Rand Score', 'Duration (en heures)']\n",
    "    scores = [loss, accuracy, ari_score, (duration/3600)]\n",
    "    for metric, score in zip(metrics, scores):\n",
    "        data_results.append({\n",
    "            'Model': model_name,\n",
    "            'Metric': metric,\n",
    "            'Score': score\n",
    "        })"
   ]
  },
  {
   "cell_type": "code",
   "execution_count": 198,
   "id": "ec292a92-295a-4ff5-b03b-b2d3af07a9ec",
   "metadata": {},
   "outputs": [],
   "source": [
    "add_results('VGG16', loss_vgg16, accuracy_vgg16, ari_score_vgg16, duration_vgg16)\n",
    "add_results('InceptionResNetV2', loss_inceptionresnetv2, accuracy_inceptionresnetv2, ari_score_inceptionresnetv2, duration_iresnetv2)\n",
    "add_results('DenseNet201', loss_densenet201, accuracy_densenet201, ari_score_densenet201, duration_densenet201)\n",
    "\n",
    "data_metrics = pd.DataFrame(data_results)"
   ]
  },
  {
   "cell_type": "code",
   "execution_count": 124,
   "id": "a03348a5-74cb-4938-b88f-1ec17eb869d1",
   "metadata": {},
   "outputs": [
    {
     "data": {
      "image/png": "[encoded data removed]",
      "text/plain": [
       "<Figure size 1200x800 with 1 Axes>"
      ]
     },
     "metadata": {},
     "output_type": "display_data"
    }
   ],
   "source": [
    "plot_model_performance(data_metrics)"
   ]
  },
  {
   "cell_type": "markdown",
   "id": "7feb95ce-bd7a-47f6-8b03-99be68d198cc",
   "metadata": {},
   "source": [
    "# Optimisation"
   ]
  },
  {
   "cell_type": "markdown",
   "id": "cbccf6d0-9182-49b2-992c-7bc576e52011",
   "metadata": {},
   "source": [
    "## Hyper paramètres"
   ]
  },
  {
   "cell_type": "code",
   "execution_count": 30,
   "id": "02b4a482-d159-4fc0-81ae-26fe35326e94",
   "metadata": {},
   "outputs": [
    {
     "name": "stdout",
     "output_type": "stream",
     "text": [
      "Testing with learning_rate=0.01, batch_size=16, epochs=50\n",
      "Epoch 19: early stopping\n",
      "Restoring model weights from the end of the best epoch: 14.\n",
      "Finished 0.01, 16 with val_accuracy=0.8666666746139526, duration=494.57583498954773\n",
      "Testing with learning_rate=0.01, batch_size=32, epochs=50\n",
      "Epoch 5: early stopping\n",
      "Restoring model weights from the end of the best epoch: 1.\n",
      "Finished 0.01, 32 with val_accuracy=0.8571428656578064, duration=36.69457149505615\n",
      "Testing with learning_rate=0.01, batch_size=64, epochs=50\n",
      "Epoch 5: early stopping\n",
      "Restoring model weights from the end of the best epoch: 1.\n",
      "Finished 0.01, 64 with val_accuracy=0.8809523582458496, duration=256.50888872146606\n",
      "Testing with learning_rate=0.001, batch_size=16, epochs=50\n",
      "Epoch 5: early stopping\n",
      "Restoring model weights from the end of the best epoch: 1.\n",
      "Finished 0.001, 16 with val_accuracy=0.8809523582458496, duration=168.98686337471008\n",
      "Testing with learning_rate=0.001, batch_size=32, epochs=50\n",
      "Epoch 5: early stopping\n",
      "Restoring model weights from the end of the best epoch: 1.\n",
      "Finished 0.001, 32 with val_accuracy=0.8809523582458496, duration=210.5044777393341\n",
      "Testing with learning_rate=0.001, batch_size=64, epochs=50\n",
      "Epoch 5: early stopping\n",
      "Restoring model weights from the end of the best epoch: 1.\n",
      "Finished 0.001, 64 with val_accuracy=0.8761904835700989, duration=263.5754430294037\n",
      "Best parameters: {'learning_rate': 0.001, 'batch_size': 16, 'epochs': 0}\n"
     ]
    }
   ],
   "source": [
    "# Entraînement du modèle\n",
    "best_model, duration_best = test_hyperparameters(model_inceptionresnetv2, X_train_inceptionresnetv2, y_train, X_val_inceptionresnetv2,\n",
    "                                                 y_val, \"./model_best.weights.h5\")"
   ]
  },
  {
   "cell_type": "code",
   "execution_count": 31,
   "id": "9a10ade4-380a-423e-b2e7-1e60293c9f59",
   "metadata": {},
   "outputs": [
    {
     "name": "stdout",
     "output_type": "stream",
     "text": [
      "\u001b[1m7/7\u001b[0m \u001b[32m━━━━━━━━━━━━━━━━━━━━\u001b[0m\u001b[37m\u001b[0m \u001b[1m9s\u001b[0m 1s/step - accuracy: 0.8747 - loss: 0.7072\n",
      "Validation Accuracy (best): 0.8810\n",
      "\u001b[1m7/7\u001b[0m \u001b[32m━━━━━━━━━━━━━━━━━━━━\u001b[0m\u001b[37m\u001b[0m \u001b[1m9s\u001b[0m 1s/step - accuracy: 0.8798 - loss: 0.6367\n",
      "Test Accuracy (best): 0.8714\n",
      "\u001b[1m7/7\u001b[0m \u001b[32m━━━━━━━━━━━━━━━━━━━━\u001b[0m\u001b[37m\u001b[0m \u001b[1m9s\u001b[0m 1s/step\n",
      "Adjusted Rand Index (ARI): 0.7470\n"
     ]
    }
   ],
   "source": [
    "# Évaluation du modèle\n",
    "loss_best, accuracy_best, ari_score_best = evaluate_model(best_model,\n",
    "                                                          X_train_inceptionresnetv2,\n",
    "                                                          y_train, X_val_inceptionresnetv2,\n",
    "                                                          y_val, X_test_inceptionresnetv2,\n",
    "                                                          y_test, best_weights_path=\"none\")"
   ]
  },
  {
   "cell_type": "code",
   "execution_count": 199,
   "id": "5252398d-eed7-4bea-b8aa-228b7e5472ec",
   "metadata": {},
   "outputs": [],
   "source": [
    "add_results('InceptionResNetV2(HP)', loss_best, accuracy_best, ari_score_best, duration_best)\n",
    "data_metrics = pd.DataFrame(data_results)"
   ]
  },
  {
   "cell_type": "code",
   "execution_count": 126,
   "id": "f5368552-dae5-4bd7-895d-3d10ff759edc",
   "metadata": {},
   "outputs": [
    {
     "data": {
      "text/html": [
       "<div>\n",
       "<style scoped>\n",
       "    .dataframe tbody tr th:only-of-type {\n",
       "        vertical-align: middle;\n",
       "    }\n",
       "\n",
       "    .dataframe tbody tr th {\n",
       "        vertical-align: top;\n",
       "    }\n",
       "\n",
       "    .dataframe thead th {\n",
       "        text-align: right;\n",
       "    }\n",
       "</style>\n",
       "<table border=\"1\" class=\"dataframe\">\n",
       "  <thead>\n",
       "    <tr style=\"text-align: right;\">\n",
       "      <th></th>\n",
       "      <th>Model</th>\n",
       "      <th>Metric</th>\n",
       "      <th>Score</th>\n",
       "    </tr>\n",
       "  </thead>\n",
       "  <tbody>\n",
       "    <tr>\n",
       "      <th>0</th>\n",
       "      <td>VGG16</td>\n",
       "      <td>Loss</td>\n",
       "      <td>0.929100</td>\n",
       "    </tr>\n",
       "    <tr>\n",
       "      <th>1</th>\n",
       "      <td>VGG16</td>\n",
       "      <td>Accuracy</td>\n",
       "      <td>0.804762</td>\n",
       "    </tr>\n",
       "    <tr>\n",
       "      <th>2</th>\n",
       "      <td>VGG16</td>\n",
       "      <td>Adjusted Rand Score</td>\n",
       "      <td>0.613075</td>\n",
       "    </tr>\n",
       "    <tr>\n",
       "      <th>3</th>\n",
       "      <td>VGG16</td>\n",
       "      <td>Duration (en heures)</td>\n",
       "      <td>0.009636</td>\n",
       "    </tr>\n",
       "    <tr>\n",
       "      <th>4</th>\n",
       "      <td>InceptionResNetV2</td>\n",
       "      <td>Loss</td>\n",
       "      <td>0.400183</td>\n",
       "    </tr>\n",
       "    <tr>\n",
       "      <th>5</th>\n",
       "      <td>InceptionResNetV2</td>\n",
       "      <td>Accuracy</td>\n",
       "      <td>0.876190</td>\n",
       "    </tr>\n",
       "    <tr>\n",
       "      <th>6</th>\n",
       "      <td>InceptionResNetV2</td>\n",
       "      <td>Adjusted Rand Score</td>\n",
       "      <td>0.754794</td>\n",
       "    </tr>\n",
       "    <tr>\n",
       "      <th>7</th>\n",
       "      <td>InceptionResNetV2</td>\n",
       "      <td>Duration (en heures)</td>\n",
       "      <td>0.015675</td>\n",
       "    </tr>\n",
       "    <tr>\n",
       "      <th>8</th>\n",
       "      <td>DenseNet201</td>\n",
       "      <td>Loss</td>\n",
       "      <td>0.407489</td>\n",
       "    </tr>\n",
       "    <tr>\n",
       "      <th>9</th>\n",
       "      <td>DenseNet201</td>\n",
       "      <td>Accuracy</td>\n",
       "      <td>0.861905</td>\n",
       "    </tr>\n",
       "    <tr>\n",
       "      <th>10</th>\n",
       "      <td>DenseNet201</td>\n",
       "      <td>Adjusted Rand Score</td>\n",
       "      <td>0.730567</td>\n",
       "    </tr>\n",
       "    <tr>\n",
       "      <th>11</th>\n",
       "      <td>DenseNet201</td>\n",
       "      <td>Duration (en heures)</td>\n",
       "      <td>0.072172</td>\n",
       "    </tr>\n",
       "    <tr>\n",
       "      <th>12</th>\n",
       "      <td>InceptionResNetV2(HP)</td>\n",
       "      <td>Loss</td>\n",
       "      <td>0.721696</td>\n",
       "    </tr>\n",
       "    <tr>\n",
       "      <th>13</th>\n",
       "      <td>InceptionResNetV2(HP)</td>\n",
       "      <td>Accuracy</td>\n",
       "      <td>0.871429</td>\n",
       "    </tr>\n",
       "    <tr>\n",
       "      <th>14</th>\n",
       "      <td>InceptionResNetV2(HP)</td>\n",
       "      <td>Adjusted Rand Score</td>\n",
       "      <td>0.747019</td>\n",
       "    </tr>\n",
       "    <tr>\n",
       "      <th>15</th>\n",
       "      <td>InceptionResNetV2(HP)</td>\n",
       "      <td>Duration (en heures)</td>\n",
       "      <td>0.046941</td>\n",
       "    </tr>\n",
       "  </tbody>\n",
       "</table>\n",
       "</div>"
      ],
      "text/plain": [
       "                    Model                Metric     Score\n",
       "0                   VGG16                  Loss  0.929100\n",
       "1                   VGG16              Accuracy  0.804762\n",
       "2                   VGG16   Adjusted Rand Score  0.613075\n",
       "3                   VGG16  Duration (en heures)  0.009636\n",
       "4       InceptionResNetV2                  Loss  0.400183\n",
       "5       InceptionResNetV2              Accuracy  0.876190\n",
       "6       InceptionResNetV2   Adjusted Rand Score  0.754794\n",
       "7       InceptionResNetV2  Duration (en heures)  0.015675\n",
       "8             DenseNet201                  Loss  0.407489\n",
       "9             DenseNet201              Accuracy  0.861905\n",
       "10            DenseNet201   Adjusted Rand Score  0.730567\n",
       "11            DenseNet201  Duration (en heures)  0.072172\n",
       "12  InceptionResNetV2(HP)                  Loss  0.721696\n",
       "13  InceptionResNetV2(HP)              Accuracy  0.871429\n",
       "14  InceptionResNetV2(HP)   Adjusted Rand Score  0.747019\n",
       "15  InceptionResNetV2(HP)  Duration (en heures)  0.046941"
      ]
     },
     "execution_count": 126,
     "metadata": {},
     "output_type": "execute_result"
    }
   ],
   "source": [
    "data_metrics"
   ]
  },
  {
   "cell_type": "code",
   "execution_count": 200,
   "id": "6889bfdb-3e17-408b-8f17-ca6f5cc9ee3b",
   "metadata": {},
   "outputs": [
    {
     "data": {
      "image/png": "[encoded data removed]",
      "text/plain": [
       "<Figure size 1200x800 with 1 Axes>"
      ]
     },
     "metadata": {},
     "output_type": "display_data"
    }
   ],
   "source": [
    "plot_model_performance(data_metrics)"
   ]
  },
  {
   "cell_type": "markdown",
   "id": "c315c260-a1ae-4a45-9a18-d32dde463c6b",
   "metadata": {},
   "source": [
    "## Data Augmentation"
   ]
  },
  {
   "cell_type": "markdown",
   "id": "fd1c795c-bd20-466b-8967-b6c506dbae72",
   "metadata": {},
   "source": [
    "### ImageDataGenerator"
   ]
  },
  {
   "cell_type": "code",
   "execution_count": 35,
   "id": "284c7a6c-e762-469d-a458-94594f5bb35f",
   "metadata": {},
   "outputs": [],
   "source": [
    "# Préparez les générateurs avec la data augmentation\n",
    "train_generator, validation_generator = prepare_augmented_data(X_train_inceptionresnetv2, y_train, X_val_inceptionresnetv2, y_val)\n"
   ]
  },
  {
   "cell_type": "code",
   "execution_count": 36,
   "id": "543ee2a8-3a65-4061-bc5b-1b86286048f5",
   "metadata": {},
   "outputs": [
    {
     "name": "stderr",
     "output_type": "stream",
     "text": [
      "C:\\Users\\estel\\anaconda3\\envs\\OC\\Lib\\site-packages\\keras\\src\\trainers\\data_adapters\\py_dataset_adapter.py:121: UserWarning: Your `PyDataset` class should call `super().__init__(**kwargs)` in its constructor. `**kwargs` can include `workers`, `use_multiprocessing`, `max_queue_size`. Do not pass these arguments to `fit()`, as they will be ignored.\n",
      "  self._warn_if_super_not_called()\n"
     ]
    },
    {
     "name": "stdout",
     "output_type": "stream",
     "text": [
      "Epoch 1/50\n",
      "\u001b[1m20/20\u001b[0m \u001b[32m━━━━━━━━━━━━━━━━━━━━\u001b[0m\u001b[37m\u001b[0m \u001b[1m0s\u001b[0m 2s/step - accuracy: 0.1313 - loss: 5.0820\n",
      "Epoch 1: val_loss improved from inf to 2.07649, saving model to ./model_augmented_data_best.weights.h5\n",
      "\u001b[1m20/20\u001b[0m \u001b[32m━━━━━━━━━━━━━━━━━━━━\u001b[0m\u001b[37m\u001b[0m \u001b[1m51s\u001b[0m 3s/step - accuracy: 0.1319 - loss: 5.0185 - val_accuracy: 0.1476 - val_loss: 2.0765\n",
      "Epoch 2/50\n",
      "\u001b[1m20/20\u001b[0m \u001b[32m━━━━━━━━━━━━━━━━━━━━\u001b[0m\u001b[37m\u001b[0m \u001b[1m0s\u001b[0m 2s/step - accuracy: 0.1351 - loss: 2.1809\n",
      "Epoch 2: val_loss improved from 2.07649 to 1.96189, saving model to ./model_augmented_data_best.weights.h5\n",
      "\u001b[1m20/20\u001b[0m \u001b[32m━━━━━━━━━━━━━━━━━━━━\u001b[0m\u001b[37m\u001b[0m \u001b[1m48s\u001b[0m 2s/step - accuracy: 0.1353 - loss: 2.1760 - val_accuracy: 0.1524 - val_loss: 1.9619\n",
      "Epoch 3/50\n",
      "\u001b[1m20/20\u001b[0m \u001b[32m━━━━━━━━━━━━━━━━━━━━\u001b[0m\u001b[37m\u001b[0m \u001b[1m0s\u001b[0m 2s/step - accuracy: 0.1553 - loss: 1.9876\n",
      "Epoch 3: val_loss improved from 1.96189 to 1.95782, saving model to ./model_augmented_data_best.weights.h5\n",
      "\u001b[1m20/20\u001b[0m \u001b[32m━━━━━━━━━━━━━━━━━━━━\u001b[0m\u001b[37m\u001b[0m \u001b[1m47s\u001b[0m 2s/step - accuracy: 0.1553 - loss: 1.9872 - val_accuracy: 0.1476 - val_loss: 1.9578\n",
      "Epoch 4/50\n",
      "\u001b[1m20/20\u001b[0m \u001b[32m━━━━━━━━━━━━━━━━━━━━\u001b[0m\u001b[37m\u001b[0m \u001b[1m0s\u001b[0m 2s/step - accuracy: 0.1590 - loss: 1.9587\n",
      "Epoch 4: val_loss did not improve from 1.95782\n",
      "\u001b[1m20/20\u001b[0m \u001b[32m━━━━━━━━━━━━━━━━━━━━\u001b[0m\u001b[37m\u001b[0m \u001b[1m47s\u001b[0m 2s/step - accuracy: 0.1589 - loss: 1.9593 - val_accuracy: 0.1476 - val_loss: 1.9594\n",
      "Epoch 5/50\n",
      "\u001b[1m20/20\u001b[0m \u001b[32m━━━━━━━━━━━━━━━━━━━━\u001b[0m\u001b[37m\u001b[0m \u001b[1m0s\u001b[0m 2s/step - accuracy: 0.1476 - loss: 1.9813\n",
      "Epoch 5: val_loss improved from 1.95782 to 1.95694, saving model to ./model_augmented_data_best.weights.h5\n",
      "\u001b[1m20/20\u001b[0m \u001b[32m━━━━━━━━━━━━━━━━━━━━\u001b[0m\u001b[37m\u001b[0m \u001b[1m48s\u001b[0m 2s/step - accuracy: 0.1474 - loss: 1.9808 - val_accuracy: 0.1476 - val_loss: 1.9569\n",
      "Epoch 6/50\n",
      "\u001b[1m20/20\u001b[0m \u001b[32m━━━━━━━━━━━━━━━━━━━━\u001b[0m\u001b[37m\u001b[0m \u001b[1m0s\u001b[0m 2s/step - accuracy: 0.1558 - loss: 1.9658\n",
      "Epoch 6: val_loss improved from 1.95694 to 1.95584, saving model to ./model_augmented_data_best.weights.h5\n",
      "\u001b[1m20/20\u001b[0m \u001b[32m━━━━━━━━━━━━━━━━━━━━\u001b[0m\u001b[37m\u001b[0m \u001b[1m49s\u001b[0m 2s/step - accuracy: 0.1554 - loss: 1.9659 - val_accuracy: 0.1476 - val_loss: 1.9558\n",
      "Epoch 7/50\n",
      "\u001b[1m20/20\u001b[0m \u001b[32m━━━━━━━━━━━━━━━━━━━━\u001b[0m\u001b[37m\u001b[0m \u001b[1m0s\u001b[0m 2s/step - accuracy: 0.1672 - loss: 1.9669\n",
      "Epoch 7: val_loss improved from 1.95584 to 1.95537, saving model to ./model_augmented_data_best.weights.h5\n",
      "\u001b[1m20/20\u001b[0m \u001b[32m━━━━━━━━━━━━━━━━━━━━\u001b[0m\u001b[37m\u001b[0m \u001b[1m48s\u001b[0m 2s/step - accuracy: 0.1664 - loss: 1.9669 - val_accuracy: 0.1476 - val_loss: 1.9554\n",
      "Epoch 8/50\n",
      "\u001b[1m20/20\u001b[0m \u001b[32m━━━━━━━━━━━━━━━━━━━━\u001b[0m\u001b[37m\u001b[0m \u001b[1m0s\u001b[0m 2s/step - accuracy: 0.1651 - loss: 1.9629\n",
      "Epoch 8: val_loss improved from 1.95537 to 1.95521, saving model to ./model_augmented_data_best.weights.h5\n",
      "\u001b[1m20/20\u001b[0m \u001b[32m━━━━━━━━━━━━━━━━━━━━\u001b[0m\u001b[37m\u001b[0m \u001b[1m48s\u001b[0m 2s/step - accuracy: 0.1652 - loss: 1.9628 - val_accuracy: 0.1476 - val_loss: 1.9552\n",
      "Epoch 9/50\n",
      "\u001b[1m20/20\u001b[0m \u001b[32m━━━━━━━━━━━━━━━━━━━━\u001b[0m\u001b[37m\u001b[0m \u001b[1m0s\u001b[0m 2s/step - accuracy: 0.1527 - loss: 1.9688\n",
      "Epoch 9: val_loss improved from 1.95521 to 1.95322, saving model to ./model_augmented_data_best.weights.h5\n",
      "\u001b[1m20/20\u001b[0m \u001b[32m━━━━━━━━━━━━━━━━━━━━\u001b[0m\u001b[37m\u001b[0m \u001b[1m48s\u001b[0m 2s/step - accuracy: 0.1526 - loss: 1.9686 - val_accuracy: 0.1476 - val_loss: 1.9532\n",
      "Epoch 10/50\n",
      "\u001b[1m20/20\u001b[0m \u001b[32m━━━━━━━━━━━━━━━━━━━━\u001b[0m\u001b[37m\u001b[0m \u001b[1m0s\u001b[0m 2s/step - accuracy: 0.1545 - loss: 1.9588\n",
      "Epoch 10: val_loss improved from 1.95322 to 1.95312, saving model to ./model_augmented_data_best.weights.h5\n",
      "\u001b[1m20/20\u001b[0m \u001b[32m━━━━━━━━━━━━━━━━━━━━\u001b[0m\u001b[37m\u001b[0m \u001b[1m51s\u001b[0m 3s/step - accuracy: 0.1547 - loss: 1.9587 - val_accuracy: 0.1524 - val_loss: 1.9531\n",
      "Epoch 11/50\n",
      "\u001b[1m20/20\u001b[0m \u001b[32m━━━━━━━━━━━━━━━━━━━━\u001b[0m\u001b[37m\u001b[0m \u001b[1m0s\u001b[0m 2s/step - accuracy: 0.1815 - loss: 1.9630\n",
      "Epoch 11: val_loss improved from 1.95312 to 1.95308, saving model to ./model_augmented_data_best.weights.h5\n",
      "\u001b[1m20/20\u001b[0m \u001b[32m━━━━━━━━━━━━━━━━━━━━\u001b[0m\u001b[37m\u001b[0m \u001b[1m50s\u001b[0m 3s/step - accuracy: 0.1805 - loss: 1.9624 - val_accuracy: 0.1286 - val_loss: 1.9531\n",
      "Epoch 12/50\n",
      "\u001b[1m20/20\u001b[0m \u001b[32m━━━━━━━━━━━━━━━━━━━━\u001b[0m\u001b[37m\u001b[0m \u001b[1m0s\u001b[0m 2s/step - accuracy: 0.1273 - loss: 1.9631\n",
      "Epoch 12: val_loss improved from 1.95308 to 1.94972, saving model to ./model_augmented_data_best.weights.h5\n",
      "\u001b[1m20/20\u001b[0m \u001b[32m━━━━━━━━━━━━━━━━━━━━\u001b[0m\u001b[37m\u001b[0m \u001b[1m48s\u001b[0m 2s/step - accuracy: 0.1268 - loss: 1.9633 - val_accuracy: 0.1476 - val_loss: 1.9497\n",
      "Epoch 13/50\n",
      "\u001b[1m20/20\u001b[0m \u001b[32m━━━━━━━━━━━━━━━━━━━━\u001b[0m\u001b[37m\u001b[0m \u001b[1m0s\u001b[0m 2s/step - accuracy: 0.1548 - loss: 1.9534\n",
      "Epoch 13: val_loss improved from 1.94972 to 1.94869, saving model to ./model_augmented_data_best.weights.h5\n",
      "\u001b[1m20/20\u001b[0m \u001b[32m━━━━━━━━━━━━━━━━━━━━\u001b[0m\u001b[37m\u001b[0m \u001b[1m47s\u001b[0m 2s/step - accuracy: 0.1546 - loss: 1.9535 - val_accuracy: 0.1476 - val_loss: 1.9487\n",
      "Epoch 14/50\n",
      "\u001b[1m20/20\u001b[0m \u001b[32m━━━━━━━━━━━━━━━━━━━━\u001b[0m\u001b[37m\u001b[0m \u001b[1m0s\u001b[0m 2s/step - accuracy: 0.1596 - loss: 1.9506\n",
      "Epoch 14: val_loss improved from 1.94869 to 1.94799, saving model to ./model_augmented_data_best.weights.h5\n",
      "\u001b[1m20/20\u001b[0m \u001b[32m━━━━━━━━━━━━━━━━━━━━\u001b[0m\u001b[37m\u001b[0m \u001b[1m48s\u001b[0m 2s/step - accuracy: 0.1582 - loss: 1.9509 - val_accuracy: 0.1476 - val_loss: 1.9480\n",
      "Epoch 15/50\n",
      "\u001b[1m20/20\u001b[0m \u001b[32m━━━━━━━━━━━━━━━━━━━━\u001b[0m\u001b[37m\u001b[0m \u001b[1m0s\u001b[0m 2s/step - accuracy: 0.1495 - loss: 1.9581\n",
      "Epoch 15: val_loss improved from 1.94799 to 1.94775, saving model to ./model_augmented_data_best.weights.h5\n",
      "\u001b[1m20/20\u001b[0m \u001b[32m━━━━━━━━━━━━━━━━━━━━\u001b[0m\u001b[37m\u001b[0m \u001b[1m48s\u001b[0m 2s/step - accuracy: 0.1494 - loss: 1.9578 - val_accuracy: 0.1524 - val_loss: 1.9477\n",
      "Epoch 16/50\n",
      "\u001b[1m20/20\u001b[0m \u001b[32m━━━━━━━━━━━━━━━━━━━━\u001b[0m\u001b[37m\u001b[0m \u001b[1m0s\u001b[0m 2s/step - accuracy: 0.1212 - loss: 1.9594\n",
      "Epoch 16: val_loss improved from 1.94775 to 1.94684, saving model to ./model_augmented_data_best.weights.h5\n",
      "\u001b[1m20/20\u001b[0m \u001b[32m━━━━━━━━━━━━━━━━━━━━\u001b[0m\u001b[37m\u001b[0m \u001b[1m47s\u001b[0m 2s/step - accuracy: 0.1218 - loss: 1.9594 - val_accuracy: 0.1476 - val_loss: 1.9468\n",
      "Epoch 17/50\n",
      "\u001b[1m20/20\u001b[0m \u001b[32m━━━━━━━━━━━━━━━━━━━━\u001b[0m\u001b[37m\u001b[0m \u001b[1m0s\u001b[0m 2s/step - accuracy: 0.1486 - loss: 1.9502\n",
      "Epoch 17: val_loss improved from 1.94684 to 1.94664, saving model to ./model_augmented_data_best.weights.h5\n",
      "\u001b[1m20/20\u001b[0m \u001b[32m━━━━━━━━━━━━━━━━━━━━\u001b[0m\u001b[37m\u001b[0m \u001b[1m47s\u001b[0m 2s/step - accuracy: 0.1494 - loss: 1.9505 - val_accuracy: 0.1476 - val_loss: 1.9466\n",
      "Epoch 18/50\n",
      "\u001b[1m20/20\u001b[0m \u001b[32m━━━━━━━━━━━━━━━━━━━━\u001b[0m\u001b[37m\u001b[0m \u001b[1m0s\u001b[0m 2s/step - accuracy: 0.1171 - loss: 1.9593\n",
      "Epoch 18: val_loss improved from 1.94664 to 1.94653, saving model to ./model_augmented_data_best.weights.h5\n",
      "\u001b[1m20/20\u001b[0m \u001b[32m━━━━━━━━━━━━━━━━━━━━\u001b[0m\u001b[37m\u001b[0m \u001b[1m47s\u001b[0m 2s/step - accuracy: 0.1176 - loss: 1.9592 - val_accuracy: 0.1476 - val_loss: 1.9465\n",
      "Epoch 19/50\n",
      "\u001b[1m20/20\u001b[0m \u001b[32m━━━━━━━━━━━━━━━━━━━━\u001b[0m\u001b[37m\u001b[0m \u001b[1m0s\u001b[0m 2s/step - accuracy: 0.1372 - loss: 1.9580\n",
      "Epoch 19: val_loss did not improve from 1.94653\n",
      "\u001b[1m20/20\u001b[0m \u001b[32m━━━━━━━━━━━━━━━━━━━━\u001b[0m\u001b[37m\u001b[0m \u001b[1m46s\u001b[0m 2s/step - accuracy: 0.1375 - loss: 1.9576 - val_accuracy: 0.1524 - val_loss: 1.9469\n",
      "Epoch 20/50\n",
      "\u001b[1m20/20\u001b[0m \u001b[32m━━━━━━━━━━━━━━━━━━━━\u001b[0m\u001b[37m\u001b[0m \u001b[1m0s\u001b[0m 2s/step - accuracy: 0.1483 - loss: 1.9469\n",
      "Epoch 20: val_loss did not improve from 1.94653\n",
      "\u001b[1m20/20\u001b[0m \u001b[32m━━━━━━━━━━━━━━━━━━━━\u001b[0m\u001b[37m\u001b[0m \u001b[1m47s\u001b[0m 2s/step - accuracy: 0.1485 - loss: 1.9470 - val_accuracy: 0.1524 - val_loss: 1.9468\n",
      "Epoch 21/50\n",
      "\u001b[1m20/20\u001b[0m \u001b[32m━━━━━━━━━━━━━━━━━━━━\u001b[0m\u001b[37m\u001b[0m \u001b[1m0s\u001b[0m 2s/step - accuracy: 0.1663 - loss: 1.9509\n",
      "Epoch 21: val_loss improved from 1.94653 to 1.94615, saving model to ./model_augmented_data_best.weights.h5\n",
      "\u001b[1m20/20\u001b[0m \u001b[32m━━━━━━━━━━━━━━━━━━━━\u001b[0m\u001b[37m\u001b[0m \u001b[1m49s\u001b[0m 2s/step - accuracy: 0.1661 - loss: 1.9511 - val_accuracy: 0.1524 - val_loss: 1.9462\n",
      "Epoch 22/50\n",
      "\u001b[1m20/20\u001b[0m \u001b[32m━━━━━━━━━━━━━━━━━━━━\u001b[0m\u001b[37m\u001b[0m \u001b[1m0s\u001b[0m 2s/step - accuracy: 0.1540 - loss: 1.9527\n",
      "Epoch 22: val_loss improved from 1.94615 to 1.94606, saving model to ./model_augmented_data_best.weights.h5\n",
      "\u001b[1m20/20\u001b[0m \u001b[32m━━━━━━━━━━━━━━━━━━━━\u001b[0m\u001b[37m\u001b[0m \u001b[1m48s\u001b[0m 2s/step - accuracy: 0.1545 - loss: 1.9527 - val_accuracy: 0.1476 - val_loss: 1.9461\n",
      "Epoch 23/50\n",
      "\u001b[1m20/20\u001b[0m \u001b[32m━━━━━━━━━━━━━━━━━━━━\u001b[0m\u001b[37m\u001b[0m \u001b[1m0s\u001b[0m 2s/step - accuracy: 0.1465 - loss: 1.9499\n",
      "Epoch 23: val_loss did not improve from 1.94606\n",
      "\u001b[1m20/20\u001b[0m \u001b[32m━━━━━━━━━━━━━━━━━━━━\u001b[0m\u001b[37m\u001b[0m \u001b[1m46s\u001b[0m 2s/step - accuracy: 0.1468 - loss: 1.9496 - val_accuracy: 0.1524 - val_loss: 1.9478\n",
      "Epoch 24/50\n",
      "\u001b[1m20/20\u001b[0m \u001b[32m━━━━━━━━━━━━━━━━━━━━\u001b[0m\u001b[37m\u001b[0m \u001b[1m0s\u001b[0m 2s/step - accuracy: 0.1382 - loss: 1.9587\n",
      "Epoch 24: val_loss improved from 1.94606 to 1.94602, saving model to ./model_augmented_data_best.weights.h5\n",
      "\u001b[1m20/20\u001b[0m \u001b[32m━━━━━━━━━━━━━━━━━━━━\u001b[0m\u001b[37m\u001b[0m \u001b[1m48s\u001b[0m 2s/step - accuracy: 0.1383 - loss: 1.9584 - val_accuracy: 0.1524 - val_loss: 1.9460\n",
      "Epoch 25/50\n",
      "\u001b[1m20/20\u001b[0m \u001b[32m━━━━━━━━━━━━━━━━━━━━\u001b[0m\u001b[37m\u001b[0m \u001b[1m0s\u001b[0m 2s/step - accuracy: 0.1572 - loss: 1.9494\n",
      "Epoch 25: val_loss improved from 1.94602 to 1.94560, saving model to ./model_augmented_data_best.weights.h5\n",
      "\u001b[1m20/20\u001b[0m \u001b[32m━━━━━━━━━━━━━━━━━━━━\u001b[0m\u001b[37m\u001b[0m \u001b[1m47s\u001b[0m 2s/step - accuracy: 0.1566 - loss: 1.9496 - val_accuracy: 0.1476 - val_loss: 1.9456\n",
      "Epoch 26/50\n",
      "\u001b[1m20/20\u001b[0m \u001b[32m━━━━━━━━━━━━━━━━━━━━\u001b[0m\u001b[37m\u001b[0m \u001b[1m0s\u001b[0m 2s/step - accuracy: 0.1286 - loss: 1.9474\n",
      "Epoch 26: val_loss did not improve from 1.94560\n",
      "\u001b[1m20/20\u001b[0m \u001b[32m━━━━━━━━━━━━━━━━━━━━\u001b[0m\u001b[37m\u001b[0m \u001b[1m46s\u001b[0m 2s/step - accuracy: 0.1284 - loss: 1.9476 - val_accuracy: 0.1476 - val_loss: 1.9459\n",
      "Epoch 27/50\n",
      "\u001b[1m20/20\u001b[0m \u001b[32m━━━━━━━━━━━━━━━━━━━━\u001b[0m\u001b[37m\u001b[0m \u001b[1m0s\u001b[0m 2s/step - accuracy: 0.1672 - loss: 1.9515\n",
      "Epoch 27: val_loss improved from 1.94560 to 1.94543, saving model to ./model_augmented_data_best.weights.h5\n",
      "\u001b[1m20/20\u001b[0m \u001b[32m━━━━━━━━━━━━━━━━━━━━\u001b[0m\u001b[37m\u001b[0m \u001b[1m49s\u001b[0m 2s/step - accuracy: 0.1664 - loss: 1.9516 - val_accuracy: 0.1476 - val_loss: 1.9454\n",
      "Epoch 28/50\n",
      "\u001b[1m20/20\u001b[0m \u001b[32m━━━━━━━━━━━━━━━━━━━━\u001b[0m\u001b[37m\u001b[0m \u001b[1m0s\u001b[0m 2s/step - accuracy: 0.1689 - loss: 1.9516\n",
      "Epoch 28: val_loss improved from 1.94543 to 1.94539, saving model to ./model_augmented_data_best.weights.h5\n",
      "\u001b[1m20/20\u001b[0m \u001b[32m━━━━━━━━━━━━━━━━━━━━\u001b[0m\u001b[37m\u001b[0m \u001b[1m54s\u001b[0m 3s/step - accuracy: 0.1675 - loss: 1.9517 - val_accuracy: 0.1476 - val_loss: 1.9454\n",
      "Epoch 29/50\n",
      "\u001b[1m20/20\u001b[0m \u001b[32m━━━━━━━━━━━━━━━━━━━━\u001b[0m\u001b[37m\u001b[0m \u001b[1m0s\u001b[0m 2s/step - accuracy: 0.1320 - loss: 1.9508\n",
      "Epoch 29: val_loss improved from 1.94539 to 1.94522, saving model to ./model_augmented_data_best.weights.h5\n",
      "\u001b[1m20/20\u001b[0m \u001b[32m━━━━━━━━━━━━━━━━━━━━\u001b[0m\u001b[37m\u001b[0m \u001b[1m59s\u001b[0m 3s/step - accuracy: 0.1327 - loss: 1.9508 - val_accuracy: 0.1476 - val_loss: 1.9452\n",
      "Epoch 30/50\n",
      "\u001b[1m20/20\u001b[0m \u001b[32m━━━━━━━━━━━━━━━━━━━━\u001b[0m\u001b[37m\u001b[0m \u001b[1m0s\u001b[0m 2s/step - accuracy: 0.1476 - loss: 1.9554\n",
      "Epoch 30: val_loss improved from 1.94522 to 1.94521, saving model to ./model_augmented_data_best.weights.h5\n",
      "\u001b[1m20/20\u001b[0m \u001b[32m━━━━━━━━━━━━━━━━━━━━\u001b[0m\u001b[37m\u001b[0m \u001b[1m53s\u001b[0m 3s/step - accuracy: 0.1473 - loss: 1.9553 - val_accuracy: 0.1476 - val_loss: 1.9452\n",
      "Epoch 31/50\n",
      "\u001b[1m20/20\u001b[0m \u001b[32m━━━━━━━━━━━━━━━━━━━━\u001b[0m\u001b[37m\u001b[0m \u001b[1m0s\u001b[0m 2s/step - accuracy: 0.1498 - loss: 1.9504\n",
      "Epoch 31: val_loss improved from 1.94521 to 1.94517, saving model to ./model_augmented_data_best.weights.h5\n",
      "\u001b[1m20/20\u001b[0m \u001b[32m━━━━━━━━━━━━━━━━━━━━\u001b[0m\u001b[37m\u001b[0m \u001b[1m49s\u001b[0m 2s/step - accuracy: 0.1494 - loss: 1.9504 - val_accuracy: 0.1476 - val_loss: 1.9452\n",
      "Epoch 32/50\n",
      "\u001b[1m20/20\u001b[0m \u001b[32m━━━━━━━━━━━━━━━━━━━━\u001b[0m\u001b[37m\u001b[0m \u001b[1m0s\u001b[0m 2s/step - accuracy: 0.1437 - loss: 1.9420\n",
      "Epoch 32: val_loss did not improve from 1.94517\n",
      "\u001b[1m20/20\u001b[0m \u001b[32m━━━━━━━━━━━━━━━━━━━━\u001b[0m\u001b[37m\u001b[0m \u001b[1m50s\u001b[0m 3s/step - accuracy: 0.1436 - loss: 1.9423 - val_accuracy: 0.1476 - val_loss: 1.9453\n",
      "Epoch 33/50\n",
      "\u001b[1m20/20\u001b[0m \u001b[32m━━━━━━━━━━━━━━━━━━━━\u001b[0m\u001b[37m\u001b[0m \u001b[1m0s\u001b[0m 2s/step - accuracy: 0.1390 - loss: 1.9494\n",
      "Epoch 33: val_loss improved from 1.94517 to 1.94514, saving model to ./model_augmented_data_best.weights.h5\n",
      "\u001b[1m20/20\u001b[0m \u001b[32m━━━━━━━━━━━━━━━━━━━━\u001b[0m\u001b[37m\u001b[0m \u001b[1m51s\u001b[0m 3s/step - accuracy: 0.1395 - loss: 1.9494 - val_accuracy: 0.1476 - val_loss: 1.9451\n",
      "Epoch 34/50\n",
      "\u001b[1m20/20\u001b[0m \u001b[32m━━━━━━━━━━━━━━━━━━━━\u001b[0m\u001b[37m\u001b[0m \u001b[1m0s\u001b[0m 2s/step - accuracy: 0.1754 - loss: 1.9441\n",
      "Epoch 34: val_loss did not improve from 1.94514\n",
      "\u001b[1m20/20\u001b[0m \u001b[32m━━━━━━━━━━━━━━━━━━━━\u001b[0m\u001b[37m\u001b[0m \u001b[1m47s\u001b[0m 2s/step - accuracy: 0.1741 - loss: 1.9443 - val_accuracy: 0.1476 - val_loss: 1.9452\n",
      "Epoch 35/50\n",
      "\u001b[1m20/20\u001b[0m \u001b[32m━━━━━━━━━━━━━━━━━━━━\u001b[0m\u001b[37m\u001b[0m \u001b[1m0s\u001b[0m 2s/step - accuracy: 0.1811 - loss: 1.9436\n",
      "Epoch 35: val_loss did not improve from 1.94514\n",
      "\u001b[1m20/20\u001b[0m \u001b[32m━━━━━━━━━━━━━━━━━━━━\u001b[0m\u001b[37m\u001b[0m \u001b[1m47s\u001b[0m 2s/step - accuracy: 0.1806 - loss: 1.9437 - val_accuracy: 0.1524 - val_loss: 1.9455\n",
      "Epoch 36/50\n",
      "\u001b[1m20/20\u001b[0m \u001b[32m━━━━━━━━━━━━━━━━━━━━\u001b[0m\u001b[37m\u001b[0m \u001b[1m0s\u001b[0m 2s/step - accuracy: 0.1405 - loss: 1.9489\n",
      "Epoch 36: val_loss improved from 1.94514 to 1.94506, saving model to ./model_augmented_data_best.weights.h5\n",
      "\u001b[1m20/20\u001b[0m \u001b[32m━━━━━━━━━━━━━━━━━━━━\u001b[0m\u001b[37m\u001b[0m \u001b[1m49s\u001b[0m 2s/step - accuracy: 0.1411 - loss: 1.9490 - val_accuracy: 0.1524 - val_loss: 1.9451\n",
      "Epoch 37/50\n",
      "\u001b[1m20/20\u001b[0m \u001b[32m━━━━━━━━━━━━━━━━━━━━\u001b[0m\u001b[37m\u001b[0m \u001b[1m0s\u001b[0m 2s/step - accuracy: 0.1718 - loss: 1.9554\n",
      "Epoch 37: val_loss improved from 1.94506 to 1.94475, saving model to ./model_augmented_data_best.weights.h5\n",
      "\u001b[1m20/20\u001b[0m \u001b[32m━━━━━━━━━━━━━━━━━━━━\u001b[0m\u001b[37m\u001b[0m \u001b[1m53s\u001b[0m 3s/step - accuracy: 0.1714 - loss: 1.9552 - val_accuracy: 0.1476 - val_loss: 1.9448\n",
      "Epoch 38/50\n",
      "\u001b[1m20/20\u001b[0m \u001b[32m━━━━━━━━━━━━━━━━━━━━\u001b[0m\u001b[37m\u001b[0m \u001b[1m0s\u001b[0m 2s/step - accuracy: 0.1639 - loss: 1.9497\n",
      "Epoch 38: val_loss improved from 1.94475 to 1.94472, saving model to ./model_augmented_data_best.weights.h5\n",
      "\u001b[1m20/20\u001b[0m \u001b[32m━━━━━━━━━━━━━━━━━━━━\u001b[0m\u001b[37m\u001b[0m \u001b[1m50s\u001b[0m 3s/step - accuracy: 0.1635 - loss: 1.9497 - val_accuracy: 0.1476 - val_loss: 1.9447\n",
      "Epoch 39/50\n",
      "\u001b[1m20/20\u001b[0m \u001b[32m━━━━━━━━━━━━━━━━━━━━\u001b[0m\u001b[37m\u001b[0m \u001b[1m0s\u001b[0m 2s/step - accuracy: 0.1370 - loss: 1.9559\n",
      "Epoch 39: val_loss improved from 1.94472 to 1.94460, saving model to ./model_augmented_data_best.weights.h5\n",
      "\u001b[1m20/20\u001b[0m \u001b[32m━━━━━━━━━━━━━━━━━━━━\u001b[0m\u001b[37m\u001b[0m \u001b[1m54s\u001b[0m 3s/step - accuracy: 0.1375 - loss: 1.9557 - val_accuracy: 0.1476 - val_loss: 1.9446\n",
      "Epoch 40/50\n",
      "\u001b[1m20/20\u001b[0m \u001b[32m━━━━━━━━━━━━━━━━━━━━\u001b[0m\u001b[37m\u001b[0m \u001b[1m0s\u001b[0m 2s/step - accuracy: 0.1380 - loss: 1.9536\n",
      "Epoch 40: val_loss did not improve from 1.94460\n",
      "\u001b[1m20/20\u001b[0m \u001b[32m━━━━━━━━━━━━━━━━━━━━\u001b[0m\u001b[37m\u001b[0m \u001b[1m54s\u001b[0m 3s/step - accuracy: 0.1380 - loss: 1.9533 - val_accuracy: 0.1476 - val_loss: 1.9448\n",
      "Epoch 41/50\n",
      "\u001b[1m20/20\u001b[0m \u001b[32m━━━━━━━━━━━━━━━━━━━━\u001b[0m\u001b[37m\u001b[0m \u001b[1m0s\u001b[0m 2s/step - accuracy: 0.1441 - loss: 1.9485\n",
      "Epoch 41: val_loss did not improve from 1.94460\n",
      "\u001b[1m20/20\u001b[0m \u001b[32m━━━━━━━━━━━━━━━━━━━━\u001b[0m\u001b[37m\u001b[0m \u001b[1m50s\u001b[0m 3s/step - accuracy: 0.1442 - loss: 1.9484 - val_accuracy: 0.1524 - val_loss: 1.9453\n",
      "Epoch 42/50\n",
      "\u001b[1m20/20\u001b[0m \u001b[32m━━━━━━━━━━━━━━━━━━━━\u001b[0m\u001b[37m\u001b[0m \u001b[1m0s\u001b[0m 2s/step - accuracy: 0.1570 - loss: 1.9437\n",
      "Epoch 42: val_loss did not improve from 1.94460\n",
      "\u001b[1m20/20\u001b[0m \u001b[32m━━━━━━━━━━━━━━━━━━━━\u001b[0m\u001b[37m\u001b[0m \u001b[1m51s\u001b[0m 3s/step - accuracy: 0.1567 - loss: 1.9439 - val_accuracy: 0.1524 - val_loss: 1.9450\n",
      "Epoch 43/50\n",
      "\u001b[1m20/20\u001b[0m \u001b[32m━━━━━━━━━━━━━━━━━━━━\u001b[0m\u001b[37m\u001b[0m \u001b[1m0s\u001b[0m 2s/step - accuracy: 0.1769 - loss: 1.9473\n",
      "Epoch 43: val_loss did not improve from 1.94460\n",
      "\u001b[1m20/20\u001b[0m \u001b[32m━━━━━━━━━━━━━━━━━━━━\u001b[0m\u001b[37m\u001b[0m \u001b[1m51s\u001b[0m 3s/step - accuracy: 0.1767 - loss: 1.9474 - val_accuracy: 0.1476 - val_loss: 1.9448\n",
      "Epoch 44/50\n",
      "\u001b[1m20/20\u001b[0m \u001b[32m━━━━━━━━━━━━━━━━━━━━\u001b[0m\u001b[37m\u001b[0m \u001b[1m0s\u001b[0m 2s/step - accuracy: 0.1446 - loss: 1.9439\n",
      "Epoch 44: val_loss did not improve from 1.94460\n",
      "\u001b[1m20/20\u001b[0m \u001b[32m━━━━━━━━━━━━━━━━━━━━\u001b[0m\u001b[37m\u001b[0m \u001b[1m53s\u001b[0m 3s/step - accuracy: 0.1449 - loss: 1.9439 - val_accuracy: 0.1524 - val_loss: 1.9453\n",
      "Epoch 44: early stopping\n"
     ]
    }
   ],
   "source": [
    "# Utilisation des générateurs dans l'entraînement du modèle\n",
    "model_augmented_data, history_augmented_data, duration_augmented_data = train_model_augmented_data(model_inceptionresnetv2, train_generator,\n",
    "                                                                                                   validation_generator,\n",
    "                                                                                                   \"./model_augmented_data_best.weights.h5\")"
   ]
  },
  {
   "cell_type": "code",
   "execution_count": 44,
   "id": "6635305d-d600-4775-a20d-88b7423b47f2",
   "metadata": {},
   "outputs": [
    {
     "name": "stdout",
     "output_type": "stream",
     "text": [
      "\u001b[1m20/20\u001b[0m \u001b[32m━━━━━━━━━━━━━━━━━━━━\u001b[0m\u001b[37m\u001b[0m \u001b[1m37s\u001b[0m 2s/step - accuracy: 0.1457 - loss: 1.9535\n",
      "Training Accuracy (best): 0.1476\n",
      "\u001b[1m7/7\u001b[0m \u001b[32m━━━━━━━━━━━━━━━━━━━━\u001b[0m\u001b[37m\u001b[0m \u001b[1m10s\u001b[0m 1s/step - accuracy: 0.1391 - loss: 1.9436\n",
      "Validation Accuracy (best): 0.1476\n",
      "\u001b[1m7/7\u001b[0m \u001b[32m━━━━━━━━━━━━━━━━━━━━\u001b[0m\u001b[37m\u001b[0m \u001b[1m10s\u001b[0m 1s/step - accuracy: 0.8772 - loss: 0.4846\n",
      "Test Accuracy (best): 0.8619\n",
      "\u001b[1m7/7\u001b[0m \u001b[32m━━━━━━━━━━━━━━━━━━━━\u001b[0m\u001b[37m\u001b[0m \u001b[1m9s\u001b[0m 1s/step\n",
      "Adjusted Rand Index (ARI): 0.7420\n"
     ]
    }
   ],
   "source": [
    "# Exemple d'appel à la fonction\n",
    "loss_augmented_data, accuracy_augmented_data, ari_score_augmented_data = evaluate_model_with_generators(model_inceptionresnetv2,\n",
    "                                                                                                        train_generator,\n",
    "                                                                                                        validation_generator,\n",
    "                                                                                                        X_test_inceptionresnetv2,\n",
    "                                                                                                        y_test,\n",
    "                                                                                                        best_weights_path=\"./model_augmented_data_best.weights.h5\"\n",
    "                                                                                                       )\n"
   ]
  },
  {
   "cell_type": "code",
   "execution_count": 201,
   "id": "7e4f40f7-a6a4-4c75-b00b-d7ba914854a1",
   "metadata": {},
   "outputs": [],
   "source": [
    "add_results('InceptionResNetV2(Augmented Data)', loss_augmented_data, accuracy_augmented_data,\n",
    "            ari_score_augmented_data, duration_augmented_data)\n",
    "data_metrics = pd.DataFrame(data_results)"
   ]
  },
  {
   "cell_type": "code",
   "execution_count": 202,
   "id": "68557ba9-1a95-475b-9756-ea6818b3a631",
   "metadata": {},
   "outputs": [
    {
     "data": {
      "text/html": [
       "<div>\n",
       "<style scoped>\n",
       "    .dataframe tbody tr th:only-of-type {\n",
       "        vertical-align: middle;\n",
       "    }\n",
       "\n",
       "    .dataframe tbody tr th {\n",
       "        vertical-align: top;\n",
       "    }\n",
       "\n",
       "    .dataframe thead th {\n",
       "        text-align: right;\n",
       "    }\n",
       "</style>\n",
       "<table border=\"1\" class=\"dataframe\">\n",
       "  <thead>\n",
       "    <tr style=\"text-align: right;\">\n",
       "      <th></th>\n",
       "      <th>Model</th>\n",
       "      <th>Metric</th>\n",
       "      <th>Score</th>\n",
       "    </tr>\n",
       "  </thead>\n",
       "  <tbody>\n",
       "    <tr>\n",
       "      <th>0</th>\n",
       "      <td>VGG16</td>\n",
       "      <td>Loss</td>\n",
       "      <td>0.929100</td>\n",
       "    </tr>\n",
       "    <tr>\n",
       "      <th>1</th>\n",
       "      <td>VGG16</td>\n",
       "      <td>Accuracy</td>\n",
       "      <td>0.804762</td>\n",
       "    </tr>\n",
       "    <tr>\n",
       "      <th>2</th>\n",
       "      <td>VGG16</td>\n",
       "      <td>Adjusted Rand Score</td>\n",
       "      <td>0.613075</td>\n",
       "    </tr>\n",
       "    <tr>\n",
       "      <th>3</th>\n",
       "      <td>VGG16</td>\n",
       "      <td>Duration (en heures)</td>\n",
       "      <td>0.009636</td>\n",
       "    </tr>\n",
       "    <tr>\n",
       "      <th>4</th>\n",
       "      <td>InceptionResNetV2</td>\n",
       "      <td>Loss</td>\n",
       "      <td>0.400183</td>\n",
       "    </tr>\n",
       "    <tr>\n",
       "      <th>5</th>\n",
       "      <td>InceptionResNetV2</td>\n",
       "      <td>Accuracy</td>\n",
       "      <td>0.876190</td>\n",
       "    </tr>\n",
       "    <tr>\n",
       "      <th>6</th>\n",
       "      <td>InceptionResNetV2</td>\n",
       "      <td>Adjusted Rand Score</td>\n",
       "      <td>0.754794</td>\n",
       "    </tr>\n",
       "    <tr>\n",
       "      <th>7</th>\n",
       "      <td>InceptionResNetV2</td>\n",
       "      <td>Duration (en heures)</td>\n",
       "      <td>0.015675</td>\n",
       "    </tr>\n",
       "    <tr>\n",
       "      <th>8</th>\n",
       "      <td>DenseNet201</td>\n",
       "      <td>Loss</td>\n",
       "      <td>0.407489</td>\n",
       "    </tr>\n",
       "    <tr>\n",
       "      <th>9</th>\n",
       "      <td>DenseNet201</td>\n",
       "      <td>Accuracy</td>\n",
       "      <td>0.861905</td>\n",
       "    </tr>\n",
       "    <tr>\n",
       "      <th>10</th>\n",
       "      <td>DenseNet201</td>\n",
       "      <td>Adjusted Rand Score</td>\n",
       "      <td>0.730567</td>\n",
       "    </tr>\n",
       "    <tr>\n",
       "      <th>11</th>\n",
       "      <td>DenseNet201</td>\n",
       "      <td>Duration (en heures)</td>\n",
       "      <td>0.072172</td>\n",
       "    </tr>\n",
       "    <tr>\n",
       "      <th>12</th>\n",
       "      <td>InceptionResNetV2(HP)</td>\n",
       "      <td>Loss</td>\n",
       "      <td>0.721696</td>\n",
       "    </tr>\n",
       "    <tr>\n",
       "      <th>13</th>\n",
       "      <td>InceptionResNetV2(HP)</td>\n",
       "      <td>Accuracy</td>\n",
       "      <td>0.871429</td>\n",
       "    </tr>\n",
       "    <tr>\n",
       "      <th>14</th>\n",
       "      <td>InceptionResNetV2(HP)</td>\n",
       "      <td>Adjusted Rand Score</td>\n",
       "      <td>0.747019</td>\n",
       "    </tr>\n",
       "    <tr>\n",
       "      <th>15</th>\n",
       "      <td>InceptionResNetV2(HP)</td>\n",
       "      <td>Duration (en heures)</td>\n",
       "      <td>0.046941</td>\n",
       "    </tr>\n",
       "    <tr>\n",
       "      <th>16</th>\n",
       "      <td>InceptionResNetV2(Augmented Data)</td>\n",
       "      <td>Loss</td>\n",
       "      <td>0.620791</td>\n",
       "    </tr>\n",
       "    <tr>\n",
       "      <th>17</th>\n",
       "      <td>InceptionResNetV2(Augmented Data)</td>\n",
       "      <td>Accuracy</td>\n",
       "      <td>0.861905</td>\n",
       "    </tr>\n",
       "    <tr>\n",
       "      <th>18</th>\n",
       "      <td>InceptionResNetV2(Augmented Data)</td>\n",
       "      <td>Adjusted Rand Score</td>\n",
       "      <td>0.741981</td>\n",
       "    </tr>\n",
       "    <tr>\n",
       "      <th>19</th>\n",
       "      <td>InceptionResNetV2(Augmented Data)</td>\n",
       "      <td>Duration (en heures)</td>\n",
       "      <td>0.602164</td>\n",
       "    </tr>\n",
       "  </tbody>\n",
       "</table>\n",
       "</div>"
      ],
      "text/plain": [
       "                                Model                Metric     Score\n",
       "0                               VGG16                  Loss  0.929100\n",
       "1                               VGG16              Accuracy  0.804762\n",
       "2                               VGG16   Adjusted Rand Score  0.613075\n",
       "3                               VGG16  Duration (en heures)  0.009636\n",
       "4                   InceptionResNetV2                  Loss  0.400183\n",
       "5                   InceptionResNetV2              Accuracy  0.876190\n",
       "6                   InceptionResNetV2   Adjusted Rand Score  0.754794\n",
       "7                   InceptionResNetV2  Duration (en heures)  0.015675\n",
       "8                         DenseNet201                  Loss  0.407489\n",
       "9                         DenseNet201              Accuracy  0.861905\n",
       "10                        DenseNet201   Adjusted Rand Score  0.730567\n",
       "11                        DenseNet201  Duration (en heures)  0.072172\n",
       "12              InceptionResNetV2(HP)                  Loss  0.721696\n",
       "13              InceptionResNetV2(HP)              Accuracy  0.871429\n",
       "14              InceptionResNetV2(HP)   Adjusted Rand Score  0.747019\n",
       "15              InceptionResNetV2(HP)  Duration (en heures)  0.046941\n",
       "16  InceptionResNetV2(Augmented Data)                  Loss  0.620791\n",
       "17  InceptionResNetV2(Augmented Data)              Accuracy  0.861905\n",
       "18  InceptionResNetV2(Augmented Data)   Adjusted Rand Score  0.741981\n",
       "19  InceptionResNetV2(Augmented Data)  Duration (en heures)  0.602164"
      ]
     },
     "execution_count": 202,
     "metadata": {},
     "output_type": "execute_result"
    }
   ],
   "source": [
    "data_metrics"
   ]
  },
  {
   "cell_type": "code",
   "execution_count": 40,
   "id": "66e4f4a0-a86d-4996-97f2-d7fe420e7263",
   "metadata": {},
   "outputs": [
    {
     "data": {
      "image/png": "[encoded data removed]",
      "text/plain": [
       "<Figure size 1200x800 with 1 Axes>"
      ]
     },
     "metadata": {},
     "output_type": "display_data"
    }
   ],
   "source": [
    "plot_model_performance(data_metrics)"
   ]
  },
  {
   "cell_type": "markdown",
   "id": "9af99147-b247-4d9a-ae24-6b39bdb7d770",
   "metadata": {},
   "source": [
    "### IA Generative"
   ]
  },
  {
   "cell_type": "markdown",
   "id": "7576f1af-78d0-40a9-847c-9f6567a5d182",
   "metadata": {},
   "source": [
    "Utilisation de Copilot et du prompt :\n",
    "\"Créez une image haute résolution de [objet] sur un fond strictement blanc. Le sujet doit être vu de côté, montrant ses formes et caractéristiques distinctives. Assurez-vous que l'éclairage est parfaitement uniforme pour éliminer toutes les ombres sur le sujet et le fond. Le fond doit rester complètement blanc, sans nuances, textures ou autres éléments. L'image doit mettre en valeur uniquement le sujet, idéal pour des présentations de produit.\""
   ]
  },
  {
   "cell_type": "code",
   "execution_count": 203,
   "id": "f4bf01a4-fe81-4e25-97f2-1146dfcb418e",
   "metadata": {},
   "outputs": [],
   "source": [
    "# Répertoires correspondant aux catégories\n",
    "repertoires = {\n",
    "    'Home Furnishing': \"./data/Sources/generatedimages/homefurnishing\",\n",
    "    'Baby Care': \"./data/Sources/generatedimages/baby\",\n",
    "    'Watches': \"./data/Sources/generatedimages/watches\",\n",
    "    'Home Decor & Festive Needs': \"./data/Sources/generatedimages/homedecor\",\n",
    "    'Kitchen & Dining': \"./data/Sources/generatedimages/kitchen\",\n",
    "    'Beauty and Personal Care': \"./data/Sources/generatedimages/beauty\",\n",
    "    'Computers': \"./data/Sources/generatedimages/computers\"\n",
    "}"
   ]
  },
  {
   "cell_type": "code",
   "execution_count": 207,
   "id": "cc243690-b83a-4dbd-9b7e-864203ef9fb3",
   "metadata": {},
   "outputs": [],
   "source": [
    "# Initialisation des listes pour les chemins d'image et les étiquettes\n",
    "paths_train_gen = paths_train.copy()\n",
    "y_train_gen = y_train.copy()"
   ]
  },
  {
   "cell_type": "code",
   "execution_count": 208,
   "id": "3e06213a-db10-46e6-9921-54e482db3f41",
   "metadata": {},
   "outputs": [],
   "source": [
    "# Obtenir les catégories dans l'ordre d'encodage\n",
    "categories = label_encoder.inverse_transform(range(len(label_encoder.classes_)))\n",
    "\n",
    "# Parcourir tous les répertoires\n",
    "for categorie, repertoire in repertoires.items():\n",
    "    # Récupérer l'indice de la catégorie dans l'encodage des catégories\n",
    "    index_categorie = label_encoder.transform([categorie])[0]\n",
    "\n",
    "    # Parcourir les images dans le répertoire\n",
    "    for img in os.listdir(repertoire):\n",
    "        # Créer le chemin complet de l'image\n",
    "        chemin_image = os.path.join(repertoire, img)\n",
    "\n",
    "        # Ajouter le chemin de l'image\n",
    "        paths_train_gen.append(chemin_image)\n",
    "\n",
    "        # Créer l'étiquette correspondante pour cette catégorie\n",
    "        y_imggen_train = np.zeros(7)\n",
    "        y_imggen_train[index_categorie] = 1\n",
    "\n",
    "        # Ajouter l'étiquette\n",
    "        y_train_gen = np.vstack([y_train_gen, y_imggen_train])\n",
    "\n",
    "# Convertir les listes en tableaux numpy\n",
    "paths_train_gen = np.array(paths_train_gen)"
   ]
  },
  {
   "cell_type": "code",
   "execution_count": 209,
   "id": "526f1278-1527-432d-b045-049d2bcebdce",
   "metadata": {},
   "outputs": [],
   "source": [
    "# Préparation des données\n",
    "X_train_iresnetv2_ad, X_val_iresnetv2_ad, X_test_iresnetv2_ad = prepare_data(paths_train_gen, paths_val,\n",
    "                                                                             paths_test, preprocess_inceptionresnetv2,\n",
    "                                                                             target_size=(299, 299, 3))"
   ]
  },
  {
   "cell_type": "code",
   "execution_count": 210,
   "id": "1cb2afa6-7d3f-451a-99bf-cc4d7e810080",
   "metadata": {
    "scrolled": true
   },
   "outputs": [],
   "source": [
    "# Création du modèle\n",
    "model_iresnetv2_ad = create_model_fct(base_model_name='InceptionResNetV2')"
   ]
  },
  {
   "cell_type": "code",
   "execution_count": 211,
   "id": "22334440-f472-4eb5-8225-29f4238fc9be",
   "metadata": {},
   "outputs": [
    {
     "name": "stdout",
     "output_type": "stream",
     "text": [
      "Epoch 1/50\n",
      "\u001b[1m24/24\u001b[0m \u001b[32m━━━━━━━━━━━━━━━━━━━━\u001b[0m\u001b[37m\u001b[0m \u001b[1m0s\u001b[0m 2s/step - accuracy: 0.4697 - loss: 1.6557\n",
      "Epoch 1: val_loss improved from inf to 0.78960, saving model to ./model_iresnetv2_ad_best.weights.h5\n",
      "\u001b[1m24/24\u001b[0m \u001b[32m━━━━━━━━━━━━━━━━━━━━\u001b[0m\u001b[37m\u001b[0m \u001b[1m54s\u001b[0m 2s/step - accuracy: 0.4767 - loss: 1.6363 - val_accuracy: 0.7810 - val_loss: 0.7896\n",
      "Epoch 2/50\n",
      "\u001b[1m24/24\u001b[0m \u001b[32m━━━━━━━━━━━━━━━━━━━━\u001b[0m\u001b[37m\u001b[0m \u001b[1m0s\u001b[0m 2s/step - accuracy: 0.8234 - loss: 0.6065\n",
      "Epoch 2: val_loss improved from 0.78960 to 0.52562, saving model to ./model_iresnetv2_ad_best.weights.h5\n",
      "\u001b[1m24/24\u001b[0m \u001b[32m━━━━━━━━━━━━━━━━━━━━\u001b[0m\u001b[37m\u001b[0m \u001b[1m56s\u001b[0m 2s/step - accuracy: 0.8238 - loss: 0.6058 - val_accuracy: 0.8286 - val_loss: 0.5256\n",
      "Epoch 3/50\n",
      "\u001b[1m24/24\u001b[0m \u001b[32m━━━━━━━━━━━━━━━━━━━━\u001b[0m\u001b[37m\u001b[0m \u001b[1m0s\u001b[0m 2s/step - accuracy: 0.8621 - loss: 0.4359\n",
      "Epoch 3: val_loss did not improve from 0.52562\n",
      "\u001b[1m24/24\u001b[0m \u001b[32m━━━━━━━━━━━━━━━━━━━━\u001b[0m\u001b[37m\u001b[0m \u001b[1m57s\u001b[0m 2s/step - accuracy: 0.8620 - loss: 0.4366 - val_accuracy: 0.8286 - val_loss: 0.5435\n",
      "Epoch 4/50\n",
      "\u001b[1m24/24\u001b[0m \u001b[32m━━━━━━━━━━━━━━━━━━━━\u001b[0m\u001b[37m\u001b[0m \u001b[1m0s\u001b[0m 2s/step - accuracy: 0.8904 - loss: 0.3737\n",
      "Epoch 4: val_loss improved from 0.52562 to 0.46198, saving model to ./model_iresnetv2_ad_best.weights.h5\n",
      "\u001b[1m24/24\u001b[0m \u001b[32m━━━━━━━━━━━━━━━━━━━━\u001b[0m\u001b[37m\u001b[0m \u001b[1m54s\u001b[0m 2s/step - accuracy: 0.8903 - loss: 0.3739 - val_accuracy: 0.8429 - val_loss: 0.4620\n",
      "Epoch 5/50\n",
      "\u001b[1m24/24\u001b[0m \u001b[32m━━━━━━━━━━━━━━━━━━━━\u001b[0m\u001b[37m\u001b[0m \u001b[1m0s\u001b[0m 2s/step - accuracy: 0.8910 - loss: 0.3467\n",
      "Epoch 5: val_loss improved from 0.46198 to 0.43671, saving model to ./model_iresnetv2_ad_best.weights.h5\n",
      "\u001b[1m24/24\u001b[0m \u001b[32m━━━━━━━━━━━━━━━━━━━━\u001b[0m\u001b[37m\u001b[0m \u001b[1m53s\u001b[0m 2s/step - accuracy: 0.8908 - loss: 0.3474 - val_accuracy: 0.8524 - val_loss: 0.4367\n",
      "Epoch 6/50\n",
      "\u001b[1m24/24\u001b[0m \u001b[32m━━━━━━━━━━━━━━━━━━━━\u001b[0m\u001b[37m\u001b[0m \u001b[1m0s\u001b[0m 2s/step - accuracy: 0.9257 - loss: 0.2722\n",
      "Epoch 6: val_loss improved from 0.43671 to 0.39890, saving model to ./model_iresnetv2_ad_best.weights.h5\n",
      "\u001b[1m24/24\u001b[0m \u001b[32m━━━━━━━━━━━━━━━━━━━━\u001b[0m\u001b[37m\u001b[0m \u001b[1m54s\u001b[0m 2s/step - accuracy: 0.9252 - loss: 0.2727 - val_accuracy: 0.8476 - val_loss: 0.3989\n",
      "Epoch 7/50\n",
      "\u001b[1m24/24\u001b[0m \u001b[32m━━━━━━━━━━━━━━━━━━━━\u001b[0m\u001b[37m\u001b[0m \u001b[1m0s\u001b[0m 2s/step - accuracy: 0.8983 - loss: 0.2516\n",
      "Epoch 7: val_loss did not improve from 0.39890\n",
      "\u001b[1m24/24\u001b[0m \u001b[32m━━━━━━━━━━━━━━━━━━━━\u001b[0m\u001b[37m\u001b[0m \u001b[1m54s\u001b[0m 2s/step - accuracy: 0.8985 - loss: 0.2526 - val_accuracy: 0.8524 - val_loss: 0.4193\n",
      "Epoch 8/50\n",
      "\u001b[1m24/24\u001b[0m \u001b[32m━━━━━━━━━━━━━━━━━━━━\u001b[0m\u001b[37m\u001b[0m \u001b[1m0s\u001b[0m 2s/step - accuracy: 0.9278 - loss: 0.2305\n",
      "Epoch 8: val_loss did not improve from 0.39890\n",
      "\u001b[1m24/24\u001b[0m \u001b[32m━━━━━━━━━━━━━━━━━━━━\u001b[0m\u001b[37m\u001b[0m \u001b[1m53s\u001b[0m 2s/step - accuracy: 0.9280 - loss: 0.2296 - val_accuracy: 0.8333 - val_loss: 0.5515\n",
      "Epoch 9/50\n",
      "\u001b[1m24/24\u001b[0m \u001b[32m━━━━━━━━━━━━━━━━━━━━\u001b[0m\u001b[37m\u001b[0m \u001b[1m0s\u001b[0m 2s/step - accuracy: 0.9030 - loss: 0.2583\n",
      "Epoch 9: val_loss improved from 0.39890 to 0.37828, saving model to ./model_iresnetv2_ad_best.weights.h5\n",
      "\u001b[1m24/24\u001b[0m \u001b[32m━━━━━━━━━━━━━━━━━━━━\u001b[0m\u001b[37m\u001b[0m \u001b[1m54s\u001b[0m 2s/step - accuracy: 0.9039 - loss: 0.2570 - val_accuracy: 0.8524 - val_loss: 0.3783\n",
      "Epoch 10/50\n",
      "\u001b[1m24/24\u001b[0m \u001b[32m━━━━━━━━━━━━━━━━━━━━\u001b[0m\u001b[37m\u001b[0m \u001b[1m0s\u001b[0m 2s/step - accuracy: 0.9609 - loss: 0.1565\n",
      "Epoch 10: val_loss did not improve from 0.37828\n",
      "\u001b[1m24/24\u001b[0m \u001b[32m━━━━━━━━━━━━━━━━━━━━\u001b[0m\u001b[37m\u001b[0m \u001b[1m52s\u001b[0m 2s/step - accuracy: 0.9604 - loss: 0.1572 - val_accuracy: 0.8619 - val_loss: 0.3907\n",
      "Epoch 11/50\n",
      "\u001b[1m24/24\u001b[0m \u001b[32m━━━━━━━━━━━━━━━━━━━━\u001b[0m\u001b[37m\u001b[0m \u001b[1m0s\u001b[0m 2s/step - accuracy: 0.9377 - loss: 0.1888\n",
      "Epoch 11: val_loss did not improve from 0.37828\n",
      "\u001b[1m24/24\u001b[0m \u001b[32m━━━━━━━━━━━━━━━━━━━━\u001b[0m\u001b[37m\u001b[0m \u001b[1m53s\u001b[0m 2s/step - accuracy: 0.9381 - loss: 0.1879 - val_accuracy: 0.8476 - val_loss: 0.4964\n",
      "Epoch 12/50\n",
      "\u001b[1m24/24\u001b[0m \u001b[32m━━━━━━━━━━━━━━━━━━━━\u001b[0m\u001b[37m\u001b[0m \u001b[1m0s\u001b[0m 2s/step - accuracy: 0.9681 - loss: 0.1392\n",
      "Epoch 12: val_loss did not improve from 0.37828\n",
      "\u001b[1m24/24\u001b[0m \u001b[32m━━━━━━━━━━━━━━━━━━━━\u001b[0m\u001b[37m\u001b[0m \u001b[1m53s\u001b[0m 2s/step - accuracy: 0.9674 - loss: 0.1395 - val_accuracy: 0.8714 - val_loss: 0.4093\n",
      "Epoch 13/50\n",
      "\u001b[1m24/24\u001b[0m \u001b[32m━━━━━━━━━━━━━━━━━━━━\u001b[0m\u001b[37m\u001b[0m \u001b[1m0s\u001b[0m 2s/step - accuracy: 0.9355 - loss: 0.1746\n",
      "Epoch 13: val_loss did not improve from 0.37828\n",
      "\u001b[1m24/24\u001b[0m \u001b[32m━━━━━━━━━━━━━━━━━━━━\u001b[0m\u001b[37m\u001b[0m \u001b[1m52s\u001b[0m 2s/step - accuracy: 0.9361 - loss: 0.1732 - val_accuracy: 0.8810 - val_loss: 0.3857\n",
      "Epoch 14/50\n",
      "\u001b[1m24/24\u001b[0m \u001b[32m━━━━━━━━━━━━━━━━━━━━\u001b[0m\u001b[37m\u001b[0m \u001b[1m0s\u001b[0m 2s/step - accuracy: 0.9716 - loss: 0.1095\n",
      "Epoch 14: val_loss did not improve from 0.37828\n",
      "\u001b[1m24/24\u001b[0m \u001b[32m━━━━━━━━━━━━━━━━━━━━\u001b[0m\u001b[37m\u001b[0m \u001b[1m52s\u001b[0m 2s/step - accuracy: 0.9711 - loss: 0.1101 - val_accuracy: 0.8571 - val_loss: 0.5085\n",
      "Epoch 14: early stopping\n"
     ]
    }
   ],
   "source": [
    "# Entraînement du modèle\n",
    "model_iresnetv2_ad, history_iresnetv2_ad, duration_iresnetv2_ad = train_model(model_iresnetv2_ad, X_train_iresnetv2_ad,\n",
    "                                                                      y_train_gen, X_val_iresnetv2_ad, y_val,\n",
    "                                                                      model_save_path=\"./model_iresnetv2_ad_best.weights.h5\")"
   ]
  },
  {
   "cell_type": "code",
   "execution_count": 212,
   "id": "d2968f81-77bb-4bf5-9f78-46df6793a9b3",
   "metadata": {},
   "outputs": [
    {
     "name": "stdout",
     "output_type": "stream",
     "text": [
      "\u001b[1m24/24\u001b[0m \u001b[32m━━━━━━━━━━━━━━━━━━━━\u001b[0m\u001b[37m\u001b[0m \u001b[1m41s\u001b[0m 2s/step - accuracy: 0.9386 - loss: 0.1319\n",
      "Training Accuracy after last epoch: 0.9431\n",
      "\n",
      "\u001b[1m7/7\u001b[0m \u001b[32m━━━━━━━━━━━━━━━━━━━━\u001b[0m\u001b[37m\u001b[0m \u001b[1m11s\u001b[0m 2s/step - accuracy: 0.8332 - loss: 0.6436\n",
      "Test Accuracy after last epoch: 0.8381\n",
      "\n",
      "\u001b[1m7/7\u001b[0m \u001b[32m━━━━━━━━━━━━━━━━━━━━\u001b[0m\u001b[37m\u001b[0m \u001b[1m11s\u001b[0m 2s/step - accuracy: 0.8494 - loss: 0.3896\n",
      "Validation Accuracy (best): 0.8524\n",
      "\u001b[1m7/7\u001b[0m \u001b[32m━━━━━━━━━━━━━━━━━━━━\u001b[0m\u001b[37m\u001b[0m \u001b[1m11s\u001b[0m 2s/step - accuracy: 0.8993 - loss: 0.4013\n",
      "Test Accuracy (best): 0.8905\n",
      "\u001b[1m7/7\u001b[0m \u001b[32m━━━━━━━━━━━━━━━━━━━━\u001b[0m\u001b[37m\u001b[0m \u001b[1m11s\u001b[0m 2s/step\n",
      "Adjusted Rand Index (ARI): 0.7823\n"
     ]
    }
   ],
   "source": [
    "# Évaluation du modèle\n",
    "loss_iresnetv2_ad, accuracy_iresnetv2_ad, ari_score_iresnetv2_ad = evaluate_model(model_iresnetv2_ad,\n",
    "                                                                                  X_train_iresnetv2_ad,\n",
    "                                                                                  y_train_gen, X_val_iresnetv2_ad,\n",
    "                                                                                  y_val, X_test_iresnetv2_ad,\n",
    "                                                                                  y_test,\n",
    "                                                                                  best_weights_path=\"./model_iresnetv2_ad_best.weights.h5\")"
   ]
  },
  {
   "cell_type": "code",
   "execution_count": 213,
   "id": "309c74a7-ff70-413b-95b5-16dd916252e5",
   "metadata": {},
   "outputs": [],
   "source": [
    "add_results('InceptionResNetV2(Augmented Data v2)', loss_iresnetv2_ad, accuracy_iresnetv2_ad,\n",
    "            ari_score_iresnetv2_ad, duration_iresnetv2_ad)\n",
    "data_metrics = pd.DataFrame(data_results)"
   ]
  },
  {
   "cell_type": "code",
   "execution_count": 214,
   "id": "5bc91414-0259-4ddc-9a25-1e2793846845",
   "metadata": {},
   "outputs": [
    {
     "data": {
      "text/html": [
       "<div>\n",
       "<style scoped>\n",
       "    .dataframe tbody tr th:only-of-type {\n",
       "        vertical-align: middle;\n",
       "    }\n",
       "\n",
       "    .dataframe tbody tr th {\n",
       "        vertical-align: top;\n",
       "    }\n",
       "\n",
       "    .dataframe thead th {\n",
       "        text-align: right;\n",
       "    }\n",
       "</style>\n",
       "<table border=\"1\" class=\"dataframe\">\n",
       "  <thead>\n",
       "    <tr style=\"text-align: right;\">\n",
       "      <th></th>\n",
       "      <th>Model</th>\n",
       "      <th>Metric</th>\n",
       "      <th>Score</th>\n",
       "    </tr>\n",
       "  </thead>\n",
       "  <tbody>\n",
       "    <tr>\n",
       "      <th>0</th>\n",
       "      <td>VGG16</td>\n",
       "      <td>Loss</td>\n",
       "      <td>0.929100</td>\n",
       "    </tr>\n",
       "    <tr>\n",
       "      <th>1</th>\n",
       "      <td>VGG16</td>\n",
       "      <td>Accuracy</td>\n",
       "      <td>0.804762</td>\n",
       "    </tr>\n",
       "    <tr>\n",
       "      <th>2</th>\n",
       "      <td>VGG16</td>\n",
       "      <td>Adjusted Rand Score</td>\n",
       "      <td>0.613075</td>\n",
       "    </tr>\n",
       "    <tr>\n",
       "      <th>3</th>\n",
       "      <td>VGG16</td>\n",
       "      <td>Duration (en heures)</td>\n",
       "      <td>0.009636</td>\n",
       "    </tr>\n",
       "    <tr>\n",
       "      <th>4</th>\n",
       "      <td>InceptionResNetV2</td>\n",
       "      <td>Loss</td>\n",
       "      <td>0.400183</td>\n",
       "    </tr>\n",
       "    <tr>\n",
       "      <th>5</th>\n",
       "      <td>InceptionResNetV2</td>\n",
       "      <td>Accuracy</td>\n",
       "      <td>0.876190</td>\n",
       "    </tr>\n",
       "    <tr>\n",
       "      <th>6</th>\n",
       "      <td>InceptionResNetV2</td>\n",
       "      <td>Adjusted Rand Score</td>\n",
       "      <td>0.754794</td>\n",
       "    </tr>\n",
       "    <tr>\n",
       "      <th>7</th>\n",
       "      <td>InceptionResNetV2</td>\n",
       "      <td>Duration (en heures)</td>\n",
       "      <td>0.015675</td>\n",
       "    </tr>\n",
       "    <tr>\n",
       "      <th>8</th>\n",
       "      <td>DenseNet201</td>\n",
       "      <td>Loss</td>\n",
       "      <td>0.407489</td>\n",
       "    </tr>\n",
       "    <tr>\n",
       "      <th>9</th>\n",
       "      <td>DenseNet201</td>\n",
       "      <td>Accuracy</td>\n",
       "      <td>0.861905</td>\n",
       "    </tr>\n",
       "    <tr>\n",
       "      <th>10</th>\n",
       "      <td>DenseNet201</td>\n",
       "      <td>Adjusted Rand Score</td>\n",
       "      <td>0.730567</td>\n",
       "    </tr>\n",
       "    <tr>\n",
       "      <th>11</th>\n",
       "      <td>DenseNet201</td>\n",
       "      <td>Duration (en heures)</td>\n",
       "      <td>0.072172</td>\n",
       "    </tr>\n",
       "    <tr>\n",
       "      <th>12</th>\n",
       "      <td>InceptionResNetV2(HP)</td>\n",
       "      <td>Loss</td>\n",
       "      <td>0.721696</td>\n",
       "    </tr>\n",
       "    <tr>\n",
       "      <th>13</th>\n",
       "      <td>InceptionResNetV2(HP)</td>\n",
       "      <td>Accuracy</td>\n",
       "      <td>0.871429</td>\n",
       "    </tr>\n",
       "    <tr>\n",
       "      <th>14</th>\n",
       "      <td>InceptionResNetV2(HP)</td>\n",
       "      <td>Adjusted Rand Score</td>\n",
       "      <td>0.747019</td>\n",
       "    </tr>\n",
       "    <tr>\n",
       "      <th>15</th>\n",
       "      <td>InceptionResNetV2(HP)</td>\n",
       "      <td>Duration (en heures)</td>\n",
       "      <td>0.046941</td>\n",
       "    </tr>\n",
       "    <tr>\n",
       "      <th>16</th>\n",
       "      <td>InceptionResNetV2(Augmented Data)</td>\n",
       "      <td>Loss</td>\n",
       "      <td>0.620791</td>\n",
       "    </tr>\n",
       "    <tr>\n",
       "      <th>17</th>\n",
       "      <td>InceptionResNetV2(Augmented Data)</td>\n",
       "      <td>Accuracy</td>\n",
       "      <td>0.861905</td>\n",
       "    </tr>\n",
       "    <tr>\n",
       "      <th>18</th>\n",
       "      <td>InceptionResNetV2(Augmented Data)</td>\n",
       "      <td>Adjusted Rand Score</td>\n",
       "      <td>0.741981</td>\n",
       "    </tr>\n",
       "    <tr>\n",
       "      <th>19</th>\n",
       "      <td>InceptionResNetV2(Augmented Data)</td>\n",
       "      <td>Duration (en heures)</td>\n",
       "      <td>0.602164</td>\n",
       "    </tr>\n",
       "    <tr>\n",
       "      <th>20</th>\n",
       "      <td>InceptionResNetV2(Augmented Data v2)</td>\n",
       "      <td>Loss</td>\n",
       "      <td>0.466148</td>\n",
       "    </tr>\n",
       "    <tr>\n",
       "      <th>21</th>\n",
       "      <td>InceptionResNetV2(Augmented Data v2)</td>\n",
       "      <td>Accuracy</td>\n",
       "      <td>0.890476</td>\n",
       "    </tr>\n",
       "    <tr>\n",
       "      <th>22</th>\n",
       "      <td>InceptionResNetV2(Augmented Data v2)</td>\n",
       "      <td>Adjusted Rand Score</td>\n",
       "      <td>0.782292</td>\n",
       "    </tr>\n",
       "    <tr>\n",
       "      <th>23</th>\n",
       "      <td>InceptionResNetV2(Augmented Data v2)</td>\n",
       "      <td>Duration (en heures)</td>\n",
       "      <td>0.209096</td>\n",
       "    </tr>\n",
       "  </tbody>\n",
       "</table>\n",
       "</div>"
      ],
      "text/plain": [
       "                                   Model                Metric     Score\n",
       "0                                  VGG16                  Loss  0.929100\n",
       "1                                  VGG16              Accuracy  0.804762\n",
       "2                                  VGG16   Adjusted Rand Score  0.613075\n",
       "3                                  VGG16  Duration (en heures)  0.009636\n",
       "4                      InceptionResNetV2                  Loss  0.400183\n",
       "5                      InceptionResNetV2              Accuracy  0.876190\n",
       "6                      InceptionResNetV2   Adjusted Rand Score  0.754794\n",
       "7                      InceptionResNetV2  Duration (en heures)  0.015675\n",
       "8                            DenseNet201                  Loss  0.407489\n",
       "9                            DenseNet201              Accuracy  0.861905\n",
       "10                           DenseNet201   Adjusted Rand Score  0.730567\n",
       "11                           DenseNet201  Duration (en heures)  0.072172\n",
       "12                 InceptionResNetV2(HP)                  Loss  0.721696\n",
       "13                 InceptionResNetV2(HP)              Accuracy  0.871429\n",
       "14                 InceptionResNetV2(HP)   Adjusted Rand Score  0.747019\n",
       "15                 InceptionResNetV2(HP)  Duration (en heures)  0.046941\n",
       "16     InceptionResNetV2(Augmented Data)                  Loss  0.620791\n",
       "17     InceptionResNetV2(Augmented Data)              Accuracy  0.861905\n",
       "18     InceptionResNetV2(Augmented Data)   Adjusted Rand Score  0.741981\n",
       "19     InceptionResNetV2(Augmented Data)  Duration (en heures)  0.602164\n",
       "20  InceptionResNetV2(Augmented Data v2)                  Loss  0.466148\n",
       "21  InceptionResNetV2(Augmented Data v2)              Accuracy  0.890476\n",
       "22  InceptionResNetV2(Augmented Data v2)   Adjusted Rand Score  0.782292\n",
       "23  InceptionResNetV2(Augmented Data v2)  Duration (en heures)  0.209096"
      ]
     },
     "execution_count": 214,
     "metadata": {},
     "output_type": "execute_result"
    }
   ],
   "source": [
    "data_metrics"
   ]
  },
  {
   "cell_type": "code",
   "execution_count": 215,
   "id": "662737cf-a253-4ba3-a515-28118257b374",
   "metadata": {},
   "outputs": [
    {
     "data": {
      "image/png": "[encoded data removed]",
      "text/plain": [
       "<Figure size 1200x800 with 1 Axes>"
      ]
     },
     "metadata": {},
     "output_type": "display_data"
    }
   ],
   "source": [
    "plot_model_performance(data_metrics)"
   ]
  },
  {
   "cell_type": "code",
   "execution_count": null,
   "id": "2994d3f7-0321-4a9f-89eb-0361fd92d6d9",
   "metadata": {},
   "outputs": [],
   "source": []
  }
 ],
 "metadata": {
  "kernelspec": {
   "display_name": "Python 3 (ipykernel)",
   "language": "python",
   "name": "python3"
  },
  "language_info": {
   "codemirror_mode": {
    "name": "ipython",
    "version": 3
   },
   "file_extension": ".py",
   "mimetype": "text/x-python",
   "name": "python",
   "nbconvert_exporter": "python",
   "pygments_lexer": "ipython3",
   "version": "3.12.0"
  }
 },
 "nbformat": 4,
 "nbformat_minor": 5
}
