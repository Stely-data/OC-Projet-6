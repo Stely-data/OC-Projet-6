{
 "cells": [
  {
   "cell_type": "markdown",
   "id": "f105fbed-3cf1-42fb-aa2c-bf1dfaee6f5a",
   "metadata": {},
   "source": [
    "<b><font color=\"SteelBlue\" size=\"+3\">Classifiez automatiquement des biens de consommation</font></b>"
   ]
  },
  {
   "cell_type": "markdown",
   "id": "5c3ecccb-d303-4f80-83fe-4dacb82dc07b",
   "metadata": {},
   "source": [
    "# Introduction"
   ]
  },
  {
   "cell_type": "markdown",
   "id": "30a3d070-048b-4807-8977-30dbe4e240c7",
   "metadata": {},
   "source": [
    "Ce notebook est la suite de celui sur le traitement des descriptions. On récupère les données nettoyées pour les catégories des produits."
   ]
  },
  {
   "cell_type": "markdown",
   "id": "4921c1bd-b2f0-4f93-aeee-0715f899f711",
   "metadata": {},
   "source": [
    "## Imports"
   ]
  },
  {
   "cell_type": "code",
   "execution_count": 1,
   "id": "bb4f0271-1e10-4c6f-9551-57ea20d9c8d3",
   "metadata": {},
   "outputs": [],
   "source": [
    "# Chargement des librairies\n",
    "# Standard\n",
    "import os\n",
    "\n",
    "# Data Manipulation and Analysis\n",
    "import pandas as pd\n",
    "import numpy as np\n",
    "from sklearn.preprocessing import LabelEncoder\n",
    "from sklearn.model_selection import train_test_split\n",
    "\n",
    "# Visualization\n",
    "import matplotlib.pyplot as plt\n",
    "import seaborn as sns\n",
    "\n",
    "# Image Processing\n",
    "from matplotlib.image import imread\n",
    "from PIL import Image as PilImage\n",
    "\n",
    "# Deep Learning - TensorFlow/Keras\n",
    "os.environ[\"KERAS_BACKEND\"] = \"torch\"\n",
    "import tensorflow as tf\n",
    "from tensorflow.keras.applications.vgg16 import preprocess_input as preprocess_vgg16\n",
    "from tensorflow.keras.applications.inception_resnet_v2 import preprocess_input as preprocess_inceptionresnetv2\n",
    "from tensorflow.keras.applications.densenet import preprocess_input as preprocess_densenet201\n",
    "from tensorflow.keras.utils import to_categorical\n",
    "\n",
    "# Custom Modules\n",
    "from Deveau_Estelle_4_IMG_func_042024 import *"
   ]
  },
  {
   "cell_type": "markdown",
   "id": "a89f1bb6-53d0-4efc-82c1-b035269391ef",
   "metadata": {},
   "source": [
    "## Data"
   ]
  },
  {
   "cell_type": "code",
   "execution_count": 2,
   "id": "86df606e-6b8a-47f3-bbe7-f34d5f0a5b11",
   "metadata": {},
   "outputs": [
    {
     "data": {
      "text/plain": [
       "['.ipynb_checkpoints',\n",
       " 'data',\n",
       " 'Deveau_Estelle_1_notebook_txt_faisabilite_042024.ipynb',\n",
       " 'Deveau_Estelle_2_NLP_func_042024.py',\n",
       " 'Deveau_Estelle_3_notebook_img_faisabilite_042024.ipynb',\n",
       " 'Deveau_Estelle_4_IMG_func_042024.py',\n",
       " 'Deveau_Estelle_5_notebook_img_classification_042024.ipynb',\n",
       " 'model_augmented_data_best.weights.h5',\n",
       " 'model_best.keras',\n",
       " 'model_best.weights.h5',\n",
       " 'model_densenet201_best.weights.h5',\n",
       " 'model_inceptionresnetv2_best.weights.h5',\n",
       " 'model_vgg16_best.weights.h5',\n",
       " 'OC_projet6.pptx',\n",
       " 'pythonProject',\n",
       " 'svg',\n",
       " 'Weather_Images_CNN_Transfer_Learning_Stage_1_feasibility_V1.0.ipynb',\n",
       " 'Weather_Images_CNN_Transfer_Learning_Stage_2_supervised_classification_V1.0.ipynb',\n",
       " '__pycache__']"
      ]
     },
     "execution_count": 2,
     "metadata": {},
     "output_type": "execute_result"
    }
   ],
   "source": [
    "os.listdir()"
   ]
  },
  {
   "cell_type": "code",
   "execution_count": 3,
   "id": "0a3db40d-660c-49fe-a8b5-58307c30d33f",
   "metadata": {},
   "outputs": [
    {
     "data": {
      "text/plain": [
       "['data.csv']"
      ]
     },
     "execution_count": 3,
     "metadata": {},
     "output_type": "execute_result"
    }
   ],
   "source": [
    "os.listdir(\"data/Cleaned/\")"
   ]
  },
  {
   "cell_type": "code",
   "execution_count": 4,
   "id": "ebbe1e8a-1f51-4a87-99ee-2c712fe1fdb8",
   "metadata": {},
   "outputs": [],
   "source": [
    "path     = \"./data/Cleaned/\"\n",
    "filename = \"data.csv\""
   ]
  },
  {
   "cell_type": "code",
   "execution_count": 5,
   "id": "41c1a96b-b4ea-48a3-b878-c5482f7c690f",
   "metadata": {},
   "outputs": [],
   "source": [
    "data = pd.read_csv(path + filename)"
   ]
  },
  {
   "cell_type": "code",
   "execution_count": 6,
   "id": "8d37600a-66aa-4b58-98c0-17ba57ad2c4b",
   "metadata": {},
   "outputs": [
    {
     "name": "stdout",
     "output_type": "stream",
     "text": [
      "1050\n"
     ]
    }
   ],
   "source": [
    "path     = \"./data/Sources/Images/\"\n",
    "list_photos = [file for file in os.listdir(path)]\n",
    "print(len(list_photos))"
   ]
  },
  {
   "cell_type": "markdown",
   "id": "dea98bc1-c7cf-4f3d-bce2-c7b35748888c",
   "metadata": {},
   "source": [
    "# Classification supervisée"
   ]
  },
  {
   "cell_type": "code",
   "execution_count": 7,
   "id": "50216666-fc7a-4f76-970d-23fbdb04d6f9",
   "metadata": {},
   "outputs": [
    {
     "data": {
      "text/html": [
       "<div>\n",
       "<style scoped>\n",
       "    .dataframe tbody tr th:only-of-type {\n",
       "        vertical-align: middle;\n",
       "    }\n",
       "\n",
       "    .dataframe tbody tr th {\n",
       "        vertical-align: top;\n",
       "    }\n",
       "\n",
       "    .dataframe thead th {\n",
       "        text-align: right;\n",
       "    }\n",
       "</style>\n",
       "<table border=\"1\" class=\"dataframe\">\n",
       "  <thead>\n",
       "    <tr style=\"text-align: right;\">\n",
       "      <th></th>\n",
       "      <th>uniq_id</th>\n",
       "      <th>product_category</th>\n",
       "    </tr>\n",
       "  </thead>\n",
       "  <tbody>\n",
       "    <tr>\n",
       "      <th>0</th>\n",
       "      <td>55b85ea15a1536d46b7190ad6fff8ce7</td>\n",
       "      <td>Home Furnishing</td>\n",
       "    </tr>\n",
       "    <tr>\n",
       "      <th>1</th>\n",
       "      <td>7b72c92c2f6c40268628ec5f14c6d590</td>\n",
       "      <td>Baby Care</td>\n",
       "    </tr>\n",
       "    <tr>\n",
       "      <th>2</th>\n",
       "      <td>64d5d4a258243731dc7bbb1eef49ad74</td>\n",
       "      <td>Baby Care</td>\n",
       "    </tr>\n",
       "    <tr>\n",
       "      <th>3</th>\n",
       "      <td>d4684dcdc759dd9cdf41504698d737d8</td>\n",
       "      <td>Home Furnishing</td>\n",
       "    </tr>\n",
       "    <tr>\n",
       "      <th>4</th>\n",
       "      <td>6325b6870c54cd47be6ebfbffa620ec7</td>\n",
       "      <td>Home Furnishing</td>\n",
       "    </tr>\n",
       "  </tbody>\n",
       "</table>\n",
       "</div>"
      ],
      "text/plain": [
       "                            uniq_id product_category\n",
       "0  55b85ea15a1536d46b7190ad6fff8ce7  Home Furnishing\n",
       "1  7b72c92c2f6c40268628ec5f14c6d590        Baby Care\n",
       "2  64d5d4a258243731dc7bbb1eef49ad74        Baby Care\n",
       "3  d4684dcdc759dd9cdf41504698d737d8  Home Furnishing\n",
       "4  6325b6870c54cd47be6ebfbffa620ec7  Home Furnishing"
      ]
     },
     "execution_count": 7,
     "metadata": {},
     "output_type": "execute_result"
    }
   ],
   "source": [
    "cols_to_keep = ['uniq_id', 'product_category']\n",
    "df = data[cols_to_keep]\n",
    "df.head(5)"
   ]
  },
  {
   "cell_type": "code",
   "execution_count": 8,
   "id": "c595dd67-13b7-4e77-bc48-f69daced73b4",
   "metadata": {},
   "outputs": [],
   "source": [
    "image_paths = [f\"{path}{uid}.jpg\" for uid in df['uniq_id']]\n",
    "\n",
    "# Encodage des catégories\n",
    "label_encoder = LabelEncoder()\n",
    "categories_encoded = label_encoder.fit_transform(df['product_category'])\n",
    "category_names = label_encoder.classes_"
   ]
  },
  {
   "cell_type": "markdown",
   "id": "3a1d77d8-9f25-49c3-b688-144744f95450",
   "metadata": {},
   "source": [
    "## Séparation des jeux de données (train, val, test)"
   ]
  },
  {
   "cell_type": "code",
   "execution_count": 9,
   "id": "bb6d996a-e292-4443-9330-b8a3cedf2668",
   "metadata": {},
   "outputs": [],
   "source": [
    "y = to_categorical(categories_encoded, 7)"
   ]
  },
  {
   "cell_type": "code",
   "execution_count": 10,
   "id": "5b38d11a-2658-4c6e-8f77-42e5c0168c4b",
   "metadata": {},
   "outputs": [
    {
     "data": {
      "text/plain": [
       "array([[0., 0., 0., 0., 1., 0., 0.],\n",
       "       [1., 0., 0., 0., 0., 0., 0.],\n",
       "       [1., 0., 0., 0., 0., 0., 0.],\n",
       "       [0., 0., 0., 0., 1., 0., 0.],\n",
       "       [0., 0., 0., 0., 1., 0., 0.]])"
      ]
     },
     "execution_count": 10,
     "metadata": {},
     "output_type": "execute_result"
    }
   ],
   "source": [
    "y[:5]"
   ]
  },
  {
   "cell_type": "code",
   "execution_count": 11,
   "id": "d124dd0d-078e-4f1f-ad40-ae4f190af400",
   "metadata": {},
   "outputs": [],
   "source": [
    "# Diviser les chemins d'image et les étiquettes\n",
    "paths_train, paths_test, y_train, y_test = train_test_split(image_paths, y, test_size=0.2, random_state=42)\n",
    "paths_train, paths_val, y_train, y_val = train_test_split(paths_train, y_train, test_size=0.25, random_state=42)"
   ]
  },
  {
   "cell_type": "code",
   "execution_count": 12,
   "id": "561563c0-7d61-4b13-9a59-dadac0839736",
   "metadata": {},
   "outputs": [
    {
     "data": {
      "text/plain": [
       "array([[0., 0., 1., 0., 0., 0., 0.],\n",
       "       [0., 0., 0., 0., 0., 1., 0.],\n",
       "       [0., 0., 1., 0., 0., 0., 0.],\n",
       "       [0., 1., 0., 0., 0., 0., 0.],\n",
       "       [0., 0., 0., 0., 0., 0., 1.]])"
      ]
     },
     "execution_count": 12,
     "metadata": {},
     "output_type": "execute_result"
    }
   ],
   "source": [
    "y_test[:5]"
   ]
  },
  {
   "cell_type": "code",
   "execution_count": 13,
   "id": "4a0379ad-a27f-4d55-b7b4-022784eddded",
   "metadata": {},
   "outputs": [],
   "source": [
    "# Dictionnaire pour stocker les résultats\n",
    "results = {}"
   ]
  },
  {
   "cell_type": "markdown",
   "id": "78657f7c-c53a-4d6d-9343-163da34a541b",
   "metadata": {},
   "source": [
    "## Evaluation des modèles sélectionnés"
   ]
  },
  {
   "cell_type": "code",
   "execution_count": 14,
   "id": "e07845a3-b35d-4ca0-87e6-7b69a10e1acb",
   "metadata": {},
   "outputs": [],
   "source": [
    "# Définir le seuil à un niveau supérieur spécifique\n",
    "PilImage.MAX_IMAGE_PIXELS = 100000000"
   ]
  },
  {
   "cell_type": "markdown",
   "id": "be926cf2-7849-4691-9a8e-e34a1370db16",
   "metadata": {},
   "source": [
    "### VGG16"
   ]
  },
  {
   "cell_type": "code",
   "execution_count": 15,
   "id": "024d4f2a-cbb8-4fcb-bec4-cb89810a3614",
   "metadata": {},
   "outputs": [],
   "source": [
    "# Préparation des données\n",
    "X_train_vgg16, X_val_vgg16, X_test_vgg16 = prepare_data(paths_train, paths_val, paths_test, preprocess_vgg16,\n",
    "                                                        target_size=(224, 224, 3))"
   ]
  },
  {
   "cell_type": "code",
   "execution_count": 16,
   "id": "5e9f37f9-21bb-41a2-ab4e-b6224ef61387",
   "metadata": {},
   "outputs": [],
   "source": [
    "# Création du modèle\n",
    "model_vgg16 = create_model_fct(base_model_name='VGG16')"
   ]
  },
  {
   "cell_type": "code",
   "execution_count": 17,
   "id": "3981c122-d4a3-4067-b3cb-326d0ca3d47e",
   "metadata": {
    "scrolled": true
   },
   "outputs": [
    {
     "name": "stdout",
     "output_type": "stream",
     "text": [
      "Epoch 1/50\n",
      "\u001b[1m20/20\u001b[0m \u001b[32m━━━━━━━━━━━━━━━━━━━━\u001b[0m\u001b[37m\u001b[0m \u001b[1m0s\u001b[0m 124ms/step - accuracy: 0.4001 - loss: 6.3000\n",
      "Epoch 1: val_loss improved from inf to 1.33368, saving model to ./model_vgg16_best.weights.h5\n",
      "\u001b[1m20/20\u001b[0m \u001b[32m━━━━━━━━━━━━━━━━━━━━\u001b[0m\u001b[37m\u001b[0m \u001b[1m4s\u001b[0m 171ms/step - accuracy: 0.4051 - loss: 6.2369 - val_accuracy: 0.7524 - val_loss: 1.3337\n",
      "Epoch 2/50\n",
      "\u001b[1m20/20\u001b[0m \u001b[32m━━━━━━━━━━━━━━━━━━━━\u001b[0m\u001b[37m\u001b[0m \u001b[1m0s\u001b[0m 126ms/step - accuracy: 0.6931 - loss: 2.4637\n",
      "Epoch 2: val_loss did not improve from 1.33368\n",
      "\u001b[1m20/20\u001b[0m \u001b[32m━━━━━━━━━━━━━━━━━━━━\u001b[0m\u001b[37m\u001b[0m \u001b[1m3s\u001b[0m 169ms/step - accuracy: 0.6936 - loss: 2.4529 - val_accuracy: 0.7619 - val_loss: 1.4077\n",
      "Epoch 3/50\n",
      "\u001b[1m20/20\u001b[0m \u001b[32m━━━━━━━━━━━━━━━━━━━━\u001b[0m\u001b[37m\u001b[0m \u001b[1m0s\u001b[0m 129ms/step - accuracy: 0.7731 - loss: 1.6422\n",
      "Epoch 3: val_loss improved from 1.33368 to 1.28510, saving model to ./model_vgg16_best.weights.h5\n",
      "\u001b[1m20/20\u001b[0m \u001b[32m━━━━━━━━━━━━━━━━━━━━\u001b[0m\u001b[37m\u001b[0m \u001b[1m3s\u001b[0m 175ms/step - accuracy: 0.7720 - loss: 1.6398 - val_accuracy: 0.7714 - val_loss: 1.2851\n",
      "Epoch 4/50\n",
      "\u001b[1m20/20\u001b[0m \u001b[32m━━━━━━━━━━━━━━━━━━━━\u001b[0m\u001b[37m\u001b[0m \u001b[1m0s\u001b[0m 123ms/step - accuracy: 0.7805 - loss: 1.1352\n",
      "Epoch 4: val_loss improved from 1.28510 to 1.12720, saving model to ./model_vgg16_best.weights.h5\n",
      "\u001b[1m20/20\u001b[0m \u001b[32m━━━━━━━━━━━━━━━━━━━━\u001b[0m\u001b[37m\u001b[0m \u001b[1m3s\u001b[0m 169ms/step - accuracy: 0.7813 - loss: 1.1326 - val_accuracy: 0.7810 - val_loss: 1.1272\n",
      "Epoch 5/50\n",
      "\u001b[1m20/20\u001b[0m \u001b[32m━━━━━━━━━━━━━━━━━━━━\u001b[0m\u001b[37m\u001b[0m \u001b[1m0s\u001b[0m 122ms/step - accuracy: 0.8465 - loss: 0.9199\n",
      "Epoch 5: val_loss improved from 1.12720 to 1.03311, saving model to ./model_vgg16_best.weights.h5\n",
      "\u001b[1m20/20\u001b[0m \u001b[32m━━━━━━━━━━━━━━━━━━━━\u001b[0m\u001b[37m\u001b[0m \u001b[1m3s\u001b[0m 172ms/step - accuracy: 0.8458 - loss: 0.9174 - val_accuracy: 0.7952 - val_loss: 1.0331\n",
      "Epoch 6/50\n",
      "\u001b[1m20/20\u001b[0m \u001b[32m━━━━━━━━━━━━━━━━━━━━\u001b[0m\u001b[37m\u001b[0m \u001b[1m0s\u001b[0m 125ms/step - accuracy: 0.8760 - loss: 0.6046\n",
      "Epoch 6: val_loss improved from 1.03311 to 0.92451, saving model to ./model_vgg16_best.weights.h5\n",
      "\u001b[1m20/20\u001b[0m \u001b[32m━━━━━━━━━━━━━━━━━━━━\u001b[0m\u001b[37m\u001b[0m \u001b[1m3s\u001b[0m 170ms/step - accuracy: 0.8754 - loss: 0.6065 - val_accuracy: 0.8048 - val_loss: 0.9245\n",
      "Epoch 7/50\n",
      "\u001b[1m20/20\u001b[0m \u001b[32m━━━━━━━━━━━━━━━━━━━━\u001b[0m\u001b[37m\u001b[0m \u001b[1m0s\u001b[0m 127ms/step - accuracy: 0.8564 - loss: 0.7000\n",
      "Epoch 7: val_loss improved from 0.92451 to 0.88679, saving model to ./model_vgg16_best.weights.h5\n",
      "\u001b[1m20/20\u001b[0m \u001b[32m━━━━━━━━━━━━━━━━━━━━\u001b[0m\u001b[37m\u001b[0m \u001b[1m3s\u001b[0m 172ms/step - accuracy: 0.8571 - loss: 0.6914 - val_accuracy: 0.8143 - val_loss: 0.8868\n",
      "Epoch 8/50\n",
      "\u001b[1m20/20\u001b[0m \u001b[32m━━━━━━━━━━━━━━━━━━━━\u001b[0m\u001b[37m\u001b[0m \u001b[1m0s\u001b[0m 122ms/step - accuracy: 0.8597 - loss: 0.5624\n",
      "Epoch 8: val_loss improved from 0.88679 to 0.82093, saving model to ./model_vgg16_best.weights.h5\n",
      "\u001b[1m20/20\u001b[0m \u001b[32m━━━━━━━━━━━━━━━━━━━━\u001b[0m\u001b[37m\u001b[0m \u001b[1m3s\u001b[0m 168ms/step - accuracy: 0.8609 - loss: 0.5578 - val_accuracy: 0.8381 - val_loss: 0.8209\n",
      "Epoch 9/50\n",
      "\u001b[1m20/20\u001b[0m \u001b[32m━━━━━━━━━━━━━━━━━━━━\u001b[0m\u001b[37m\u001b[0m \u001b[1m0s\u001b[0m 125ms/step - accuracy: 0.9306 - loss: 0.3488\n",
      "Epoch 9: val_loss did not improve from 0.82093\n",
      "\u001b[1m20/20\u001b[0m \u001b[32m━━━━━━━━━━━━━━━━━━━━\u001b[0m\u001b[37m\u001b[0m \u001b[1m3s\u001b[0m 167ms/step - accuracy: 0.9299 - loss: 0.3492 - val_accuracy: 0.8095 - val_loss: 0.8839\n",
      "Epoch 10/50\n",
      "\u001b[1m20/20\u001b[0m \u001b[32m━━━━━━━━━━━━━━━━━━━━\u001b[0m\u001b[37m\u001b[0m \u001b[1m0s\u001b[0m 123ms/step - accuracy: 0.9350 - loss: 0.2435\n",
      "Epoch 10: val_loss did not improve from 0.82093\n",
      "\u001b[1m20/20\u001b[0m \u001b[32m━━━━━━━━━━━━━━━━━━━━\u001b[0m\u001b[37m\u001b[0m \u001b[1m3s\u001b[0m 165ms/step - accuracy: 0.9350 - loss: 0.2458 - val_accuracy: 0.8190 - val_loss: 0.9058\n",
      "Epoch 11/50\n",
      "\u001b[1m20/20\u001b[0m \u001b[32m━━━━━━━━━━━━━━━━━━━━\u001b[0m\u001b[37m\u001b[0m \u001b[1m0s\u001b[0m 122ms/step - accuracy: 0.9246 - loss: 0.3625\n",
      "Epoch 11: val_loss did not improve from 0.82093\n",
      "\u001b[1m20/20\u001b[0m \u001b[32m━━━━━━━━━━━━━━━━━━━━\u001b[0m\u001b[37m\u001b[0m \u001b[1m3s\u001b[0m 164ms/step - accuracy: 0.9250 - loss: 0.3569 - val_accuracy: 0.8000 - val_loss: 0.8953\n",
      "Epoch 12/50\n",
      "\u001b[1m20/20\u001b[0m \u001b[32m━━━━━━━━━━━━━━━━━━━━\u001b[0m\u001b[37m\u001b[0m \u001b[1m0s\u001b[0m 123ms/step - accuracy: 0.9499 - loss: 0.2013\n",
      "Epoch 12: val_loss did not improve from 0.82093\n",
      "\u001b[1m20/20\u001b[0m \u001b[32m━━━━━━━━━━━━━━━━━━━━\u001b[0m\u001b[37m\u001b[0m \u001b[1m3s\u001b[0m 165ms/step - accuracy: 0.9495 - loss: 0.2047 - val_accuracy: 0.7857 - val_loss: 0.9633\n",
      "Epoch 13/50\n",
      "\u001b[1m20/20\u001b[0m \u001b[32m━━━━━━━━━━━━━━━━━━━━\u001b[0m\u001b[37m\u001b[0m \u001b[1m0s\u001b[0m 123ms/step - accuracy: 0.9239 - loss: 0.2813\n",
      "Epoch 13: val_loss did not improve from 0.82093\n",
      "\u001b[1m20/20\u001b[0m \u001b[32m━━━━━━━━━━━━━━━━━━━━\u001b[0m\u001b[37m\u001b[0m \u001b[1m3s\u001b[0m 165ms/step - accuracy: 0.9250 - loss: 0.2767 - val_accuracy: 0.7952 - val_loss: 1.0442\n",
      "Epoch 13: early stopping\n"
     ]
    }
   ],
   "source": [
    "# Entraînement du modèle\n",
    "model_vgg16, history_vgg16, duration_vgg16 = train_model(model_vgg16, X_train_vgg16, y_train, X_val_vgg16, y_val,\n",
    "                                                         model_save_path=\"./model_vgg16_best.weights.h5\")"
   ]
  },
  {
   "cell_type": "code",
   "execution_count": 18,
   "id": "a93d62e5-dd68-44a0-b5d1-dc0bd612dfb2",
   "metadata": {},
   "outputs": [
    {
     "name": "stdout",
     "output_type": "stream",
     "text": [
      "\u001b[1m20/20\u001b[0m \u001b[32m━━━━━━━━━━━━━━━━━━━━\u001b[0m\u001b[37m\u001b[0m \u001b[1m2s\u001b[0m 123ms/step - accuracy: 0.9964 - loss: 0.0226\n",
      "Training Accuracy after last epoch: 0.9952\n",
      "\n",
      "\u001b[1m7/7\u001b[0m \u001b[32m━━━━━━━━━━━━━━━━━━━━\u001b[0m\u001b[37m\u001b[0m \u001b[1m1s\u001b[0m 114ms/step - accuracy: 0.8532 - loss: 0.7411\n",
      "Test Accuracy after last epoch: 0.8286\n",
      "\n",
      "\u001b[1m7/7\u001b[0m \u001b[32m━━━━━━━━━━━━━━━━━━━━\u001b[0m\u001b[37m\u001b[0m \u001b[1m1s\u001b[0m 114ms/step - accuracy: 0.8341 - loss: 0.8008\n",
      "Validation Accuracy (best): 0.8381\n",
      "\u001b[1m7/7\u001b[0m \u001b[32m━━━━━━━━━━━━━━━━━━━━\u001b[0m\u001b[37m\u001b[0m \u001b[1m1s\u001b[0m 114ms/step - accuracy: 0.8131 - loss: 0.6704\n",
      "Test Accuracy (best): 0.8143\n",
      "\u001b[1m7/7\u001b[0m \u001b[32m━━━━━━━━━━━━━━━━━━━━\u001b[0m\u001b[37m\u001b[0m \u001b[1m1s\u001b[0m 115ms/step\n",
      "Adjusted Rand Index (ARI): 0.6341\n"
     ]
    }
   ],
   "source": [
    "# Évaluation du modèle\n",
    "loss_vgg16, accuracy_vgg16, ari_score_vgg16 = evaluate_model(model_vgg16, X_train_vgg16, y_train, X_val_vgg16,\n",
    "                                                             y_val, X_test_vgg16, y_test, best_weights_path=\"./model_vgg16_best.weights.h5\")"
   ]
  },
  {
   "cell_type": "markdown",
   "id": "51705f37-d878-45ec-ba4d-65813c87927b",
   "metadata": {},
   "source": [
    "### InceptionResNetV2"
   ]
  },
  {
   "cell_type": "code",
   "execution_count": 19,
   "id": "74779ef2-ba20-4899-a4d8-cf893153a82b",
   "metadata": {},
   "outputs": [],
   "source": [
    "# Préparation des données\n",
    "X_train_inceptionresnetv2, X_val_inceptionresnetv2, X_test_inceptionresnetv2 = prepare_data(paths_train, paths_val,\n",
    "                                                                                            paths_test, preprocess_inceptionresnetv2,\n",
    "                                                                                            target_size=(299, 299, 3))"
   ]
  },
  {
   "cell_type": "code",
   "execution_count": 20,
   "id": "0834c6c6-76d9-4f8a-b7a2-1eeb9e7149a1",
   "metadata": {
    "scrolled": true
   },
   "outputs": [],
   "source": [
    "# Création du modèle\n",
    "model_inceptionresnetv2 = create_model_fct(base_model_name='InceptionResNetV2')"
   ]
  },
  {
   "cell_type": "code",
   "execution_count": 21,
   "id": "f12f0a2f-5529-4029-b6f5-a99e0260f303",
   "metadata": {
    "scrolled": true
   },
   "outputs": [
    {
     "name": "stdout",
     "output_type": "stream",
     "text": [
      "Epoch 1/50\n",
      "\u001b[1m20/20\u001b[0m \u001b[32m━━━━━━━━━━━━━━━━━━━━\u001b[0m\u001b[37m\u001b[0m \u001b[1m0s\u001b[0m 220ms/step - accuracy: 0.3997 - loss: 1.8957\n",
      "Epoch 1: val_loss improved from inf to 0.63741, saving model to ./model_inceptionresnetv2_best.weights.h5\n",
      "\u001b[1m20/20\u001b[0m \u001b[32m━━━━━━━━━━━━━━━━━━━━\u001b[0m\u001b[37m\u001b[0m \u001b[1m7s\u001b[0m 339ms/step - accuracy: 0.4071 - loss: 1.8723 - val_accuracy: 0.8476 - val_loss: 0.6374\n",
      "Epoch 2/50\n",
      "\u001b[1m20/20\u001b[0m \u001b[32m━━━━━━━━━━━━━━━━━━━━\u001b[0m\u001b[37m\u001b[0m \u001b[1m0s\u001b[0m 215ms/step - accuracy: 0.7983 - loss: 0.7093\n",
      "Epoch 2: val_loss did not improve from 0.63741\n",
      "\u001b[1m20/20\u001b[0m \u001b[32m━━━━━━━━━━━━━━━━━━━━\u001b[0m\u001b[37m\u001b[0m \u001b[1m6s\u001b[0m 291ms/step - accuracy: 0.7987 - loss: 0.7070 - val_accuracy: 0.7238 - val_loss: 0.7700\n",
      "Epoch 3/50\n",
      "\u001b[1m20/20\u001b[0m \u001b[32m━━━━━━━━━━━━━━━━━━━━\u001b[0m\u001b[37m\u001b[0m \u001b[1m0s\u001b[0m 215ms/step - accuracy: 0.8393 - loss: 0.5705\n",
      "Epoch 3: val_loss improved from 0.63741 to 0.48319, saving model to ./model_inceptionresnetv2_best.weights.h5\n",
      "\u001b[1m20/20\u001b[0m \u001b[32m━━━━━━━━━━━━━━━━━━━━\u001b[0m\u001b[37m\u001b[0m \u001b[1m6s\u001b[0m 329ms/step - accuracy: 0.8396 - loss: 0.5693 - val_accuracy: 0.8286 - val_loss: 0.4832\n",
      "Epoch 4/50\n",
      "\u001b[1m20/20\u001b[0m \u001b[32m━━━━━━━━━━━━━━━━━━━━\u001b[0m\u001b[37m\u001b[0m \u001b[1m0s\u001b[0m 216ms/step - accuracy: 0.8581 - loss: 0.4275\n",
      "Epoch 4: val_loss did not improve from 0.48319\n",
      "\u001b[1m20/20\u001b[0m \u001b[32m━━━━━━━━━━━━━━━━━━━━\u001b[0m\u001b[37m\u001b[0m \u001b[1m6s\u001b[0m 292ms/step - accuracy: 0.8586 - loss: 0.4266 - val_accuracy: 0.8048 - val_loss: 0.5934\n",
      "Epoch 5/50\n",
      "\u001b[1m20/20\u001b[0m \u001b[32m━━━━━━━━━━━━━━━━━━━━\u001b[0m\u001b[37m\u001b[0m \u001b[1m0s\u001b[0m 221ms/step - accuracy: 0.8663 - loss: 0.4106\n",
      "Epoch 5: val_loss improved from 0.48319 to 0.45790, saving model to ./model_inceptionresnetv2_best.weights.h5\n",
      "\u001b[1m20/20\u001b[0m \u001b[32m━━━━━━━━━━━━━━━━━━━━\u001b[0m\u001b[37m\u001b[0m \u001b[1m7s\u001b[0m 341ms/step - accuracy: 0.8671 - loss: 0.4081 - val_accuracy: 0.8381 - val_loss: 0.4579\n",
      "Epoch 6/50\n",
      "\u001b[1m20/20\u001b[0m \u001b[32m━━━━━━━━━━━━━━━━━━━━\u001b[0m\u001b[37m\u001b[0m \u001b[1m0s\u001b[0m 219ms/step - accuracy: 0.9055 - loss: 0.3126\n",
      "Epoch 6: val_loss did not improve from 0.45790\n",
      "\u001b[1m20/20\u001b[0m \u001b[32m━━━━━━━━━━━━━━━━━━━━\u001b[0m\u001b[37m\u001b[0m \u001b[1m6s\u001b[0m 297ms/step - accuracy: 0.9052 - loss: 0.3136 - val_accuracy: 0.8333 - val_loss: 0.4807\n",
      "Epoch 7/50\n",
      "\u001b[1m20/20\u001b[0m \u001b[32m━━━━━━━━━━━━━━━━━━━━\u001b[0m\u001b[37m\u001b[0m \u001b[1m0s\u001b[0m 222ms/step - accuracy: 0.8816 - loss: 0.3323\n",
      "Epoch 7: val_loss improved from 0.45790 to 0.42965, saving model to ./model_inceptionresnetv2_best.weights.h5\n",
      "\u001b[1m20/20\u001b[0m \u001b[32m━━━━━━━━━━━━━━━━━━━━\u001b[0m\u001b[37m\u001b[0m \u001b[1m7s\u001b[0m 337ms/step - accuracy: 0.8822 - loss: 0.3307 - val_accuracy: 0.8571 - val_loss: 0.4296\n",
      "Epoch 8/50\n",
      "\u001b[1m20/20\u001b[0m \u001b[32m━━━━━━━━━━━━━━━━━━━━\u001b[0m\u001b[37m\u001b[0m \u001b[1m0s\u001b[0m 220ms/step - accuracy: 0.9247 - loss: 0.2385\n",
      "Epoch 8: val_loss did not improve from 0.42965\n",
      "\u001b[1m20/20\u001b[0m \u001b[32m━━━━━━━━━━━━━━━━━━━━\u001b[0m\u001b[37m\u001b[0m \u001b[1m6s\u001b[0m 297ms/step - accuracy: 0.9241 - loss: 0.2399 - val_accuracy: 0.8286 - val_loss: 0.5176\n",
      "Epoch 9/50\n",
      "\u001b[1m20/20\u001b[0m \u001b[32m━━━━━━━━━━━━━━━━━━━━\u001b[0m\u001b[37m\u001b[0m \u001b[1m0s\u001b[0m 222ms/step - accuracy: 0.9448 - loss: 0.1751\n",
      "Epoch 9: val_loss did not improve from 0.42965\n",
      "\u001b[1m20/20\u001b[0m \u001b[32m━━━━━━━━━━━━━━━━━━━━\u001b[0m\u001b[37m\u001b[0m \u001b[1m6s\u001b[0m 299ms/step - accuracy: 0.9447 - loss: 0.1755 - val_accuracy: 0.8524 - val_loss: 0.4400\n",
      "Epoch 10/50\n",
      "\u001b[1m20/20\u001b[0m \u001b[32m━━━━━━━━━━━━━━━━━━━━\u001b[0m\u001b[37m\u001b[0m \u001b[1m0s\u001b[0m 223ms/step - accuracy: 0.9408 - loss: 0.1844\n",
      "Epoch 10: val_loss improved from 0.42965 to 0.35855, saving model to ./model_inceptionresnetv2_best.weights.h5\n",
      "\u001b[1m20/20\u001b[0m \u001b[32m━━━━━━━━━━━━━━━━━━━━\u001b[0m\u001b[37m\u001b[0m \u001b[1m7s\u001b[0m 339ms/step - accuracy: 0.9402 - loss: 0.1861 - val_accuracy: 0.8714 - val_loss: 0.3586\n",
      "Epoch 11/50\n",
      "\u001b[1m20/20\u001b[0m \u001b[32m━━━━━━━━━━━━━━━━━━━━\u001b[0m\u001b[37m\u001b[0m \u001b[1m0s\u001b[0m 219ms/step - accuracy: 0.9409 - loss: 0.2049\n",
      "Epoch 11: val_loss did not improve from 0.35855\n",
      "\u001b[1m20/20\u001b[0m \u001b[32m━━━━━━━━━━━━━━━━━━━━\u001b[0m\u001b[37m\u001b[0m \u001b[1m6s\u001b[0m 299ms/step - accuracy: 0.9411 - loss: 0.2043 - val_accuracy: 0.8762 - val_loss: 0.3645\n",
      "Epoch 12/50\n",
      "\u001b[1m20/20\u001b[0m \u001b[32m━━━━━━━━━━━━━━━━━━━━\u001b[0m\u001b[37m\u001b[0m \u001b[1m0s\u001b[0m 222ms/step - accuracy: 0.9561 - loss: 0.1451\n",
      "Epoch 12: val_loss improved from 0.35855 to 0.34730, saving model to ./model_inceptionresnetv2_best.weights.h5\n",
      "\u001b[1m20/20\u001b[0m \u001b[32m━━━━━━━━━━━━━━━━━━━━\u001b[0m\u001b[37m\u001b[0m \u001b[1m7s\u001b[0m 340ms/step - accuracy: 0.9565 - loss: 0.1440 - val_accuracy: 0.8714 - val_loss: 0.3473\n",
      "Epoch 13/50\n",
      "\u001b[1m20/20\u001b[0m \u001b[32m━━━━━━━━━━━━━━━━━━━━\u001b[0m\u001b[37m\u001b[0m \u001b[1m0s\u001b[0m 217ms/step - accuracy: 0.9558 - loss: 0.1664\n",
      "Epoch 13: val_loss did not improve from 0.34730\n",
      "\u001b[1m20/20\u001b[0m \u001b[32m━━━━━━━━━━━━━━━━━━━━\u001b[0m\u001b[37m\u001b[0m \u001b[1m6s\u001b[0m 294ms/step - accuracy: 0.9556 - loss: 0.1669 - val_accuracy: 0.8476 - val_loss: 0.5013\n",
      "Epoch 14/50\n",
      "\u001b[1m20/20\u001b[0m \u001b[32m━━━━━━━━━━━━━━━━━━━━\u001b[0m\u001b[37m\u001b[0m \u001b[1m0s\u001b[0m 220ms/step - accuracy: 0.9616 - loss: 0.0950\n",
      "Epoch 14: val_loss did not improve from 0.34730\n",
      "\u001b[1m20/20\u001b[0m \u001b[32m━━━━━━━━━━━━━━━━━━━━\u001b[0m\u001b[37m\u001b[0m \u001b[1m6s\u001b[0m 299ms/step - accuracy: 0.9612 - loss: 0.0963 - val_accuracy: 0.8524 - val_loss: 0.4620\n",
      "Epoch 15/50\n",
      "\u001b[1m20/20\u001b[0m \u001b[32m━━━━━━━━━━━━━━━━━━━━\u001b[0m\u001b[37m\u001b[0m \u001b[1m0s\u001b[0m 216ms/step - accuracy: 0.9687 - loss: 0.0965\n",
      "Epoch 15: val_loss did not improve from 0.34730\n",
      "\u001b[1m20/20\u001b[0m \u001b[32m━━━━━━━━━━━━━━━━━━━━\u001b[0m\u001b[37m\u001b[0m \u001b[1m6s\u001b[0m 293ms/step - accuracy: 0.9680 - loss: 0.0979 - val_accuracy: 0.8762 - val_loss: 0.3485\n",
      "Epoch 16/50\n",
      "\u001b[1m20/20\u001b[0m \u001b[32m━━━━━━━━━━━━━━━━━━━━\u001b[0m\u001b[37m\u001b[0m \u001b[1m0s\u001b[0m 223ms/step - accuracy: 0.9595 - loss: 0.1147\n",
      "Epoch 16: val_loss did not improve from 0.34730\n",
      "\u001b[1m20/20\u001b[0m \u001b[32m━━━━━━━━━━━━━━━━━━━━\u001b[0m\u001b[37m\u001b[0m \u001b[1m6s\u001b[0m 301ms/step - accuracy: 0.9589 - loss: 0.1158 - val_accuracy: 0.8381 - val_loss: 0.5052\n",
      "Epoch 17/50\n",
      "\u001b[1m20/20\u001b[0m \u001b[32m━━━━━━━━━━━━━━━━━━━━\u001b[0m\u001b[37m\u001b[0m \u001b[1m0s\u001b[0m 216ms/step - accuracy: 0.9451 - loss: 0.1822\n",
      "Epoch 17: val_loss did not improve from 0.34730\n",
      "\u001b[1m20/20\u001b[0m \u001b[32m━━━━━━━━━━━━━━━━━━━━\u001b[0m\u001b[37m\u001b[0m \u001b[1m6s\u001b[0m 294ms/step - accuracy: 0.9463 - loss: 0.1784 - val_accuracy: 0.8667 - val_loss: 0.4012\n",
      "Epoch 17: early stopping\n"
     ]
    }
   ],
   "source": [
    "# Entraînement du modèle\n",
    "model_iresnetv2, history_iressnetv2, duration_iresnetv2 = train_model(model_inceptionresnetv2, X_train_inceptionresnetv2,\n",
    "                                                                      y_train, X_val_inceptionresnetv2, y_val,\n",
    "                                                                      model_save_path=\"./model_inceptionresnetv2_best.weights.h5\")"
   ]
  },
  {
   "cell_type": "code",
   "execution_count": 22,
   "id": "03c57b95-2844-40bd-89b6-5b4fb91c796e",
   "metadata": {},
   "outputs": [
    {
     "name": "stdout",
     "output_type": "stream",
     "text": [
      "\u001b[1m20/20\u001b[0m \u001b[32m━━━━━━━━━━━━━━━━━━━━\u001b[0m\u001b[37m\u001b[0m \u001b[1m4s\u001b[0m 215ms/step - accuracy: 0.9855 - loss: 0.0421\n",
      "Training Accuracy after last epoch: 0.9857\n",
      "\n",
      "\u001b[1m7/7\u001b[0m \u001b[32m━━━━━━━━━━━━━━━━━━━━\u001b[0m\u001b[37m\u001b[0m \u001b[1m1s\u001b[0m 210ms/step - accuracy: 0.8946 - loss: 0.4400\n",
      "Test Accuracy after last epoch: 0.8905\n",
      "\n",
      "\u001b[1m7/7\u001b[0m \u001b[32m━━━━━━━━━━━━━━━━━━━━\u001b[0m\u001b[37m\u001b[0m \u001b[1m1s\u001b[0m 208ms/step - accuracy: 0.8729 - loss: 0.3341\n",
      "Validation Accuracy (best): 0.8714\n",
      "\u001b[1m7/7\u001b[0m \u001b[32m━━━━━━━━━━━━━━━━━━━━\u001b[0m\u001b[37m\u001b[0m \u001b[1m2s\u001b[0m 215ms/step - accuracy: 0.9012 - loss: 0.4070\n",
      "Test Accuracy (best): 0.8952\n",
      "\u001b[1m7/7\u001b[0m \u001b[32m━━━━━━━━━━━━━━━━━━━━\u001b[0m\u001b[37m\u001b[0m \u001b[1m1s\u001b[0m 201ms/step\n",
      "Adjusted Rand Index (ARI): 0.7907\n"
     ]
    }
   ],
   "source": [
    "# Évaluation du modèle\n",
    "loss_inceptionresnetv2, accuracy_inceptionresnetv2, ari_score_inceptionresnetv2 = evaluate_model(model_iresnetv2,\n",
    "                                                                                                 X_train_inceptionresnetv2,\n",
    "                                                                                                 y_train, X_val_inceptionresnetv2,\n",
    "                                                                                                 y_val, X_test_inceptionresnetv2,\n",
    "                                                                                                 y_test,\n",
    "                                                                                                 best_weights_path=\"./model_inceptionresnetv2_best.weights.h5\")"
   ]
  },
  {
   "cell_type": "markdown",
   "id": "de738ea6-874e-439e-bf2e-74ed405ba278",
   "metadata": {},
   "source": [
    "### DenseNet201"
   ]
  },
  {
   "cell_type": "code",
   "execution_count": 23,
   "id": "28b0ecdc-e29a-4c04-905f-82319f9c3d27",
   "metadata": {},
   "outputs": [],
   "source": [
    "# Préparation des données\n",
    "X_train_densenet201, X_val_densenet201, X_test_densenet201 = prepare_data(paths_train, paths_val, paths_test,\n",
    "                                                                          preprocess_densenet201, target_size=(224, 224, 3))\n"
   ]
  },
  {
   "cell_type": "code",
   "execution_count": 24,
   "id": "238a913f-66ac-4adc-8757-f60368ec2e8d",
   "metadata": {
    "scrolled": true
   },
   "outputs": [],
   "source": [
    "# Création du modèle\n",
    "model_densenet201 = create_model_fct(base_model_name='DenseNet201')\n"
   ]
  },
  {
   "cell_type": "code",
   "execution_count": 25,
   "id": "732d2a50-eb0c-4c12-8b9f-d5fb1d81fadc",
   "metadata": {},
   "outputs": [
    {
     "name": "stdout",
     "output_type": "stream",
     "text": [
      "Epoch 1/50\n",
      "\u001b[1m20/20\u001b[0m \u001b[32m━━━━━━━━━━━━━━━━━━━━\u001b[0m\u001b[37m\u001b[0m \u001b[1m0s\u001b[0m 1s/step - accuracy: 0.4043 - loss: 2.0317\n",
      "Epoch 1: val_loss improved from inf to 0.66266, saving model to ./model_densenet201_best.weights.h5\n",
      "\u001b[1m20/20\u001b[0m \u001b[32m━━━━━━━━━━━━━━━━━━━━\u001b[0m\u001b[37m\u001b[0m \u001b[1m31s\u001b[0m 2s/step - accuracy: 0.4122 - loss: 2.0030 - val_accuracy: 0.7571 - val_loss: 0.6627\n",
      "Epoch 2/50\n",
      "\u001b[1m20/20\u001b[0m \u001b[32m━━━━━━━━━━━━━━━━━━━━\u001b[0m\u001b[37m\u001b[0m \u001b[1m0s\u001b[0m 1s/step - accuracy: 0.8327 - loss: 0.5971\n",
      "Epoch 2: val_loss improved from 0.66266 to 0.61136, saving model to ./model_densenet201_best.weights.h5\n",
      "\u001b[1m20/20\u001b[0m \u001b[32m━━━━━━━━━━━━━━━━━━━━\u001b[0m\u001b[37m\u001b[0m \u001b[1m33s\u001b[0m 2s/step - accuracy: 0.8326 - loss: 0.5962 - val_accuracy: 0.7857 - val_loss: 0.6114\n",
      "Epoch 3/50\n",
      "\u001b[1m20/20\u001b[0m \u001b[32m━━━━━━━━━━━━━━━━━━━━\u001b[0m\u001b[37m\u001b[0m \u001b[1m0s\u001b[0m 1s/step - accuracy: 0.8688 - loss: 0.4207\n",
      "Epoch 3: val_loss improved from 0.61136 to 0.50150, saving model to ./model_densenet201_best.weights.h5\n",
      "\u001b[1m20/20\u001b[0m \u001b[32m━━━━━━━━━━━━━━━━━━━━\u001b[0m\u001b[37m\u001b[0m \u001b[1m35s\u001b[0m 2s/step - accuracy: 0.8681 - loss: 0.4222 - val_accuracy: 0.8333 - val_loss: 0.5015\n",
      "Epoch 4/50\n",
      "\u001b[1m20/20\u001b[0m \u001b[32m━━━━━━━━━━━━━━━━━━━━\u001b[0m\u001b[37m\u001b[0m \u001b[1m0s\u001b[0m 1s/step - accuracy: 0.8897 - loss: 0.3833\n",
      "Epoch 4: val_loss did not improve from 0.50150\n",
      "\u001b[1m20/20\u001b[0m \u001b[32m━━━━━━━━━━━━━━━━━━━━\u001b[0m\u001b[37m\u001b[0m \u001b[1m36s\u001b[0m 2s/step - accuracy: 0.8896 - loss: 0.3819 - val_accuracy: 0.8381 - val_loss: 0.5056\n",
      "Epoch 5/50\n",
      "\u001b[1m20/20\u001b[0m \u001b[32m━━━━━━━━━━━━━━━━━━━━\u001b[0m\u001b[37m\u001b[0m \u001b[1m0s\u001b[0m 1s/step - accuracy: 0.9335 - loss: 0.2589\n",
      "Epoch 5: val_loss did not improve from 0.50150\n",
      "\u001b[1m20/20\u001b[0m \u001b[32m━━━━━━━━━━━━━━━━━━━━\u001b[0m\u001b[37m\u001b[0m \u001b[1m33s\u001b[0m 2s/step - accuracy: 0.9329 - loss: 0.2593 - val_accuracy: 0.8286 - val_loss: 0.5397\n",
      "Epoch 6/50\n",
      "\u001b[1m20/20\u001b[0m \u001b[32m━━━━━━━━━━━━━━━━━━━━\u001b[0m\u001b[37m\u001b[0m \u001b[1m0s\u001b[0m 1s/step - accuracy: 0.9330 - loss: 0.2118\n",
      "Epoch 6: val_loss did not improve from 0.50150\n",
      "\u001b[1m20/20\u001b[0m \u001b[32m━━━━━━━━━━━━━━━━━━━━\u001b[0m\u001b[37m\u001b[0m \u001b[1m34s\u001b[0m 2s/step - accuracy: 0.9335 - loss: 0.2114 - val_accuracy: 0.8238 - val_loss: 0.5756\n",
      "Epoch 7/50\n",
      "\u001b[1m20/20\u001b[0m \u001b[32m━━━━━━━━━━━━━━━━━━━━\u001b[0m\u001b[37m\u001b[0m \u001b[1m0s\u001b[0m 1s/step - accuracy: 0.9391 - loss: 0.1570\n",
      "Epoch 7: val_loss did not improve from 0.50150\n",
      "\u001b[1m20/20\u001b[0m \u001b[32m━━━━━━━━━━━━━━━━━━━━\u001b[0m\u001b[37m\u001b[0m \u001b[1m35s\u001b[0m 2s/step - accuracy: 0.9395 - loss: 0.1580 - val_accuracy: 0.8381 - val_loss: 0.5439\n",
      "Epoch 8/50\n",
      "\u001b[1m20/20\u001b[0m \u001b[32m━━━━━━━━━━━━━━━━━━━━\u001b[0m\u001b[37m\u001b[0m \u001b[1m0s\u001b[0m 1s/step - accuracy: 0.9654 - loss: 0.1403\n",
      "Epoch 8: val_loss improved from 0.50150 to 0.49407, saving model to ./model_densenet201_best.weights.h5\n",
      "\u001b[1m20/20\u001b[0m \u001b[32m━━━━━━━━━━━━━━━━━━━━\u001b[0m\u001b[37m\u001b[0m \u001b[1m33s\u001b[0m 2s/step - accuracy: 0.9651 - loss: 0.1407 - val_accuracy: 0.8333 - val_loss: 0.4941\n",
      "Epoch 9/50\n",
      "\u001b[1m20/20\u001b[0m \u001b[32m━━━━━━━━━━━━━━━━━━━━\u001b[0m\u001b[37m\u001b[0m \u001b[1m0s\u001b[0m 1s/step - accuracy: 0.9802 - loss: 0.0894\n",
      "Epoch 9: val_loss did not improve from 0.49407\n",
      "\u001b[1m20/20\u001b[0m \u001b[32m━━━━━━━━━━━━━━━━━━━━\u001b[0m\u001b[37m\u001b[0m \u001b[1m35s\u001b[0m 2s/step - accuracy: 0.9795 - loss: 0.0903 - val_accuracy: 0.8000 - val_loss: 0.7414\n",
      "Epoch 10/50\n",
      "\u001b[1m20/20\u001b[0m \u001b[32m━━━━━━━━━━━━━━━━━━━━\u001b[0m\u001b[37m\u001b[0m \u001b[1m0s\u001b[0m 1s/step - accuracy: 0.9443 - loss: 0.1608\n",
      "Epoch 10: val_loss did not improve from 0.49407\n",
      "\u001b[1m20/20\u001b[0m \u001b[32m━━━━━━━━━━━━━━━━━━━━\u001b[0m\u001b[37m\u001b[0m \u001b[1m33s\u001b[0m 2s/step - accuracy: 0.9453 - loss: 0.1584 - val_accuracy: 0.8238 - val_loss: 0.5515\n",
      "Epoch 11/50\n",
      "\u001b[1m20/20\u001b[0m \u001b[32m━━━━━━━━━━━━━━━━━━━━\u001b[0m\u001b[37m\u001b[0m \u001b[1m0s\u001b[0m 1s/step - accuracy: 0.9794 - loss: 0.0744\n",
      "Epoch 11: val_loss did not improve from 0.49407\n",
      "\u001b[1m20/20\u001b[0m \u001b[32m━━━━━━━━━━━━━━━━━━━━\u001b[0m\u001b[37m\u001b[0m \u001b[1m35s\u001b[0m 2s/step - accuracy: 0.9795 - loss: 0.0743 - val_accuracy: 0.8524 - val_loss: 0.5948\n",
      "Epoch 12/50\n",
      "\u001b[1m20/20\u001b[0m \u001b[32m━━━━━━━━━━━━━━━━━━━━\u001b[0m\u001b[37m\u001b[0m \u001b[1m0s\u001b[0m 1s/step - accuracy: 0.9868 - loss: 0.0546\n",
      "Epoch 12: val_loss did not improve from 0.49407\n",
      "\u001b[1m20/20\u001b[0m \u001b[32m━━━━━━━━━━━━━━━━━━━━\u001b[0m\u001b[37m\u001b[0m \u001b[1m34s\u001b[0m 2s/step - accuracy: 0.9863 - loss: 0.0555 - val_accuracy: 0.8190 - val_loss: 0.7091\n",
      "Epoch 13/50\n",
      "\u001b[1m20/20\u001b[0m \u001b[32m━━━━━━━━━━━━━━━━━━━━\u001b[0m\u001b[37m\u001b[0m \u001b[1m0s\u001b[0m 1s/step - accuracy: 0.9879 - loss: 0.0590\n",
      "Epoch 13: val_loss did not improve from 0.49407\n",
      "\u001b[1m20/20\u001b[0m \u001b[32m━━━━━━━━━━━━━━━━━━━━\u001b[0m\u001b[37m\u001b[0m \u001b[1m34s\u001b[0m 2s/step - accuracy: 0.9881 - loss: 0.0585 - val_accuracy: 0.8238 - val_loss: 0.6378\n",
      "Epoch 13: early stopping\n"
     ]
    }
   ],
   "source": [
    "# Entraînement du modèle\n",
    "model_densenet201, history_densenet201, duration_densenet201 = train_model(model_densenet201, X_train_densenet201, y_train,\n",
    "                                                                           X_val_densenet201, y_val,\n",
    "                                                                           model_save_path=\"./model_densenet201_best.weights.h5\")\n"
   ]
  },
  {
   "cell_type": "code",
   "execution_count": 26,
   "id": "41f25fb0-8191-474b-88a5-2ad4bf309a37",
   "metadata": {},
   "outputs": [
    {
     "name": "stdout",
     "output_type": "stream",
     "text": [
      "\u001b[1m20/20\u001b[0m \u001b[32m━━━━━━━━━━━━━━━━━━━━\u001b[0m\u001b[37m\u001b[0m \u001b[1m26s\u001b[0m 1s/step - accuracy: 0.9988 - loss: 0.0078\n",
      "Training Accuracy after last epoch: 0.9984\n",
      "\n",
      "\u001b[1m7/7\u001b[0m \u001b[32m━━━━━━━━━━━━━━━━━━━━\u001b[0m\u001b[37m\u001b[0m \u001b[1m8s\u001b[0m 1s/step - accuracy: 0.8743 - loss: 0.5096\n",
      "Test Accuracy after last epoch: 0.8762\n",
      "\n",
      "\u001b[1m7/7\u001b[0m \u001b[32m━━━━━━━━━━━━━━━━━━━━\u001b[0m\u001b[37m\u001b[0m \u001b[1m8s\u001b[0m 1s/step - accuracy: 0.8285 - loss: 0.5545\n",
      "Validation Accuracy (best): 0.8333\n",
      "\u001b[1m7/7\u001b[0m \u001b[32m━━━━━━━━━━━━━━━━━━━━\u001b[0m\u001b[37m\u001b[0m \u001b[1m8s\u001b[0m 1s/step - accuracy: 0.8761 - loss: 0.4591\n",
      "Test Accuracy (best): 0.8762\n",
      "\u001b[1m7/7\u001b[0m \u001b[32m━━━━━━━━━━━━━━━━━━━━\u001b[0m\u001b[37m\u001b[0m \u001b[1m8s\u001b[0m 1s/step\n",
      "Adjusted Rand Index (ARI): 0.7367\n"
     ]
    }
   ],
   "source": [
    "# Évaluation du modèle\n",
    "loss_densenet201, accuracy_densenet201, ari_score_densenet201 = evaluate_model(model_densenet201, X_train_densenet201,\n",
    "                                                                               y_train, X_val_densenet201,\n",
    "                                                                                y_val, X_test_densenet201, y_test,\n",
    "                                                                               best_weights_path=\"./model_densenet201_best.weights.h5\")"
   ]
  },
  {
   "cell_type": "markdown",
   "id": "50e99361-c715-4afa-853e-222ed27935b2",
   "metadata": {},
   "source": [
    "### Comparaison des résultats"
   ]
  },
  {
   "cell_type": "code",
   "execution_count": 27,
   "id": "9882c8c9-2fcf-4a83-be74-0a6012d0d1df",
   "metadata": {},
   "outputs": [],
   "source": [
    "# Initialisation de la liste pour stocker les résultats\n",
    "data_results = []\n",
    "\n",
    "# Fonction pour ajouter les résultats d'un modèle au DataFrame\n",
    "def add_results(model_name, loss, accuracy, ari_score, duration):\n",
    "    metrics = ['Loss', 'Accuracy', 'Adjusted Rand Score', 'Duration (en heures)']\n",
    "    scores = [loss, accuracy, ari_score, (duration/3600)]\n",
    "    for metric, score in zip(metrics, scores):\n",
    "        data_results.append({\n",
    "            'Model': model_name,\n",
    "            'Metric': metric,\n",
    "            'Score': score\n",
    "        })"
   ]
  },
  {
   "cell_type": "code",
   "execution_count": 28,
   "id": "ec292a92-295a-4ff5-b03b-b2d3af07a9ec",
   "metadata": {},
   "outputs": [],
   "source": [
    "add_results('VGG16', loss_vgg16, accuracy_vgg16, ari_score_vgg16, duration_vgg16)\n",
    "add_results('InceptionResNetV2', loss_inceptionresnetv2, accuracy_inceptionresnetv2, ari_score_inceptionresnetv2, duration_iresnetv2)\n",
    "add_results('DenseNet201', loss_densenet201, accuracy_densenet201, ari_score_densenet201, duration_densenet201)\n",
    "\n",
    "data_metrics = pd.DataFrame(data_results)"
   ]
  },
  {
   "cell_type": "code",
   "execution_count": 29,
   "id": "a03348a5-74cb-4938-b88f-1ec17eb869d1",
   "metadata": {},
   "outputs": [
    {
     "data": {
      "image/png": "[encoded data removed]",
      "text/plain": [
       "<Figure size 1200x800 with 1 Axes>"
      ]
     },
     "metadata": {},
     "output_type": "display_data"
    }
   ],
   "source": [
    "plot_model_performance(data_metrics)"
   ]
  },
  {
   "cell_type": "markdown",
   "id": "7feb95ce-bd7a-47f6-8b03-99be68d198cc",
   "metadata": {},
   "source": [
    "# Optimisation"
   ]
  },
  {
   "cell_type": "markdown",
   "id": "cbccf6d0-9182-49b2-992c-7bc576e52011",
   "metadata": {},
   "source": [
    "## Hyper paramètres"
   ]
  },
  {
   "cell_type": "code",
   "execution_count": 30,
   "id": "02b4a482-d159-4fc0-81ae-26fe35326e94",
   "metadata": {},
   "outputs": [
    {
     "name": "stdout",
     "output_type": "stream",
     "text": [
      "Testing with learning_rate=0.01, batch_size=16, epochs=50\n",
      "Epoch 18: early stopping\n",
      "Restoring model weights from the end of the best epoch: 13.\n",
      "Finished 0.01, 16 with val_accuracy=0.8761904835700989, duration=476.5280828475952\n",
      "Testing with learning_rate=0.01, batch_size=32, epochs=50\n",
      "Epoch 7: early stopping\n",
      "Restoring model weights from the end of the best epoch: 2.\n",
      "Finished 0.01, 32 with val_accuracy=0.8857142925262451, duration=64.1576497554779\n",
      "Testing with learning_rate=0.01, batch_size=64, epochs=50\n",
      "Epoch 5: early stopping\n",
      "Restoring model weights from the end of the best epoch: 1.\n",
      "Finished 0.01, 64 with val_accuracy=0.8761904835700989, duration=271.30894470214844\n",
      "Testing with learning_rate=0.001, batch_size=16, epochs=50\n",
      "Epoch 5: early stopping\n",
      "Restoring model weights from the end of the best epoch: 1.\n",
      "Finished 0.001, 16 with val_accuracy=0.8904761672019958, duration=163.75901079177856\n",
      "Testing with learning_rate=0.001, batch_size=32, epochs=50\n",
      "Epoch 5: early stopping\n",
      "Restoring model weights from the end of the best epoch: 1.\n",
      "Finished 0.001, 32 with val_accuracy=0.8761904835700989, duration=186.40893840789795\n",
      "Testing with learning_rate=0.001, batch_size=64, epochs=50\n",
      "Epoch 5: early stopping\n",
      "Restoring model weights from the end of the best epoch: 1.\n",
      "Finished 0.001, 64 with val_accuracy=0.8904761672019958, duration=272.5032711029053\n",
      "Best parameters: {'learning_rate': 0.001, 'batch_size': 16, 'epochs': 5}\n"
     ]
    }
   ],
   "source": [
    "# Entraînement du modèle\n",
    "best_model, duration_best = test_hyperparameters(model_inceptionresnetv2, X_train_inceptionresnetv2, y_train, X_val_inceptionresnetv2,\n",
    "                                                 y_val, \"./model_best.weights.h5\")"
   ]
  },
  {
   "cell_type": "code",
   "execution_count": 31,
   "id": "9a10ade4-380a-423e-b2e7-1e60293c9f59",
   "metadata": {},
   "outputs": [
    {
     "name": "stdout",
     "output_type": "stream",
     "text": [
      "\u001b[1m7/7\u001b[0m \u001b[32m━━━━━━━━━━━━━━━━━━━━\u001b[0m\u001b[37m\u001b[0m \u001b[1m9s\u001b[0m 1s/step - accuracy: 0.8823 - loss: 0.6026\n",
      "Validation Accuracy (best): 0.8810\n",
      "\u001b[1m7/7\u001b[0m \u001b[32m━━━━━━━━━━━━━━━━━━━━\u001b[0m\u001b[37m\u001b[0m \u001b[1m9s\u001b[0m 1s/step - accuracy: 0.8971 - loss: 0.5710\n",
      "Test Accuracy (best): 0.8905\n",
      "\u001b[1m7/7\u001b[0m \u001b[32m━━━━━━━━━━━━━━━━━━━━\u001b[0m\u001b[37m\u001b[0m \u001b[1m9s\u001b[0m 1s/step\n",
      "Adjusted Rand Index (ARI): 0.7766\n"
     ]
    }
   ],
   "source": [
    "# Évaluation du modèle\n",
    "loss_best, accuracy_best, ari_score_best = evaluate_model(best_model,\n",
    "                                                          X_train_inceptionresnetv2,\n",
    "                                                          y_train, X_val_inceptionresnetv2,\n",
    "                                                          y_val, X_test_inceptionresnetv2,\n",
    "                                                          y_test, best_weights_path=\"none\")"
   ]
  },
  {
   "cell_type": "code",
   "execution_count": 32,
   "id": "5252398d-eed7-4bea-b8aa-228b7e5472ec",
   "metadata": {},
   "outputs": [],
   "source": [
    "add_results('InceptionResNetV2(HP)', loss_best, accuracy_best, ari_score_best, duration_best)\n",
    "data_metrics = pd.DataFrame(data_results)"
   ]
  },
  {
   "cell_type": "code",
   "execution_count": 33,
   "id": "f5368552-dae5-4bd7-895d-3d10ff759edc",
   "metadata": {},
   "outputs": [
    {
     "data": {
      "text/html": [
       "<div>\n",
       "<style scoped>\n",
       "    .dataframe tbody tr th:only-of-type {\n",
       "        vertical-align: middle;\n",
       "    }\n",
       "\n",
       "    .dataframe tbody tr th {\n",
       "        vertical-align: top;\n",
       "    }\n",
       "\n",
       "    .dataframe thead th {\n",
       "        text-align: right;\n",
       "    }\n",
       "</style>\n",
       "<table border=\"1\" class=\"dataframe\">\n",
       "  <thead>\n",
       "    <tr style=\"text-align: right;\">\n",
       "      <th></th>\n",
       "      <th>Model</th>\n",
       "      <th>Metric</th>\n",
       "      <th>Score</th>\n",
       "    </tr>\n",
       "  </thead>\n",
       "  <tbody>\n",
       "    <tr>\n",
       "      <th>0</th>\n",
       "      <td>VGG16</td>\n",
       "      <td>Loss</td>\n",
       "      <td>0.768992</td>\n",
       "    </tr>\n",
       "    <tr>\n",
       "      <th>1</th>\n",
       "      <td>VGG16</td>\n",
       "      <td>Accuracy</td>\n",
       "      <td>0.814286</td>\n",
       "    </tr>\n",
       "    <tr>\n",
       "      <th>2</th>\n",
       "      <td>VGG16</td>\n",
       "      <td>Adjusted Rand Score</td>\n",
       "      <td>0.634113</td>\n",
       "    </tr>\n",
       "    <tr>\n",
       "      <th>3</th>\n",
       "      <td>VGG16</td>\n",
       "      <td>Duration (en heures)</td>\n",
       "      <td>0.012481</td>\n",
       "    </tr>\n",
       "    <tr>\n",
       "      <th>4</th>\n",
       "      <td>InceptionResNetV2</td>\n",
       "      <td>Loss</td>\n",
       "      <td>0.462991</td>\n",
       "    </tr>\n",
       "    <tr>\n",
       "      <th>5</th>\n",
       "      <td>InceptionResNetV2</td>\n",
       "      <td>Accuracy</td>\n",
       "      <td>0.895238</td>\n",
       "    </tr>\n",
       "    <tr>\n",
       "      <th>6</th>\n",
       "      <td>InceptionResNetV2</td>\n",
       "      <td>Adjusted Rand Score</td>\n",
       "      <td>0.790696</td>\n",
       "    </tr>\n",
       "    <tr>\n",
       "      <th>7</th>\n",
       "      <td>InceptionResNetV2</td>\n",
       "      <td>Duration (en heures)</td>\n",
       "      <td>0.029298</td>\n",
       "    </tr>\n",
       "    <tr>\n",
       "      <th>8</th>\n",
       "      <td>DenseNet201</td>\n",
       "      <td>Loss</td>\n",
       "      <td>0.473116</td>\n",
       "    </tr>\n",
       "    <tr>\n",
       "      <th>9</th>\n",
       "      <td>DenseNet201</td>\n",
       "      <td>Accuracy</td>\n",
       "      <td>0.876190</td>\n",
       "    </tr>\n",
       "    <tr>\n",
       "      <th>10</th>\n",
       "      <td>DenseNet201</td>\n",
       "      <td>Adjusted Rand Score</td>\n",
       "      <td>0.736671</td>\n",
       "    </tr>\n",
       "    <tr>\n",
       "      <th>11</th>\n",
       "      <td>DenseNet201</td>\n",
       "      <td>Duration (en heures)</td>\n",
       "      <td>0.122244</td>\n",
       "    </tr>\n",
       "    <tr>\n",
       "      <th>12</th>\n",
       "      <td>InceptionResNetV2(HP)</td>\n",
       "      <td>Loss</td>\n",
       "      <td>0.680225</td>\n",
       "    </tr>\n",
       "    <tr>\n",
       "      <th>13</th>\n",
       "      <td>InceptionResNetV2(HP)</td>\n",
       "      <td>Accuracy</td>\n",
       "      <td>0.890476</td>\n",
       "    </tr>\n",
       "    <tr>\n",
       "      <th>14</th>\n",
       "      <td>InceptionResNetV2(HP)</td>\n",
       "      <td>Adjusted Rand Score</td>\n",
       "      <td>0.776589</td>\n",
       "    </tr>\n",
       "    <tr>\n",
       "      <th>15</th>\n",
       "      <td>InceptionResNetV2(HP)</td>\n",
       "      <td>Duration (en heures)</td>\n",
       "      <td>0.045489</td>\n",
       "    </tr>\n",
       "  </tbody>\n",
       "</table>\n",
       "</div>"
      ],
      "text/plain": [
       "                    Model                Metric     Score\n",
       "0                   VGG16                  Loss  0.768992\n",
       "1                   VGG16              Accuracy  0.814286\n",
       "2                   VGG16   Adjusted Rand Score  0.634113\n",
       "3                   VGG16  Duration (en heures)  0.012481\n",
       "4       InceptionResNetV2                  Loss  0.462991\n",
       "5       InceptionResNetV2              Accuracy  0.895238\n",
       "6       InceptionResNetV2   Adjusted Rand Score  0.790696\n",
       "7       InceptionResNetV2  Duration (en heures)  0.029298\n",
       "8             DenseNet201                  Loss  0.473116\n",
       "9             DenseNet201              Accuracy  0.876190\n",
       "10            DenseNet201   Adjusted Rand Score  0.736671\n",
       "11            DenseNet201  Duration (en heures)  0.122244\n",
       "12  InceptionResNetV2(HP)                  Loss  0.680225\n",
       "13  InceptionResNetV2(HP)              Accuracy  0.890476\n",
       "14  InceptionResNetV2(HP)   Adjusted Rand Score  0.776589\n",
       "15  InceptionResNetV2(HP)  Duration (en heures)  0.045489"
      ]
     },
     "execution_count": 33,
     "metadata": {},
     "output_type": "execute_result"
    }
   ],
   "source": [
    "data_metrics"
   ]
  },
  {
   "cell_type": "code",
   "execution_count": 34,
   "id": "6889bfdb-3e17-408b-8f17-ca6f5cc9ee3b",
   "metadata": {},
   "outputs": [
    {
     "data": {
      "image/png": "[encoded data removed]",
      "text/plain": [
       "<Figure size 1200x800 with 1 Axes>"
      ]
     },
     "metadata": {},
     "output_type": "display_data"
    }
   ],
   "source": [
    "plot_model_performance(data_metrics)"
   ]
  },
  {
   "cell_type": "markdown",
   "id": "c315c260-a1ae-4a45-9a18-d32dde463c6b",
   "metadata": {},
   "source": [
    "## Data Augmentation"
   ]
  },
  {
   "cell_type": "markdown",
   "id": "fd1c795c-bd20-466b-8967-b6c506dbae72",
   "metadata": {},
   "source": [
    "### ImageDataGenerator"
   ]
  },
  {
   "cell_type": "code",
   "execution_count": 44,
   "id": "284c7a6c-e762-469d-a458-94594f5bb35f",
   "metadata": {},
   "outputs": [],
   "source": [
    "# Préparez les générateurs avec la data augmentation\n",
    "train_generator, validation_generator = prepare_augmented_data(X_train_inceptionresnetv2, y_train, X_val_inceptionresnetv2, y_val)\n"
   ]
  },
  {
   "cell_type": "code",
   "execution_count": 45,
   "id": "543ee2a8-3a65-4061-bc5b-1b86286048f5",
   "metadata": {},
   "outputs": [
    {
     "name": "stderr",
     "output_type": "stream",
     "text": [
      "C:\\Users\\estel\\anaconda3\\envs\\OC\\Lib\\site-packages\\keras\\src\\trainers\\data_adapters\\py_dataset_adapter.py:121: UserWarning: Your `PyDataset` class should call `super().__init__(**kwargs)` in its constructor. `**kwargs` can include `workers`, `use_multiprocessing`, `max_queue_size`. Do not pass these arguments to `fit()`, as they will be ignored.\n",
      "  self._warn_if_super_not_called()\n"
     ]
    },
    {
     "name": "stdout",
     "output_type": "stream",
     "text": [
      "Epoch 1/50\n",
      "\u001b[1m20/20\u001b[0m \u001b[32m━━━━━━━━━━━━━━━━━━━━\u001b[0m\u001b[37m\u001b[0m \u001b[1m0s\u001b[0m 2s/step - accuracy: 0.1401 - loss: 3.3122\n",
      "Epoch 1: val_loss improved from inf to 1.97624, saving model to ./model_augmented_data_best.weights.h5\n",
      "\u001b[1m20/20\u001b[0m \u001b[32m━━━━━━━━━━━━━━━━━━━━\u001b[0m\u001b[37m\u001b[0m \u001b[1m45s\u001b[0m 2s/step - accuracy: 0.1410 - loss: 3.2878 - val_accuracy: 0.1476 - val_loss: 1.9762\n",
      "Epoch 2/50\n",
      "\u001b[1m20/20\u001b[0m \u001b[32m━━━━━━━━━━━━━━━━━━━━\u001b[0m\u001b[37m\u001b[0m \u001b[1m0s\u001b[0m 2s/step - accuracy: 0.1564 - loss: 2.1358\n",
      "Epoch 2: val_loss improved from 1.97624 to 1.91071, saving model to ./model_augmented_data_best.weights.h5\n",
      "\u001b[1m20/20\u001b[0m \u001b[32m━━━━━━━━━━━━━━━━━━━━\u001b[0m\u001b[37m\u001b[0m \u001b[1m45s\u001b[0m 2s/step - accuracy: 0.1570 - loss: 2.1329 - val_accuracy: 0.2238 - val_loss: 1.9107\n",
      "Epoch 3/50\n",
      "\u001b[1m20/20\u001b[0m \u001b[32m━━━━━━━━━━━━━━━━━━━━\u001b[0m\u001b[37m\u001b[0m \u001b[1m0s\u001b[0m 2s/step - accuracy: 0.1653 - loss: 1.9471\n",
      "Epoch 3: val_loss improved from 1.91071 to 1.90999, saving model to ./model_augmented_data_best.weights.h5\n",
      "\u001b[1m20/20\u001b[0m \u001b[32m━━━━━━━━━━━━━━━━━━━━\u001b[0m\u001b[37m\u001b[0m \u001b[1m45s\u001b[0m 2s/step - accuracy: 0.1660 - loss: 1.9470 - val_accuracy: 0.2333 - val_loss: 1.9100\n",
      "Epoch 4/50\n",
      "\u001b[1m20/20\u001b[0m \u001b[32m━━━━━━━━━━━━━━━━━━━━\u001b[0m\u001b[37m\u001b[0m \u001b[1m0s\u001b[0m 2s/step - accuracy: 0.1952 - loss: 1.9342\n",
      "Epoch 4: val_loss improved from 1.90999 to 1.88493, saving model to ./model_augmented_data_best.weights.h5\n",
      "\u001b[1m20/20\u001b[0m \u001b[32m━━━━━━━━━━━━━━━━━━━━\u001b[0m\u001b[37m\u001b[0m \u001b[1m48s\u001b[0m 2s/step - accuracy: 0.1950 - loss: 1.9341 - val_accuracy: 0.2190 - val_loss: 1.8849\n",
      "Epoch 5/50\n",
      "\u001b[1m20/20\u001b[0m \u001b[32m━━━━━━━━━━━━━━━━━━━━\u001b[0m\u001b[37m\u001b[0m \u001b[1m0s\u001b[0m 2s/step - accuracy: 0.1648 - loss: 1.9270\n",
      "Epoch 5: val_loss did not improve from 1.88493\n",
      "\u001b[1m20/20\u001b[0m \u001b[32m━━━━━━━━━━━━━━━━━━━━\u001b[0m\u001b[37m\u001b[0m \u001b[1m44s\u001b[0m 2s/step - accuracy: 0.1655 - loss: 1.9270 - val_accuracy: 0.2429 - val_loss: 1.9013\n",
      "Epoch 6/50\n",
      "\u001b[1m20/20\u001b[0m \u001b[32m━━━━━━━━━━━━━━━━━━━━\u001b[0m\u001b[37m\u001b[0m \u001b[1m0s\u001b[0m 2s/step - accuracy: 0.2314 - loss: 1.8918\n",
      "Epoch 6: val_loss improved from 1.88493 to 1.87781, saving model to ./model_augmented_data_best.weights.h5\n",
      "\u001b[1m20/20\u001b[0m \u001b[32m━━━━━━━━━━━━━━━━━━━━\u001b[0m\u001b[37m\u001b[0m \u001b[1m45s\u001b[0m 2s/step - accuracy: 0.2315 - loss: 1.8916 - val_accuracy: 0.2619 - val_loss: 1.8778\n",
      "Epoch 7/50\n",
      "\u001b[1m20/20\u001b[0m \u001b[32m━━━━━━━━━━━━━━━━━━━━\u001b[0m\u001b[37m\u001b[0m \u001b[1m0s\u001b[0m 2s/step - accuracy: 0.1902 - loss: 1.8974\n",
      "Epoch 7: val_loss did not improve from 1.87781\n",
      "\u001b[1m20/20\u001b[0m \u001b[32m━━━━━━━━━━━━━━━━━━━━\u001b[0m\u001b[37m\u001b[0m \u001b[1m44s\u001b[0m 2s/step - accuracy: 0.1903 - loss: 1.8975 - val_accuracy: 0.2714 - val_loss: 1.8788\n",
      "Epoch 8/50\n",
      "\u001b[1m20/20\u001b[0m \u001b[32m━━━━━━━━━━━━━━━━━━━━\u001b[0m\u001b[37m\u001b[0m \u001b[1m0s\u001b[0m 2s/step - accuracy: 0.2130 - loss: 1.9086\n",
      "Epoch 8: val_loss improved from 1.87781 to 1.86757, saving model to ./model_augmented_data_best.weights.h5\n",
      "\u001b[1m20/20\u001b[0m \u001b[32m━━━━━━━━━━━━━━━━━━━━\u001b[0m\u001b[37m\u001b[0m \u001b[1m45s\u001b[0m 2s/step - accuracy: 0.2130 - loss: 1.9083 - val_accuracy: 0.2619 - val_loss: 1.8676\n",
      "Epoch 9/50\n",
      "\u001b[1m20/20\u001b[0m \u001b[32m━━━━━━━━━━━━━━━━━━━━\u001b[0m\u001b[37m\u001b[0m \u001b[1m0s\u001b[0m 2s/step - accuracy: 0.2263 - loss: 1.8855\n",
      "Epoch 9: val_loss did not improve from 1.86757\n",
      "\u001b[1m20/20\u001b[0m \u001b[32m━━━━━━━━━━━━━━━━━━━━\u001b[0m\u001b[37m\u001b[0m \u001b[1m44s\u001b[0m 2s/step - accuracy: 0.2256 - loss: 1.8853 - val_accuracy: 0.2571 - val_loss: 1.8703\n",
      "Epoch 10/50\n",
      "\u001b[1m20/20\u001b[0m \u001b[32m━━━━━━━━━━━━━━━━━━━━\u001b[0m\u001b[37m\u001b[0m \u001b[1m0s\u001b[0m 2s/step - accuracy: 0.2233 - loss: 1.8712\n",
      "Epoch 10: val_loss improved from 1.86757 to 1.85174, saving model to ./model_augmented_data_best.weights.h5\n",
      "\u001b[1m20/20\u001b[0m \u001b[32m━━━━━━━━━━━━━━━━━━━━\u001b[0m\u001b[37m\u001b[0m \u001b[1m46s\u001b[0m 2s/step - accuracy: 0.2231 - loss: 1.8716 - val_accuracy: 0.2429 - val_loss: 1.8517\n",
      "Epoch 11/50\n",
      "\u001b[1m20/20\u001b[0m \u001b[32m━━━━━━━━━━━━━━━━━━━━\u001b[0m\u001b[37m\u001b[0m \u001b[1m0s\u001b[0m 2s/step - accuracy: 0.1943 - loss: 1.8712\n",
      "Epoch 11: val_loss did not improve from 1.85174\n",
      "\u001b[1m20/20\u001b[0m \u001b[32m━━━━━━━━━━━━━━━━━━━━\u001b[0m\u001b[37m\u001b[0m \u001b[1m44s\u001b[0m 2s/step - accuracy: 0.1954 - loss: 1.8716 - val_accuracy: 0.2571 - val_loss: 1.8584\n",
      "Epoch 12/50\n",
      "\u001b[1m20/20\u001b[0m \u001b[32m━━━━━━━━━━━━━━━━━━━━\u001b[0m\u001b[37m\u001b[0m \u001b[1m0s\u001b[0m 2s/step - accuracy: 0.2051 - loss: 1.8897\n",
      "Epoch 12: val_loss improved from 1.85174 to 1.84978, saving model to ./model_augmented_data_best.weights.h5\n",
      "\u001b[1m20/20\u001b[0m \u001b[32m━━━━━━━━━━━━━━━━━━━━\u001b[0m\u001b[37m\u001b[0m \u001b[1m45s\u001b[0m 2s/step - accuracy: 0.2063 - loss: 1.8888 - val_accuracy: 0.2667 - val_loss: 1.8498\n",
      "Epoch 13/50\n",
      "\u001b[1m20/20\u001b[0m \u001b[32m━━━━━━━━━━━━━━━━━━━━\u001b[0m\u001b[37m\u001b[0m \u001b[1m0s\u001b[0m 2s/step - accuracy: 0.2602 - loss: 1.8209\n",
      "Epoch 13: val_loss improved from 1.84978 to 1.84030, saving model to ./model_augmented_data_best.weights.h5\n",
      "\u001b[1m20/20\u001b[0m \u001b[32m━━━━━━━━━━━━━━━━━━━━\u001b[0m\u001b[37m\u001b[0m \u001b[1m45s\u001b[0m 2s/step - accuracy: 0.2599 - loss: 1.8225 - val_accuracy: 0.2714 - val_loss: 1.8403\n",
      "Epoch 14/50\n",
      "\u001b[1m20/20\u001b[0m \u001b[32m━━━━━━━━━━━━━━━━━━━━\u001b[0m\u001b[37m\u001b[0m \u001b[1m0s\u001b[0m 2s/step - accuracy: 0.2353 - loss: 1.8838\n",
      "Epoch 14: val_loss improved from 1.84030 to 1.82402, saving model to ./model_augmented_data_best.weights.h5\n",
      "\u001b[1m20/20\u001b[0m \u001b[32m━━━━━━━━━━━━━━━━━━━━\u001b[0m\u001b[37m\u001b[0m \u001b[1m45s\u001b[0m 2s/step - accuracy: 0.2357 - loss: 1.8834 - val_accuracy: 0.3048 - val_loss: 1.8240\n",
      "Epoch 15/50\n",
      "\u001b[1m20/20\u001b[0m \u001b[32m━━━━━━━━━━━━━━━━━━━━\u001b[0m\u001b[37m\u001b[0m \u001b[1m0s\u001b[0m 2s/step - accuracy: 0.2489 - loss: 1.8659\n",
      "Epoch 15: val_loss improved from 1.82402 to 1.81707, saving model to ./model_augmented_data_best.weights.h5\n",
      "\u001b[1m20/20\u001b[0m \u001b[32m━━━━━━━━━━━━━━━━━━━━\u001b[0m\u001b[37m\u001b[0m \u001b[1m45s\u001b[0m 2s/step - accuracy: 0.2477 - loss: 1.8654 - val_accuracy: 0.2857 - val_loss: 1.8171\n",
      "Epoch 16/50\n",
      "\u001b[1m20/20\u001b[0m \u001b[32m━━━━━━━━━━━━━━━━━━━━\u001b[0m\u001b[37m\u001b[0m \u001b[1m0s\u001b[0m 2s/step - accuracy: 0.2561 - loss: 1.8334\n",
      "Epoch 16: val_loss did not improve from 1.81707\n",
      "\u001b[1m20/20\u001b[0m \u001b[32m━━━━━━━━━━━━━━━━━━━━\u001b[0m\u001b[37m\u001b[0m \u001b[1m45s\u001b[0m 2s/step - accuracy: 0.2550 - loss: 1.8345 - val_accuracy: 0.2667 - val_loss: 1.8449\n",
      "Epoch 17/50\n",
      "\u001b[1m20/20\u001b[0m \u001b[32m━━━━━━━━━━━━━━━━━━━━\u001b[0m\u001b[37m\u001b[0m \u001b[1m0s\u001b[0m 2s/step - accuracy: 0.2455 - loss: 1.8540\n",
      "Epoch 17: val_loss did not improve from 1.81707\n",
      "\u001b[1m20/20\u001b[0m \u001b[32m━━━━━━━━━━━━━━━━━━━━\u001b[0m\u001b[37m\u001b[0m \u001b[1m44s\u001b[0m 2s/step - accuracy: 0.2453 - loss: 1.8539 - val_accuracy: 0.2571 - val_loss: 1.8246\n",
      "Epoch 18/50\n",
      "\u001b[1m20/20\u001b[0m \u001b[32m━━━━━━━━━━━━━━━━━━━━\u001b[0m\u001b[37m\u001b[0m \u001b[1m0s\u001b[0m 2s/step - accuracy: 0.2276 - loss: 1.8622\n",
      "Epoch 18: val_loss did not improve from 1.81707\n",
      "\u001b[1m20/20\u001b[0m \u001b[32m━━━━━━━━━━━━━━━━━━━━\u001b[0m\u001b[37m\u001b[0m \u001b[1m44s\u001b[0m 2s/step - accuracy: 0.2273 - loss: 1.8620 - val_accuracy: 0.2667 - val_loss: 1.8208\n",
      "Epoch 19/50\n",
      "\u001b[1m20/20\u001b[0m \u001b[32m━━━━━━━━━━━━━━━━━━━━\u001b[0m\u001b[37m\u001b[0m \u001b[1m0s\u001b[0m 2s/step - accuracy: 0.2323 - loss: 1.8491\n",
      "Epoch 19: val_loss improved from 1.81707 to 1.81474, saving model to ./model_augmented_data_best.weights.h5\n",
      "\u001b[1m20/20\u001b[0m \u001b[32m━━━━━━━━━━━━━━━━━━━━\u001b[0m\u001b[37m\u001b[0m \u001b[1m45s\u001b[0m 2s/step - accuracy: 0.2327 - loss: 1.8494 - val_accuracy: 0.2905 - val_loss: 1.8147\n",
      "Epoch 20/50\n",
      "\u001b[1m20/20\u001b[0m \u001b[32m━━━━━━━━━━━━━━━━━━━━\u001b[0m\u001b[37m\u001b[0m \u001b[1m0s\u001b[0m 2s/step - accuracy: 0.2756 - loss: 1.8331\n",
      "Epoch 20: val_loss did not improve from 1.81474\n",
      "\u001b[1m20/20\u001b[0m \u001b[32m━━━━━━━━━━━━━━━━━━━━\u001b[0m\u001b[37m\u001b[0m \u001b[1m44s\u001b[0m 2s/step - accuracy: 0.2739 - loss: 1.8331 - val_accuracy: 0.2571 - val_loss: 1.8166\n",
      "Epoch 21/50\n",
      "\u001b[1m20/20\u001b[0m \u001b[32m━━━━━━━━━━━━━━━━━━━━\u001b[0m\u001b[37m\u001b[0m \u001b[1m0s\u001b[0m 2s/step - accuracy: 0.2559 - loss: 1.8406\n",
      "Epoch 21: val_loss improved from 1.81474 to 1.80352, saving model to ./model_augmented_data_best.weights.h5\n",
      "\u001b[1m20/20\u001b[0m \u001b[32m━━━━━━━━━━━━━━━━━━━━\u001b[0m\u001b[37m\u001b[0m \u001b[1m45s\u001b[0m 2s/step - accuracy: 0.2559 - loss: 1.8406 - val_accuracy: 0.2524 - val_loss: 1.8035\n",
      "Epoch 22/50\n",
      "\u001b[1m20/20\u001b[0m \u001b[32m━━━━━━━━━━━━━━━━━━━━\u001b[0m\u001b[37m\u001b[0m \u001b[1m0s\u001b[0m 2s/step - accuracy: 0.2213 - loss: 1.8550\n",
      "Epoch 22: val_loss improved from 1.80352 to 1.79597, saving model to ./model_augmented_data_best.weights.h5\n",
      "\u001b[1m20/20\u001b[0m \u001b[32m━━━━━━━━━━━━━━━━━━━━\u001b[0m\u001b[37m\u001b[0m \u001b[1m45s\u001b[0m 2s/step - accuracy: 0.2220 - loss: 1.8541 - val_accuracy: 0.2905 - val_loss: 1.7960\n",
      "Epoch 23/50\n",
      "\u001b[1m20/20\u001b[0m \u001b[32m━━━━━━━━━━━━━━━━━━━━\u001b[0m\u001b[37m\u001b[0m \u001b[1m0s\u001b[0m 2s/step - accuracy: 0.2524 - loss: 1.8417\n",
      "Epoch 23: val_loss did not improve from 1.79597\n",
      "\u001b[1m20/20\u001b[0m \u001b[32m━━━━━━━━━━━━━━━━━━━━\u001b[0m\u001b[37m\u001b[0m \u001b[1m44s\u001b[0m 2s/step - accuracy: 0.2517 - loss: 1.8423 - val_accuracy: 0.2571 - val_loss: 1.8104\n",
      "Epoch 24/50\n",
      "\u001b[1m20/20\u001b[0m \u001b[32m━━━━━━━━━━━━━━━━━━━━\u001b[0m\u001b[37m\u001b[0m \u001b[1m0s\u001b[0m 2s/step - accuracy: 0.2461 - loss: 1.8456\n",
      "Epoch 24: val_loss did not improve from 1.79597\n",
      "\u001b[1m20/20\u001b[0m \u001b[32m━━━━━━━━━━━━━━━━━━━━\u001b[0m\u001b[37m\u001b[0m \u001b[1m44s\u001b[0m 2s/step - accuracy: 0.2469 - loss: 1.8448 - val_accuracy: 0.2905 - val_loss: 1.8036\n",
      "Epoch 25/50\n",
      "\u001b[1m20/20\u001b[0m \u001b[32m━━━━━━━━━━━━━━━━━━━━\u001b[0m\u001b[37m\u001b[0m \u001b[1m0s\u001b[0m 2s/step - accuracy: 0.2625 - loss: 1.8304\n",
      "Epoch 25: val_loss improved from 1.79597 to 1.79395, saving model to ./model_augmented_data_best.weights.h5\n",
      "\u001b[1m20/20\u001b[0m \u001b[32m━━━━━━━━━━━━━━━━━━━━\u001b[0m\u001b[37m\u001b[0m \u001b[1m45s\u001b[0m 2s/step - accuracy: 0.2627 - loss: 1.8309 - val_accuracy: 0.2619 - val_loss: 1.7940\n",
      "Epoch 26/50\n",
      "\u001b[1m20/20\u001b[0m \u001b[32m━━━━━━━━━━━━━━━━━━━━\u001b[0m\u001b[37m\u001b[0m \u001b[1m0s\u001b[0m 2s/step - accuracy: 0.2699 - loss: 1.8341\n",
      "Epoch 26: val_loss improved from 1.79395 to 1.79287, saving model to ./model_augmented_data_best.weights.h5\n",
      "\u001b[1m20/20\u001b[0m \u001b[32m━━━━━━━━━━━━━━━━━━━━\u001b[0m\u001b[37m\u001b[0m \u001b[1m45s\u001b[0m 2s/step - accuracy: 0.2701 - loss: 1.8339 - val_accuracy: 0.2571 - val_loss: 1.7929\n",
      "Epoch 27/50\n",
      "\u001b[1m20/20\u001b[0m \u001b[32m━━━━━━━━━━━━━━━━━━━━\u001b[0m\u001b[37m\u001b[0m \u001b[1m0s\u001b[0m 2s/step - accuracy: 0.2613 - loss: 1.8192\n",
      "Epoch 27: val_loss improved from 1.79287 to 1.77960, saving model to ./model_augmented_data_best.weights.h5\n",
      "\u001b[1m20/20\u001b[0m \u001b[32m━━━━━━━━━━━━━━━━━━━━\u001b[0m\u001b[37m\u001b[0m \u001b[1m45s\u001b[0m 2s/step - accuracy: 0.2615 - loss: 1.8185 - val_accuracy: 0.2905 - val_loss: 1.7796\n",
      "Epoch 28/50\n",
      "\u001b[1m20/20\u001b[0m \u001b[32m━━━━━━━━━━━━━━━━━━━━\u001b[0m\u001b[37m\u001b[0m \u001b[1m0s\u001b[0m 2s/step - accuracy: 0.2239 - loss: 1.8523\n",
      "Epoch 28: val_loss improved from 1.77960 to 1.76688, saving model to ./model_augmented_data_best.weights.h5\n",
      "\u001b[1m20/20\u001b[0m \u001b[32m━━━━━━━━━━━━━━━━━━━━\u001b[0m\u001b[37m\u001b[0m \u001b[1m45s\u001b[0m 2s/step - accuracy: 0.2246 - loss: 1.8517 - val_accuracy: 0.3143 - val_loss: 1.7669\n",
      "Epoch 29/50\n",
      "\u001b[1m20/20\u001b[0m \u001b[32m━━━━━━━━━━━━━━━━━━━━\u001b[0m\u001b[37m\u001b[0m \u001b[1m0s\u001b[0m 2s/step - accuracy: 0.2759 - loss: 1.7930\n",
      "Epoch 29: val_loss did not improve from 1.76688\n",
      "\u001b[1m20/20\u001b[0m \u001b[32m━━━━━━━━━━━━━━━━━━━━\u001b[0m\u001b[37m\u001b[0m \u001b[1m44s\u001b[0m 2s/step - accuracy: 0.2753 - loss: 1.7940 - val_accuracy: 0.2810 - val_loss: 1.7762\n",
      "Epoch 30/50\n",
      "\u001b[1m20/20\u001b[0m \u001b[32m━━━━━━━━━━━━━━━━━━━━\u001b[0m\u001b[37m\u001b[0m \u001b[1m0s\u001b[0m 2s/step - accuracy: 0.2398 - loss: 1.8390\n",
      "Epoch 30: val_loss did not improve from 1.76688\n",
      "\u001b[1m20/20\u001b[0m \u001b[32m━━━━━━━━━━━━━━━━━━━━\u001b[0m\u001b[37m\u001b[0m \u001b[1m44s\u001b[0m 2s/step - accuracy: 0.2409 - loss: 1.8382 - val_accuracy: 0.2762 - val_loss: 1.7745\n",
      "Epoch 31/50\n",
      "\u001b[1m20/20\u001b[0m \u001b[32m━━━━━━━━━━━━━━━━━━━━\u001b[0m\u001b[37m\u001b[0m \u001b[1m0s\u001b[0m 2s/step - accuracy: 0.2623 - loss: 1.8237\n",
      "Epoch 31: val_loss did not improve from 1.76688\n",
      "\u001b[1m20/20\u001b[0m \u001b[32m━━━━━━━━━━━━━━━━━━━━\u001b[0m\u001b[37m\u001b[0m \u001b[1m44s\u001b[0m 2s/step - accuracy: 0.2634 - loss: 1.8233 - val_accuracy: 0.3143 - val_loss: 1.7672\n",
      "Epoch 32/50\n",
      "\u001b[1m20/20\u001b[0m \u001b[32m━━━━━━━━━━━━━━━━━━━━\u001b[0m\u001b[37m\u001b[0m \u001b[1m0s\u001b[0m 2s/step - accuracy: 0.2770 - loss: 1.7907\n",
      "Epoch 32: val_loss improved from 1.76688 to 1.75774, saving model to ./model_augmented_data_best.weights.h5\n",
      "\u001b[1m20/20\u001b[0m \u001b[32m━━━━━━━━━━━━━━━━━━━━\u001b[0m\u001b[37m\u001b[0m \u001b[1m45s\u001b[0m 2s/step - accuracy: 0.2766 - loss: 1.7914 - val_accuracy: 0.3095 - val_loss: 1.7577\n",
      "Epoch 33/50\n",
      "\u001b[1m20/20\u001b[0m \u001b[32m━━━━━━━━━━━━━━━━━━━━\u001b[0m\u001b[37m\u001b[0m \u001b[1m0s\u001b[0m 2s/step - accuracy: 0.2730 - loss: 1.7944\n",
      "Epoch 33: val_loss did not improve from 1.75774\n",
      "\u001b[1m20/20\u001b[0m \u001b[32m━━━━━━━━━━━━━━━━━━━━\u001b[0m\u001b[37m\u001b[0m \u001b[1m44s\u001b[0m 2s/step - accuracy: 0.2718 - loss: 1.7956 - val_accuracy: 0.2857 - val_loss: 1.7770\n",
      "Epoch 34/50\n",
      "\u001b[1m20/20\u001b[0m \u001b[32m━━━━━━━━━━━━━━━━━━━━\u001b[0m\u001b[37m\u001b[0m \u001b[1m0s\u001b[0m 2s/step - accuracy: 0.2339 - loss: 1.8502\n",
      "Epoch 34: val_loss did not improve from 1.75774\n",
      "\u001b[1m20/20\u001b[0m \u001b[32m━━━━━━━━━━━━━━━━━━━━\u001b[0m\u001b[37m\u001b[0m \u001b[1m44s\u001b[0m 2s/step - accuracy: 0.2354 - loss: 1.8490 - val_accuracy: 0.2619 - val_loss: 1.7784\n",
      "Epoch 35/50\n",
      "\u001b[1m20/20\u001b[0m \u001b[32m━━━━━━━━━━━━━━━━━━━━\u001b[0m\u001b[37m\u001b[0m \u001b[1m0s\u001b[0m 2s/step - accuracy: 0.2342 - loss: 1.8238\n",
      "Epoch 35: val_loss did not improve from 1.75774\n",
      "\u001b[1m20/20\u001b[0m \u001b[32m━━━━━━━━━━━━━━━━━━━━\u001b[0m\u001b[37m\u001b[0m \u001b[1m44s\u001b[0m 2s/step - accuracy: 0.2352 - loss: 1.8233 - val_accuracy: 0.2857 - val_loss: 1.7689\n",
      "Epoch 36/50\n",
      "\u001b[1m20/20\u001b[0m \u001b[32m━━━━━━━━━━━━━━━━━━━━\u001b[0m\u001b[37m\u001b[0m \u001b[1m0s\u001b[0m 2s/step - accuracy: 0.2383 - loss: 1.8299\n",
      "Epoch 36: val_loss did not improve from 1.75774\n",
      "\u001b[1m20/20\u001b[0m \u001b[32m━━━━━━━━━━━━━━━━━━━━\u001b[0m\u001b[37m\u001b[0m \u001b[1m46s\u001b[0m 2s/step - accuracy: 0.2392 - loss: 1.8294 - val_accuracy: 0.3048 - val_loss: 1.7579\n",
      "Epoch 37/50\n",
      "\u001b[1m20/20\u001b[0m \u001b[32m━━━━━━━━━━━━━━━━━━━━\u001b[0m\u001b[37m\u001b[0m \u001b[1m0s\u001b[0m 2s/step - accuracy: 0.2515 - loss: 1.8256\n",
      "Epoch 37: val_loss did not improve from 1.75774\n",
      "\u001b[1m20/20\u001b[0m \u001b[32m━━━━━━━━━━━━━━━━━━━━\u001b[0m\u001b[37m\u001b[0m \u001b[1m45s\u001b[0m 2s/step - accuracy: 0.2514 - loss: 1.8254 - val_accuracy: 0.2857 - val_loss: 1.7591\n",
      "Epoch 37: early stopping\n"
     ]
    }
   ],
   "source": [
    "# Utilisation des générateurs dans l'entraînement du modèle\n",
    "model_augmented_data, history_augmented_data, duration_augmented_data = train_model_augmented_data(model_inceptionresnetv2, train_generator,\n",
    "                                                                                                   validation_generator,\n",
    "                                                                                                   \"./model_augmented_data_best.weights.h5\")"
   ]
  },
  {
   "cell_type": "code",
   "execution_count": 46,
   "id": "6635305d-d600-4775-a20d-88b7423b47f2",
   "metadata": {},
   "outputs": [
    {
     "name": "stdout",
     "output_type": "stream",
     "text": [
      "\u001b[1m20/20\u001b[0m \u001b[32m━━━━━━━━━━━━━━━━━━━━\u001b[0m\u001b[37m\u001b[0m \u001b[1m35s\u001b[0m 2s/step - accuracy: 0.2730 - loss: 1.7932\n",
      "Training Accuracy (best): 0.2825\n",
      "\u001b[1m7/7\u001b[0m \u001b[32m━━━━━━━━━━━━━━━━━━━━\u001b[0m\u001b[37m\u001b[0m \u001b[1m9s\u001b[0m 1s/step - accuracy: 0.3132 - loss: 1.7744\n",
      "Validation Accuracy (best): 0.3095\n",
      "\u001b[1m7/7\u001b[0m \u001b[32m━━━━━━━━━━━━━━━━━━━━\u001b[0m\u001b[37m\u001b[0m \u001b[1m9s\u001b[0m 1s/step - accuracy: 0.3750 - loss: 3.9611\n",
      "Test Accuracy (best): 0.3429\n",
      "\u001b[1m7/7\u001b[0m \u001b[32m━━━━━━━━━━━━━━━━━━━━\u001b[0m\u001b[37m\u001b[0m \u001b[1m9s\u001b[0m 1s/step\n",
      "Adjusted Rand Index (ARI): 0.2452\n"
     ]
    }
   ],
   "source": [
    "# Exemple d'appel à la fonction\n",
    "loss_augmented_data, accuracy_augmented_data, ari_score_augmented_data = evaluate_model_with_generators(model_iresnetv2,\n",
    "                                                                                                        train_generator,\n",
    "                                                                                                        validation_generator,\n",
    "                                                                                                        X_test_inceptionresnetv2,\n",
    "                                                                                                        y_test,\n",
    "                                                                                                        best_weights_path=\"./model_augmented_data_best.weights.h5\"\n",
    "                                                                                                       )\n"
   ]
  },
  {
   "cell_type": "code",
   "execution_count": 47,
   "id": "7e4f40f7-a6a4-4c75-b00b-d7ba914854a1",
   "metadata": {},
   "outputs": [],
   "source": [
    "add_results('InceptionResNetV2(Augmented Data)', loss_augmented_data, accuracy_augmented_data,\n",
    "            ari_score_augmented_data, duration_augmented_data)\n",
    "data_metrics = pd.DataFrame(data_results)"
   ]
  },
  {
   "cell_type": "code",
   "execution_count": 48,
   "id": "68557ba9-1a95-475b-9756-ea6818b3a631",
   "metadata": {},
   "outputs": [
    {
     "data": {
      "text/html": [
       "<div>\n",
       "<style scoped>\n",
       "    .dataframe tbody tr th:only-of-type {\n",
       "        vertical-align: middle;\n",
       "    }\n",
       "\n",
       "    .dataframe tbody tr th {\n",
       "        vertical-align: top;\n",
       "    }\n",
       "\n",
       "    .dataframe thead th {\n",
       "        text-align: right;\n",
       "    }\n",
       "</style>\n",
       "<table border=\"1\" class=\"dataframe\">\n",
       "  <thead>\n",
       "    <tr style=\"text-align: right;\">\n",
       "      <th></th>\n",
       "      <th>Model</th>\n",
       "      <th>Metric</th>\n",
       "      <th>Score</th>\n",
       "    </tr>\n",
       "  </thead>\n",
       "  <tbody>\n",
       "    <tr>\n",
       "      <th>0</th>\n",
       "      <td>VGG16</td>\n",
       "      <td>Loss</td>\n",
       "      <td>0.768992</td>\n",
       "    </tr>\n",
       "    <tr>\n",
       "      <th>1</th>\n",
       "      <td>VGG16</td>\n",
       "      <td>Accuracy</td>\n",
       "      <td>0.814286</td>\n",
       "    </tr>\n",
       "    <tr>\n",
       "      <th>2</th>\n",
       "      <td>VGG16</td>\n",
       "      <td>Adjusted Rand Score</td>\n",
       "      <td>0.634113</td>\n",
       "    </tr>\n",
       "    <tr>\n",
       "      <th>3</th>\n",
       "      <td>VGG16</td>\n",
       "      <td>Duration (en heures)</td>\n",
       "      <td>0.012481</td>\n",
       "    </tr>\n",
       "    <tr>\n",
       "      <th>4</th>\n",
       "      <td>InceptionResNetV2</td>\n",
       "      <td>Loss</td>\n",
       "      <td>0.462991</td>\n",
       "    </tr>\n",
       "    <tr>\n",
       "      <th>5</th>\n",
       "      <td>InceptionResNetV2</td>\n",
       "      <td>Accuracy</td>\n",
       "      <td>0.895238</td>\n",
       "    </tr>\n",
       "    <tr>\n",
       "      <th>6</th>\n",
       "      <td>InceptionResNetV2</td>\n",
       "      <td>Adjusted Rand Score</td>\n",
       "      <td>0.790696</td>\n",
       "    </tr>\n",
       "    <tr>\n",
       "      <th>7</th>\n",
       "      <td>InceptionResNetV2</td>\n",
       "      <td>Duration (en heures)</td>\n",
       "      <td>0.029298</td>\n",
       "    </tr>\n",
       "    <tr>\n",
       "      <th>8</th>\n",
       "      <td>DenseNet201</td>\n",
       "      <td>Loss</td>\n",
       "      <td>0.473116</td>\n",
       "    </tr>\n",
       "    <tr>\n",
       "      <th>9</th>\n",
       "      <td>DenseNet201</td>\n",
       "      <td>Accuracy</td>\n",
       "      <td>0.876190</td>\n",
       "    </tr>\n",
       "    <tr>\n",
       "      <th>10</th>\n",
       "      <td>DenseNet201</td>\n",
       "      <td>Adjusted Rand Score</td>\n",
       "      <td>0.736671</td>\n",
       "    </tr>\n",
       "    <tr>\n",
       "      <th>11</th>\n",
       "      <td>DenseNet201</td>\n",
       "      <td>Duration (en heures)</td>\n",
       "      <td>0.122244</td>\n",
       "    </tr>\n",
       "    <tr>\n",
       "      <th>12</th>\n",
       "      <td>InceptionResNetV2(HP)</td>\n",
       "      <td>Loss</td>\n",
       "      <td>0.680225</td>\n",
       "    </tr>\n",
       "    <tr>\n",
       "      <th>13</th>\n",
       "      <td>InceptionResNetV2(HP)</td>\n",
       "      <td>Accuracy</td>\n",
       "      <td>0.890476</td>\n",
       "    </tr>\n",
       "    <tr>\n",
       "      <th>14</th>\n",
       "      <td>InceptionResNetV2(HP)</td>\n",
       "      <td>Adjusted Rand Score</td>\n",
       "      <td>0.776589</td>\n",
       "    </tr>\n",
       "    <tr>\n",
       "      <th>15</th>\n",
       "      <td>InceptionResNetV2(HP)</td>\n",
       "      <td>Duration (en heures)</td>\n",
       "      <td>0.045489</td>\n",
       "    </tr>\n",
       "    <tr>\n",
       "      <th>16</th>\n",
       "      <td>VGG16(Augmented Data)</td>\n",
       "      <td>Loss</td>\n",
       "      <td>4.124536</td>\n",
       "    </tr>\n",
       "    <tr>\n",
       "      <th>17</th>\n",
       "      <td>VGG16(Augmented Data)</td>\n",
       "      <td>Accuracy</td>\n",
       "      <td>0.690476</td>\n",
       "    </tr>\n",
       "    <tr>\n",
       "      <th>18</th>\n",
       "      <td>VGG16(Augmented Data)</td>\n",
       "      <td>Adjusted Rand Score</td>\n",
       "      <td>0.435227</td>\n",
       "    </tr>\n",
       "    <tr>\n",
       "      <th>19</th>\n",
       "      <td>VGG16(Augmented Data)</td>\n",
       "      <td>Duration (en heures)</td>\n",
       "      <td>0.219281</td>\n",
       "    </tr>\n",
       "    <tr>\n",
       "      <th>20</th>\n",
       "      <td>InceptionResNetV2(Augmented Data)</td>\n",
       "      <td>Loss</td>\n",
       "      <td>4.236919</td>\n",
       "    </tr>\n",
       "    <tr>\n",
       "      <th>21</th>\n",
       "      <td>InceptionResNetV2(Augmented Data)</td>\n",
       "      <td>Accuracy</td>\n",
       "      <td>0.342857</td>\n",
       "    </tr>\n",
       "    <tr>\n",
       "      <th>22</th>\n",
       "      <td>InceptionResNetV2(Augmented Data)</td>\n",
       "      <td>Adjusted Rand Score</td>\n",
       "      <td>0.245225</td>\n",
       "    </tr>\n",
       "    <tr>\n",
       "      <th>23</th>\n",
       "      <td>InceptionResNetV2(Augmented Data)</td>\n",
       "      <td>Duration (en heures)</td>\n",
       "      <td>0.460435</td>\n",
       "    </tr>\n",
       "  </tbody>\n",
       "</table>\n",
       "</div>"
      ],
      "text/plain": [
       "                                Model                Metric     Score\n",
       "0                               VGG16                  Loss  0.768992\n",
       "1                               VGG16              Accuracy  0.814286\n",
       "2                               VGG16   Adjusted Rand Score  0.634113\n",
       "3                               VGG16  Duration (en heures)  0.012481\n",
       "4                   InceptionResNetV2                  Loss  0.462991\n",
       "5                   InceptionResNetV2              Accuracy  0.895238\n",
       "6                   InceptionResNetV2   Adjusted Rand Score  0.790696\n",
       "7                   InceptionResNetV2  Duration (en heures)  0.029298\n",
       "8                         DenseNet201                  Loss  0.473116\n",
       "9                         DenseNet201              Accuracy  0.876190\n",
       "10                        DenseNet201   Adjusted Rand Score  0.736671\n",
       "11                        DenseNet201  Duration (en heures)  0.122244\n",
       "12              InceptionResNetV2(HP)                  Loss  0.680225\n",
       "13              InceptionResNetV2(HP)              Accuracy  0.890476\n",
       "14              InceptionResNetV2(HP)   Adjusted Rand Score  0.776589\n",
       "15              InceptionResNetV2(HP)  Duration (en heures)  0.045489\n",
       "16              VGG16(Augmented Data)                  Loss  4.124536\n",
       "17              VGG16(Augmented Data)              Accuracy  0.690476\n",
       "18              VGG16(Augmented Data)   Adjusted Rand Score  0.435227\n",
       "19              VGG16(Augmented Data)  Duration (en heures)  0.219281\n",
       "20  InceptionResNetV2(Augmented Data)                  Loss  4.236919\n",
       "21  InceptionResNetV2(Augmented Data)              Accuracy  0.342857\n",
       "22  InceptionResNetV2(Augmented Data)   Adjusted Rand Score  0.245225\n",
       "23  InceptionResNetV2(Augmented Data)  Duration (en heures)  0.460435"
      ]
     },
     "execution_count": 48,
     "metadata": {},
     "output_type": "execute_result"
    }
   ],
   "source": [
    "data_metrics"
   ]
  },
  {
   "cell_type": "code",
   "execution_count": 49,
   "id": "66e4f4a0-a86d-4996-97f2-d7fe420e7263",
   "metadata": {},
   "outputs": [
    {
     "data": {
      "image/png": "[encoded data removed]",
      "text/plain": [
       "<Figure size 1200x800 with 1 Axes>"
      ]
     },
     "metadata": {},
     "output_type": "display_data"
    }
   ],
   "source": [
    "plot_model_performance(data_metrics)"
   ]
  },
  {
   "cell_type": "markdown",
   "id": "9af99147-b247-4d9a-ae24-6b39bdb7d770",
   "metadata": {},
   "source": [
    "### IA Generative"
   ]
  },
  {
   "cell_type": "code",
   "execution_count": null,
   "id": "6411a1fe-a420-43a1-a789-40196cb3b54f",
   "metadata": {},
   "outputs": [],
   "source": []
  },
  {
   "cell_type": "code",
   "execution_count": null,
   "id": "cd016bfd-1368-4ba9-9319-702fbeb051cf",
   "metadata": {},
   "outputs": [],
   "source": []
  },
  {
   "cell_type": "code",
   "execution_count": null,
   "id": "9c636aee-6948-4190-882e-24ce18201976",
   "metadata": {},
   "outputs": [],
   "source": []
  }
 ],
 "metadata": {
  "kernelspec": {
   "display_name": "Python 3 (ipykernel)",
   "language": "python",
   "name": "python3"
  },
  "language_info": {
   "codemirror_mode": {
    "name": "ipython",
    "version": 3
   },
   "file_extension": ".py",
   "mimetype": "text/x-python",
   "name": "python",
   "nbconvert_exporter": "python",
   "pygments_lexer": "ipython3",
   "version": "3.12.0"
  }
 },
 "nbformat": 4,
 "nbformat_minor": 5
}
